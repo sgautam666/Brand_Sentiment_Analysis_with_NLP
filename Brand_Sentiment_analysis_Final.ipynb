{
 "cells": [
  {
   "cell_type": "code",
   "execution_count": 1,
   "metadata": {
    "hideCode": false,
    "hidePrompt": false
   },
   "outputs": [],
   "source": [
    "import numpy as np\n",
    "import pandas as pd\n",
    "import matplotlib.pyplot as plt\n",
    "import seaborn as sns\n",
    "%matplotlib inline\n",
    "sns.set_style('darkgrid')\n",
    "import os"
   ]
  },
  {
   "cell_type": "code",
   "execution_count": 414,
   "metadata": {
    "hideCode": false,
    "hidePrompt": false
   },
   "outputs": [],
   "source": [
    "import re\n",
    "import nltk\n",
    "import string\n",
    "from nltk import FreqDist\n",
    "from nltk.tokenize import sent_tokenize, word_tokenize\n",
    "from nltk.corpus import stopwords\n",
    "\n",
    "import codecs\n",
    "import unidecode\n",
    "import spacy\n",
    "nlp = spacy.load(\"en_core_web_sm\")\n",
    "\n",
    "from nltk.stem.snowball import SnowballStemmer\n",
    "from nltk.stem.wordnet import WordNetLemmatizer\n",
    "from textblob import TextBlob\n",
    "\n",
    "from sklearn.model_selection import train_test_split\n",
    "from sklearn.feature_extraction.text import TfidfVectorizer, TfidfTransformer, CountVectorizer\n",
    "from sklearn.ensemble import RandomForestClassifier\n",
    "import xgboost as XGB\n",
    "from xgboost import XGBClassifier\n",
    "from sklearn.naive_bayes import MultinomialNB\n",
    "from sklearn.metrics import confusion_matrix, classification_report,accuracy_score"
   ]
  },
  {
   "cell_type": "code",
   "execution_count": 307,
   "metadata": {
    "hideCode": false,
    "hidePrompt": false
   },
   "outputs": [],
   "source": [
    "import tensorflow as tf\n",
    "from tensorflow import keras\n",
    "from tensorflow.keras import layers, models, Sequential\n",
    "from tensorflow.keras.preprocessing.text import Tokenizer\n",
    "from tensorflow.keras.preprocessing.sequence import pad_sequences\n",
    "from tensorflow.keras.losses import CategoricalCrossentropy\n",
    "from tensorflow.keras.optimizers import Adam\n",
    "from tensorflow.keras.callbacks import EarlyStopping, ModelCheckpoint\n",
    "from tqdm import tqdm"
   ]
  },
  {
   "cell_type": "code",
   "execution_count": 4,
   "metadata": {
    "hideCode": false,
    "hidePrompt": false
   },
   "outputs": [
    {
     "name": "stdout",
     "output_type": "stream",
     "text": [
      "Default GPU Device: /device:GPU:0\n"
     ]
    }
   ],
   "source": [
    "# Check GPU status\n",
    "if tf.test.gpu_device_name(): \n",
    "    print('Default GPU Device: {}'.format(tf.test.gpu_device_name()))\n",
    "else:\n",
    "    print(\"Please install GPU version of TF\")"
   ]
  },
  {
   "cell_type": "code",
   "execution_count": null,
   "metadata": {
    "hideCode": false,
    "hidePrompt": false,
    "scrolled": true
   },
   "outputs": [],
   "source": [
    "nltk.download('stopwords')\n",
    "nltk.download('punkt')\n",
    "nltk.download('wordnet')"
   ]
  },
  {
   "cell_type": "code",
   "execution_count": 198,
   "metadata": {
    "hideCode": false,
    "hidePrompt": false
   },
   "outputs": [
    {
     "data": {
      "text/html": [
       "<div>\n",
       "<style scoped>\n",
       "    .dataframe tbody tr th:only-of-type {\n",
       "        vertical-align: middle;\n",
       "    }\n",
       "\n",
       "    .dataframe tbody tr th {\n",
       "        vertical-align: top;\n",
       "    }\n",
       "\n",
       "    .dataframe thead th {\n",
       "        text-align: right;\n",
       "    }\n",
       "</style>\n",
       "<table border=\"1\" class=\"dataframe\">\n",
       "  <thead>\n",
       "    <tr style=\"text-align: right;\">\n",
       "      <th></th>\n",
       "      <th>tweet_text</th>\n",
       "      <th>emotion_in_tweet_is_directed_at</th>\n",
       "      <th>is_there_an_emotion_directed_at_a_brand_or_product</th>\n",
       "    </tr>\n",
       "  </thead>\n",
       "  <tbody>\n",
       "    <tr>\n",
       "      <th>0</th>\n",
       "      <td>.@wesley83 I have a 3G iPhone. After 3 hrs twe...</td>\n",
       "      <td>iPhone</td>\n",
       "      <td>Negative emotion</td>\n",
       "    </tr>\n",
       "    <tr>\n",
       "      <th>1</th>\n",
       "      <td>@jessedee Know about @fludapp ? Awesome iPad/i...</td>\n",
       "      <td>iPad or iPhone App</td>\n",
       "      <td>Positive emotion</td>\n",
       "    </tr>\n",
       "    <tr>\n",
       "      <th>2</th>\n",
       "      <td>@swonderlin Can not wait for #iPad 2 also. The...</td>\n",
       "      <td>iPad</td>\n",
       "      <td>Positive emotion</td>\n",
       "    </tr>\n",
       "    <tr>\n",
       "      <th>3</th>\n",
       "      <td>@sxsw I hope this year's festival isn't as cra...</td>\n",
       "      <td>iPad or iPhone App</td>\n",
       "      <td>Negative emotion</td>\n",
       "    </tr>\n",
       "    <tr>\n",
       "      <th>4</th>\n",
       "      <td>@sxtxstate great stuff on Fri #SXSW: Marissa M...</td>\n",
       "      <td>Google</td>\n",
       "      <td>Positive emotion</td>\n",
       "    </tr>\n",
       "  </tbody>\n",
       "</table>\n",
       "</div>"
      ],
      "text/plain": [
       "                                          tweet_text  \\\n",
       "0  .@wesley83 I have a 3G iPhone. After 3 hrs twe...   \n",
       "1  @jessedee Know about @fludapp ? Awesome iPad/i...   \n",
       "2  @swonderlin Can not wait for #iPad 2 also. The...   \n",
       "3  @sxsw I hope this year's festival isn't as cra...   \n",
       "4  @sxtxstate great stuff on Fri #SXSW: Marissa M...   \n",
       "\n",
       "  emotion_in_tweet_is_directed_at  \\\n",
       "0                          iPhone   \n",
       "1              iPad or iPhone App   \n",
       "2                            iPad   \n",
       "3              iPad or iPhone App   \n",
       "4                          Google   \n",
       "\n",
       "  is_there_an_emotion_directed_at_a_brand_or_product  \n",
       "0                                   Negative emotion  \n",
       "1                                   Positive emotion  \n",
       "2                                   Positive emotion  \n",
       "3                                   Negative emotion  \n",
       "4                                   Positive emotion  "
      ]
     },
     "execution_count": 198,
     "metadata": {},
     "output_type": "execute_result"
    }
   ],
   "source": [
    "data = pd.read_csv(\"D:/FLATIRON/Projects/Sentiment_Analysis/judge-1377884607_tweet_product_company.csv\", \n",
    "                       encoding='unicode_escape')\n",
    "data.head()"
   ]
  },
  {
   "cell_type": "code",
   "execution_count": 199,
   "metadata": {
    "hideCode": false,
    "hidePrompt": false
   },
   "outputs": [
    {
     "name": "stdout",
     "output_type": "stream",
     "text": [
      "<class 'pandas.core.frame.DataFrame'>\n",
      "RangeIndex: 9093 entries, 0 to 9092\n",
      "Data columns (total 3 columns):\n",
      " #   Column                                              Non-Null Count  Dtype \n",
      "---  ------                                              --------------  ----- \n",
      " 0   tweet_text                                          9092 non-null   object\n",
      " 1   emotion_in_tweet_is_directed_at                     3291 non-null   object\n",
      " 2   is_there_an_emotion_directed_at_a_brand_or_product  9093 non-null   object\n",
      "dtypes: object(3)\n",
      "memory usage: 213.2+ KB\n"
     ]
    }
   ],
   "source": [
    "data.info()"
   ]
  },
  {
   "cell_type": "code",
   "execution_count": 200,
   "metadata": {
    "hideCode": false,
    "hidePrompt": false,
    "scrolled": false
   },
   "outputs": [
    {
     "data": {
      "text/plain": [
       "<AxesSubplot:xlabel='is_there_an_emotion_directed_at_a_brand_or_product', ylabel='count'>"
      ]
     },
     "execution_count": 200,
     "metadata": {},
     "output_type": "execute_result"
    },
    {
     "data": {
      "image/png": "[encoded data removed]",
      "text/plain": [
       "<Figure size 864x432 with 1 Axes>"
      ]
     },
     "metadata": {},
     "output_type": "display_data"
    }
   ],
   "source": [
    "fig =  plt.figure(figsize=(12,6))\n",
    "sns.countplot(x='is_there_an_emotion_directed_at_a_brand_or_product', data=data)"
   ]
  },
  {
   "cell_type": "markdown",
   "metadata": {
    "hideCode": false,
    "hidePrompt": false
   },
   "source": [
    "There are altogether four sentiment classes in which neutral type of emotion ('No emotion...') is more prevalent. We can also see the sentiment 'I can't tell' constitutes only tiny portion of the data. Sentiment wise, this might be closer to the neutral type in which case we may  combine this to the neutral class. However, this class is already a majority class which is already causing huge imbalance in the dataset. So, we will drop the data with this class label."
   ]
  },
  {
   "cell_type": "code",
   "execution_count": 8,
   "metadata": {
    "hideCode": false,
    "hidePrompt": false
   },
   "outputs": [
    {
     "data": {
      "image/png": "[encoded data removed]",
      "text/plain": [
       "<Figure size 864x432 with 1 Axes>"
      ]
     },
     "metadata": {},
     "output_type": "display_data"
    }
   ],
   "source": [
    "fig =  plt.figure(figsize=(12,6))\n",
    "sns.countplot(x='emotion_in_tweet_is_directed_at', data=data)\n",
    "plt.xticks(rotation=45);"
   ]
  },
  {
   "cell_type": "markdown",
   "metadata": {
    "hideCode": false,
    "hidePrompt": false
   },
   "source": [
    "The tweet data are dispersed into several brands under Apple and Google. We will consolidate these information into these two major brands."
   ]
  },
  {
   "cell_type": "markdown",
   "metadata": {
    "hideCode": false,
    "hidePrompt": false
   },
   "source": [
    "### Data Preparation"
   ]
  },
  {
   "cell_type": "code",
   "execution_count": 201,
   "metadata": {
    "hideCode": false,
    "hidePrompt": false
   },
   "outputs": [],
   "source": [
    "# Create a working dataframe with easier column name\n",
    "df = data.copy(deep=True)\n",
    "df.drop_duplicates(subset=['tweet_text'], inplace=True)\n",
    "df.dropna(subset=['tweet_text'], inplace=True)\n",
    "df.rename(columns = {'emotion_in_tweet_is_directed_at':'brand_item', 'is_there_an_emotion_directed_at_a_brand_or_product':'emotion'}, inplace=True)\n",
    "\n",
    "# Convert the data types to string\n",
    "df['tweet_text'] = df['tweet_text'].astype(str)\n",
    "df['brand_item'] = df['brand_item'].astype(str)\n",
    "\n",
    "# Brand name mapping\n",
    "brand = {'iPhone': 'apple',\n",
    "         'iPad or iPhone App':'apple',\n",
    "         'iPad': 'apple',\n",
    "         'Google': 'google',\n",
    "         'nan': 'UNK',\n",
    "         'Android':'google',\n",
    "         'Apple': 'apple',\n",
    "         'Android App':'google',\n",
    "         'Other Google product or service':'google',\n",
    "         'Other Apple product or service':'apple'\n",
    "        }\n",
    "\n",
    "df['brand_name'] = df['brand_item'].map(brand)\n",
    "\n",
    "# Encoding class label to brief\n",
    "label_encoder = {'Negative emotion': 'negative',\n",
    "                 'Positive emotion': 'positive',\n",
    "                 'No emotion toward brand or product': 'neutral',\n",
    "                 \"I can't tell\":'confused'}\n",
    "\n",
    "df['emotion'] = df['emotion'].map(label_encoder)\n",
    "df = df[df['emotion'] != 'confused']    # drop the rows containing 'confused' labels"
   ]
  },
  {
   "cell_type": "code",
   "execution_count": 202,
   "metadata": {
    "hideCode": false,
    "hidePrompt": false
   },
   "outputs": [
    {
     "data": {
      "text/plain": [
       "<AxesSubplot:xlabel='emotion', ylabel='count'>"
      ]
     },
     "execution_count": 202,
     "metadata": {},
     "output_type": "execute_result"
    },
    {
     "data": {
      "image/png": "[encoded data removed]",
      "text/plain": [
       "<Figure size 864x432 with 1 Axes>"
      ]
     },
     "metadata": {},
     "output_type": "display_data"
    }
   ],
   "source": [
    "fig =  plt.figure(figsize=(12,6))\n",
    "sns.countplot(x='emotion', data=df)"
   ]
  },
  {
   "cell_type": "code",
   "execution_count": 203,
   "metadata": {
    "hideCode": false,
    "hidePrompt": false
   },
   "outputs": [
    {
     "data": {
      "image/png": "[encoded data removed]",
      "text/plain": [
       "<Figure size 864x432 with 1 Axes>"
      ]
     },
     "metadata": {},
     "output_type": "display_data"
    }
   ],
   "source": [
    "fig =  plt.figure(figsize=(12,6))\n",
    "sns.countplot(x='brand_name', data=df)\n",
    "plt.xticks(rotation=45);"
   ]
  },
  {
   "cell_type": "markdown",
   "metadata": {
    "hideCode": false,
    "hidePrompt": false
   },
   "source": [
    "We can see, the number of tweets associated with the Apple is far greater than Google. So, we will need to use a % difference between these two brands when comparing against one another."
   ]
  },
  {
   "cell_type": "code",
   "execution_count": 204,
   "metadata": {
    "hideCode": false,
    "hidePrompt": false
   },
   "outputs": [
    {
     "data": {
      "image/png": "[encoded data removed]",
      "text/plain": [
       "<Figure size 864x432 with 1 Axes>"
      ]
     },
     "metadata": {},
     "output_type": "display_data"
    }
   ],
   "source": [
    "plt.figure(figsize=(12,6))\n",
    "ax = sns.countplot(data=df, x = 'emotion', hue='brand_name')"
   ]
  },
  {
   "cell_type": "markdown",
   "metadata": {
    "hideCode": false,
    "hidePrompt": false
   },
   "source": [
    "### Data Augmentation"
   ]
  },
  {
   "cell_type": "code",
   "execution_count": 205,
   "metadata": {
    "hideCode": false,
    "hidePrompt": false
   },
   "outputs": [
    {
     "data": {
      "text/html": [
       "<div>\n",
       "<style scoped>\n",
       "    .dataframe tbody tr th:only-of-type {\n",
       "        vertical-align: middle;\n",
       "    }\n",
       "\n",
       "    .dataframe tbody tr th {\n",
       "        vertical-align: top;\n",
       "    }\n",
       "\n",
       "    .dataframe thead th {\n",
       "        text-align: right;\n",
       "    }\n",
       "</style>\n",
       "<table border=\"1\" class=\"dataframe\">\n",
       "  <thead>\n",
       "    <tr style=\"text-align: right;\">\n",
       "      <th></th>\n",
       "      <th>emotion</th>\n",
       "      <th>tweet_text</th>\n",
       "    </tr>\n",
       "  </thead>\n",
       "  <tbody>\n",
       "    <tr>\n",
       "      <th>0</th>\n",
       "      <td>negative</td>\n",
       "      <td>.@wesley83 I have a 3G iPhone. After 3 hrs twe...</td>\n",
       "    </tr>\n",
       "    <tr>\n",
       "      <th>1</th>\n",
       "      <td>positive</td>\n",
       "      <td>@jessedee Know about @fludapp ? Awesome iPad/i...</td>\n",
       "    </tr>\n",
       "    <tr>\n",
       "      <th>2</th>\n",
       "      <td>positive</td>\n",
       "      <td>@swonderlin Can not wait for #iPad 2 also. The...</td>\n",
       "    </tr>\n",
       "    <tr>\n",
       "      <th>3</th>\n",
       "      <td>negative</td>\n",
       "      <td>@sxsw I hope this year's festival isn't as cra...</td>\n",
       "    </tr>\n",
       "    <tr>\n",
       "      <th>4</th>\n",
       "      <td>positive</td>\n",
       "      <td>@sxtxstate great stuff on Fri #SXSW: Marissa M...</td>\n",
       "    </tr>\n",
       "  </tbody>\n",
       "</table>\n",
       "</div>"
      ],
      "text/plain": [
       "    emotion                                         tweet_text\n",
       "0  negative  .@wesley83 I have a 3G iPhone. After 3 hrs twe...\n",
       "1  positive  @jessedee Know about @fludapp ? Awesome iPad/i...\n",
       "2  positive  @swonderlin Can not wait for #iPad 2 also. The...\n",
       "3  negative  @sxsw I hope this year's festival isn't as cra...\n",
       "4  positive  @sxtxstate great stuff on Fri #SXSW: Marissa M..."
      ]
     },
     "execution_count": 205,
     "metadata": {},
     "output_type": "execute_result"
    }
   ],
   "source": [
    "df = df[['emotion', 'tweet_text']]\n",
    "df.head()"
   ]
  },
  {
   "cell_type": "code",
   "execution_count": null,
   "metadata": {
    "hideCode": false,
    "hidePrompt": false
   },
   "outputs": [],
   "source": [
    "data2 = pd.read_csv(\"D:/FLATIRON/Projects/Sentiment_Analysis/Apple-Twitter-Sentiment-DFE.csv\", \n",
    "                   encoding='unicode_escape')\n",
    "\n",
    "data2 = data2.loc[:, ('sentiment', 'text')].astype(str)\n",
    "data2_neg = data2.loc[data2['sentiment']=='1']\n",
    "data2_neg['sentiment'] = data2_neg.loc[:, ('sentiment')].apply(lambda x: 'negative')\n",
    "data2_neg.rename(columns = {'sentiment':'emotion', 'text':'tweet_text'}, inplace=True)"
   ]
  },
  {
   "cell_type": "code",
   "execution_count": 243,
   "metadata": {
    "hideCode": false,
    "hidePrompt": false
   },
   "outputs": [
    {
     "data": {
      "text/html": [
       "<div>\n",
       "<style scoped>\n",
       "    .dataframe tbody tr th:only-of-type {\n",
       "        vertical-align: middle;\n",
       "    }\n",
       "\n",
       "    .dataframe tbody tr th {\n",
       "        vertical-align: top;\n",
       "    }\n",
       "\n",
       "    .dataframe thead th {\n",
       "        text-align: right;\n",
       "    }\n",
       "</style>\n",
       "<table border=\"1\" class=\"dataframe\">\n",
       "  <thead>\n",
       "    <tr style=\"text-align: right;\">\n",
       "      <th></th>\n",
       "      <th>emotion</th>\n",
       "      <th>tweet_text</th>\n",
       "    </tr>\n",
       "  </thead>\n",
       "  <tbody>\n",
       "    <tr>\n",
       "      <th>10</th>\n",
       "      <td>negative</td>\n",
       "      <td>WTF MY BATTERY WAS 31% ONE SECOND AGO AND NOW ...</td>\n",
       "    </tr>\n",
       "    <tr>\n",
       "      <th>14</th>\n",
       "      <td>negative</td>\n",
       "      <td>@apple Contact sync between Yosemite and iOS8 ...</td>\n",
       "    </tr>\n",
       "    <tr>\n",
       "      <th>16</th>\n",
       "      <td>negative</td>\n",
       "      <td>WARNING IF YOU BUY AN IPHONE 5S UNLOCKED FROM ...</td>\n",
       "    </tr>\n",
       "    <tr>\n",
       "      <th>23</th>\n",
       "      <td>negative</td>\n",
       "      <td>@Apple, For the love of GAWD, CENTER the '1'on...</td>\n",
       "    </tr>\n",
       "    <tr>\n",
       "      <th>24</th>\n",
       "      <td>negative</td>\n",
       "      <td>i get the storage almost full notification lit...</td>\n",
       "    </tr>\n",
       "    <tr>\n",
       "      <th>...</th>\n",
       "      <td>...</td>\n",
       "      <td>...</td>\n",
       "    </tr>\n",
       "    <tr>\n",
       "      <th>3855</th>\n",
       "      <td>negative</td>\n",
       "      <td>RT @Ecofantasy: Thinking of upgrading to #Yose...</td>\n",
       "    </tr>\n",
       "    <tr>\n",
       "      <th>3857</th>\n",
       "      <td>negative</td>\n",
       "      <td>why isnt group facetime a thing @apple wtf</td>\n",
       "    </tr>\n",
       "    <tr>\n",
       "      <th>3877</th>\n",
       "      <td>negative</td>\n",
       "      <td>Being held hostage at @apple - They are replac...</td>\n",
       "    </tr>\n",
       "    <tr>\n",
       "      <th>3880</th>\n",
       "      <td>negative</td>\n",
       "      <td>hey @apple is it normal for my laptop charger ...</td>\n",
       "    </tr>\n",
       "    <tr>\n",
       "      <th>3884</th>\n",
       "      <td>negative</td>\n",
       "      <td>My iPhone 5's photos are no longer downloading...</td>\n",
       "    </tr>\n",
       "  </tbody>\n",
       "</table>\n",
       "<p>1219 rows × 2 columns</p>\n",
       "</div>"
      ],
      "text/plain": [
       "       emotion                                         tweet_text\n",
       "10    negative  WTF MY BATTERY WAS 31% ONE SECOND AGO AND NOW ...\n",
       "14    negative  @apple Contact sync between Yosemite and iOS8 ...\n",
       "16    negative  WARNING IF YOU BUY AN IPHONE 5S UNLOCKED FROM ...\n",
       "23    negative  @Apple, For the love of GAWD, CENTER the '1'on...\n",
       "24    negative  i get the storage almost full notification lit...\n",
       "...        ...                                                ...\n",
       "3855  negative  RT @Ecofantasy: Thinking of upgrading to #Yose...\n",
       "3857  negative         why isnt group facetime a thing @apple wtf\n",
       "3877  negative  Being held hostage at @apple - They are replac...\n",
       "3880  negative  hey @apple is it normal for my laptop charger ...\n",
       "3884  negative  My iPhone 5's photos are no longer downloading...\n",
       "\n",
       "[1219 rows x 2 columns]"
      ]
     },
     "execution_count": 243,
     "metadata": {},
     "output_type": "execute_result"
    }
   ],
   "source": [
    "data2_neg"
   ]
  },
  {
   "cell_type": "code",
   "execution_count": 244,
   "metadata": {
    "hideCode": false,
    "hidePrompt": false
   },
   "outputs": [],
   "source": [
    "df = df.append(data2_neg)"
   ]
  },
  {
   "cell_type": "code",
   "execution_count": 245,
   "metadata": {
    "hideCode": false,
    "hidePrompt": false
   },
   "outputs": [
    {
     "data": {
      "text/plain": [
       "<AxesSubplot:xlabel='emotion', ylabel='count'>"
      ]
     },
     "execution_count": 245,
     "metadata": {},
     "output_type": "execute_result"
    },
    {
     "data": {
      "image/png": "[encoded data removed]",
      "text/plain": [
       "<Figure size 864x432 with 1 Axes>"
      ]
     },
     "metadata": {},
     "output_type": "display_data"
    }
   ],
   "source": [
    "fig =  plt.figure(figsize=(12,6))\n",
    "sns.countplot(x='emotion', data=df)"
   ]
  },
  {
   "cell_type": "markdown",
   "metadata": {
    "hideCode": false,
    "hidePrompt": false
   },
   "source": [
    "### Text Preprocessing\n",
    "\n",
    "Before we start modeling, it is important to clean up the text data which may contain too many unnecessary letters, symbols. Let's check few example of current text in the data."
   ]
  },
  {
   "cell_type": "code",
   "execution_count": 123,
   "metadata": {
    "hideCode": false,
    "hidePrompt": false
   },
   "outputs": [
    {
     "data": {
      "text/plain": [
       "0     .@wesley83 I have a 3G iPhone. After 3 hrs twe...\n",
       "1     @jessedee Know about @fludapp ? Awesome iPad/i...\n",
       "2     @swonderlin Can not wait for #iPad 2 also. The...\n",
       "3     @sxsw I hope this year's festival isn't as cra...\n",
       "4     @sxtxstate great stuff on Fri #SXSW: Marissa M...\n",
       "5     @teachntech00 New iPad Apps For #SpeechTherapy...\n",
       "7     #SXSW is just starting, #CTIA is around the co...\n",
       "8     Beautifully smart and simple idea RT @madebyma...\n",
       "9     Counting down the days to #sxsw plus strong Ca...\n",
       "10    Excited to meet the @samsungmobileus at #sxsw ...\n",
       "Name: tweet_text, dtype: object"
      ]
     },
     "execution_count": 123,
     "metadata": {},
     "output_type": "execute_result"
    }
   ],
   "source": [
    "df.tweet_text.head(10)"
   ]
  },
  {
   "cell_type": "markdown",
   "metadata": {
    "hideCode": false,
    "hidePrompt": false
   },
   "source": [
    "Punctuation is one of the major problem in text analysis, so it needs to be removed from the text. However, sometime it may affect the words such as: 'you're, I've,...' because it will basically try to remove the letter around apostrophe, and thus altering the context. Below, we will implement a detail contraction mapping such that contracted words are expanded to theirs full form."
   ]
  },
  {
   "cell_type": "code",
   "execution_count": 246,
   "metadata": {
    "hideCode": false,
    "hidePrompt": false
   },
   "outputs": [],
   "source": [
    "contraction_map = {\"ain't\": \"is not\", \"aren't\": \"are not\",\"can't\": \"cannot\", \n",
    "                   \"can't've\": \"cannot have\", \"'cause\": \"because\", \"could've\": \"could have\", \n",
    "                   \"couldn't\": \"could not\", \"couldn't've\": \"could not have\",\"didn't\": \"did not\", \n",
    "                   \"doesn't\": \"does not\", \"don't\": \"do not\", \"hadn't\": \"had not\", \n",
    "                   \"hadn't've\": \"had not have\", \"hasn't\": \"has not\", \"haven't\": \"have not\", \n",
    "                   \"he'd\": \"he would\", \"he'd've\": \"he would have\", \"he'll\": \"he will\", \n",
    "                   \"he'll've\": \"he will have\", \"he's\": \"he is\", \"how'd\": \"how did\", \n",
    "                   \"how'd'y\": \"how do you\", \"how'll\": \"how will\", \"how's\": \"how is\", \n",
    "                   \"I'd\": \"I would\", \"I'd've\": \"I would have\", \"I'll\": \"I will\", \n",
    "                   \"I'll've\": \"I will have\",\"I'm\": \"I am\", \"I've\": \"I have\", \n",
    "                   \"i'd\": \"i would\", \"i'd've\": \"i would have\", \"i'll\": \"i will\", \n",
    "                   \"i'll've\": \"i will have\",\"i'm\": \"i am\", \"i've\": \"i have\", \n",
    "                   \"isn't\": \"is not\", \"it'd\": \"it would\", \"it'd've\": \"it would have\", \n",
    "                   \"it'll\": \"it will\", \"it'll've\": \"it will have\",\"it's\": \"it is\", \n",
    "                   \"let's\": \"let us\", \"ma'am\": \"madam\", \"mayn't\": \"may not\", \n",
    "                   \"might've\": \"might have\",\"mightn't\": \"might not\",\"mightn't've\": \"might not have\", \n",
    "                   \"must've\": \"must have\", \"mustn't\": \"must not\", \"mustn't've\": \"must not have\", \n",
    "                   \"needn't\": \"need not\", \"needn't've\": \"need not have\",\"o'clock\": \"of the clock\", \n",
    "                   \"oughtn't\": \"ought not\", \"oughtn't've\": \"ought not have\", \"shan't\": \"shall not\",\n",
    "                   \"sha'n't\": \"shall not\", \"shan't've\": \"shall not have\", \"she'd\": \"she would\", \n",
    "                   \"she'd've\": \"she would have\", \"she'll\": \"she will\", \"she'll've\": \"she will have\", \n",
    "                   \"she's\": \"she is\", \"should've\": \"should have\", \"shouldn't\": \"should not\", \n",
    "                   \"shouldn't've\": \"should not have\", \"so've\": \"so have\",\"so's\": \"so as\", \n",
    "                   \"this's\": \"this is\",\n",
    "                   \"that'd\": \"that would\", \"that'd've\": \"that would have\",\"that's\": \"that is\", \n",
    "                   \"there'd\": \"there would\", \"there'd've\": \"there would have\",\"there's\": \"there is\", \n",
    "                       \"here's\": \"here is\",\n",
    "                   \"they'd\": \"they would\", \"they'd've\": \"they would have\", \"they'll\": \"they will\", \n",
    "                   \"they'll've\": \"they will have\", \"they're\": \"they are\", \"they've\": \"they have\", \n",
    "                   \"to've\": \"to have\", \"wasn't\": \"was not\", \"we'd\": \"we would\", \n",
    "                   \"we'd've\": \"we would have\", \"we'll\": \"we will\", \"we'll've\": \"we will have\", \n",
    "                   \"we're\": \"we are\", \"we've\": \"we have\", \"weren't\": \"were not\", \n",
    "                   \"what'll\": \"what will\", \"what'll've\": \"what will have\", \"what're\": \"what are\", \n",
    "                   \"what's\": \"what is\", \"what've\": \"what have\", \"when's\": \"when is\", \n",
    "                   \"when've\": \"when have\", \"where'd\": \"where did\", \"where's\": \"where is\", \n",
    "                   \"where've\": \"where have\", \"who'll\": \"who will\", \"who'll've\": \"who will have\", \n",
    "                   \"who's\": \"who is\", \"who've\": \"who have\", \"why's\": \"why is\", \n",
    "                   \"why've\": \"why have\", \"will've\": \"will have\", \"won't\": \"will not\", \n",
    "                   \"won't've\": \"will not have\", \"would've\": \"would have\", \"wouldn't\": \"would not\", \n",
    "                   \"wouldn't've\": \"would not have\", \"y'all\": \"you all\", \"y'all'd\": \"you all would\",\n",
    "                   \"y'all'd've\": \"you all would have\",\"y'all're\": \"you all are\",\"y'all've\": \"you all have\",\n",
    "                   \"you'd\": \"you would\", \"you'd've\": \"you would have\", \"you'll\": \"you will\", \n",
    "                   \"you'll've\": \"you will have\", \"you're\": \"you are\", \"you've\": \"you have\" } "
   ]
  },
  {
   "cell_type": "code",
   "execution_count": 247,
   "metadata": {
    "hideCode": false,
    "hidePrompt": false
   },
   "outputs": [],
   "source": [
    "import codecs\n",
    "import unidecode\n",
    "import spacy\n",
    "nlp = spacy.load(\"en_core_web_sm\")\n",
    "\n",
    "def contraction_mapping(text):\n",
    "    '''\n",
    "    Function to map contraction to the text.\n",
    "    '''\n",
    "#     try:\n",
    "#         decoded = unidecode.unidecode(codecs.decode(text, 'unicode_escape'))\n",
    "#     except:\n",
    "#         decoded = unidecode.unidecode(text)\n",
    "#     x = decoded.replace(\"[^a-zA-z#]\", \" \")  #remove special characters\n",
    "    \n",
    "\n",
    "    apostrophe_handled = re.sub(\"’\", \"'\", text)\n",
    "    expanded = ' '.join([contraction_map[t] if t in contraction_map else t for t in apostrophe_handled.split(\" \")])\n",
    "    \n",
    "\n",
    "    return expanded"
   ]
  },
  {
   "cell_type": "code",
   "execution_count": 248,
   "metadata": {
    "hideCode": false,
    "hidePrompt": false
   },
   "outputs": [
    {
     "name": "stdout",
     "output_type": "stream",
     "text": [
      "Before contraction: \n",
      " Find &amp; Start Impromptu Parties at #SXSW With @HurricaneParty http://bit.ly/gVLrIn I can't wait til the Android app comes out.\n",
      "\n",
      "After contraction: \n",
      " Find &amp; Start Impromptu Parties at #SXSW With @HurricaneParty http://bit.ly/gVLrIn I cannot wait til the Android app comes out.\n"
     ]
    }
   ],
   "source": [
    "# Test the function\n",
    "row = 11\n",
    "print('Before contraction:', '\\n',  df['tweet_text'][row])\n",
    "print('\\nAfter contraction:', '\\n', contraction_mapping(df['tweet_text'][row]))"
   ]
  },
  {
   "cell_type": "code",
   "execution_count": 249,
   "metadata": {
    "hideCode": false,
    "hidePrompt": false
   },
   "outputs": [],
   "source": [
    "# Apply contraction mapping\n",
    "df['expanded_tweets'] = df['tweet_text'].apply(contraction_mapping)"
   ]
  },
  {
   "cell_type": "code",
   "execution_count": 250,
   "metadata": {
    "hideCode": false,
    "hidePrompt": false
   },
   "outputs": [],
   "source": [
    "def tweet_cleaner(tweet):\n",
    "    '''\n",
    "    Function to remove punctuations, special characters, html links, twitter handels etc...\n",
    "    '''\n",
    "    \n",
    "    stopwords = ['rt','rts', 'retweet', 'quot', 'sxsw']\n",
    "    \n",
    "    punctuation = set(string.punctuation) # punctuation of English language\n",
    "    punctuation.remove('#') # remove # so hashtags remain in x\n",
    "    \n",
    "    x = tweet\n",
    "    x = re.sub(r'https?:\\/\\/\\S+', '', x) # remove URL references\n",
    "    x = re.sub(r'{link}', '', x)  # remove placeholders\n",
    "    x = re.sub(r'@[\\w]*', '', x) # remove @mention users\n",
    "    x = re.sub('[^A-Za-z0-9]+', ' ', x) # remove @mention users\n",
    "    x = re.sub(r'\\b[0-9]+\\b', '', x) # remove stand-alone numbers  \n",
    "    x = re.sub(r'&[a-z]+;', '', x) # remove HTML reference characters\n",
    "    x = ''.join(ch for ch in x if ch not in punctuation) # remove punctuation\n",
    "    x = x.replace(\"[^a-zA-z#]\", \" \")  #remove special characters\n",
    "\n",
    "    x = [word.lower() for word in x.split() if word.lower() not in stopwords]\n",
    "    x = [w for w in x if len(w)>2]\n",
    "\n",
    "    return ' '.join(x)"
   ]
  },
  {
   "cell_type": "code",
   "execution_count": 251,
   "metadata": {
    "hideCode": false,
    "hidePrompt": false
   },
   "outputs": [
    {
     "name": "stdout",
     "output_type": "stream",
     "text": [
      "Before cleanup: \n",
      " Find &amp; Start Impromptu Parties at #SXSW With @HurricaneParty http://bit.ly/gVLrIn I cannot wait til the Android app comes out.\n",
      "\n",
      "After cleanup: \n",
      " find amp start impromptu parties with cannot wait til the android app comes out\n"
     ]
    }
   ],
   "source": [
    "# Test the function\n",
    "row = 11\n",
    "print('Before cleanup:', '\\n',  df['expanded_tweets'][row])\n",
    "print('\\nAfter cleanup:', '\\n', tweet_cleaner(df['expanded_tweets'][row]))"
   ]
  },
  {
   "cell_type": "code",
   "execution_count": 252,
   "metadata": {
    "hideCode": false,
    "hidePrompt": false
   },
   "outputs": [
    {
     "data": {
      "text/plain": [
       "FreqDist({'the': 3574, 'for': 2021, 'ipad': 1674, 'apple': 1570, 'google': 1406, 'and': 1400, 'iphone': 1207, 'store': 1071, 'you': 867, 'not': 762, ...})"
      ]
     },
     "execution_count": 252,
     "metadata": {},
     "output_type": "execute_result"
    }
   ],
   "source": [
    "# Apply the tweet cleaner to whole dataframe  \n",
    "df['clean_tweets1'] = df['expanded_tweets'].apply(tweet_cleaner)\n",
    "\n",
    "# Word count of all the vocabulary\n",
    "FreqDist(df['clean_tweets1'].unique().sum().split())"
   ]
  },
  {
   "cell_type": "markdown",
   "metadata": {
    "hideCode": false,
    "hidePrompt": false
   },
   "source": [
    "We can see the word 'the' is the most common word. While for architecture like LSTM, we might need to retain these kinds of stopwords, but the more simple models like Naive Bayes, we would like to get rid of these words. So, we will create another set of words particularly to train Naive Bayes like algorithms."
   ]
  },
  {
   "cell_type": "code",
   "execution_count": 253,
   "metadata": {
    "hideCode": false,
    "hidePrompt": false
   },
   "outputs": [],
   "source": [
    "def remove_stopwords(tweet):      \n",
    "    stopwords_removed = [word for word in tweet.split() if word not in stopwords.words('english')]\n",
    "    return ' '.join(stopwords_removed)                         "
   ]
  },
  {
   "cell_type": "code",
   "execution_count": 254,
   "metadata": {
    "hideCode": false,
    "hidePrompt": false
   },
   "outputs": [
    {
     "data": {
      "text/plain": [
       "FreqDist({'ipad': 1588, 'apple': 1493, 'google': 1315, 'iphone': 1142, 'store': 1042, 'new': 693, 'amp': 622, 'austin': 601, 'app': 571, 'pop': 453, ...})"
      ]
     },
     "execution_count": 254,
     "metadata": {},
     "output_type": "execute_result"
    }
   ],
   "source": [
    "# Apply the tweet cleaner to whole dataframe  \n",
    "df['clean_tweets2'] = df['clean_tweets1'].apply(remove_stopwords)\n",
    "\n",
    "# Word count of all the vocabulary\n",
    "FreqDist(df['clean_tweets2'].unique().sum().split())"
   ]
  },
  {
   "cell_type": "code",
   "execution_count": 159,
   "metadata": {
    "hideCode": false,
    "hidePrompt": false
   },
   "outputs": [
    {
     "data": {
      "text/html": [
       "<div>\n",
       "<style scoped>\n",
       "    .dataframe tbody tr th:only-of-type {\n",
       "        vertical-align: middle;\n",
       "    }\n",
       "\n",
       "    .dataframe tbody tr th {\n",
       "        vertical-align: top;\n",
       "    }\n",
       "\n",
       "    .dataframe thead th {\n",
       "        text-align: right;\n",
       "    }\n",
       "</style>\n",
       "<table border=\"1\" class=\"dataframe\">\n",
       "  <thead>\n",
       "    <tr style=\"text-align: right;\">\n",
       "      <th></th>\n",
       "      <th>emotion</th>\n",
       "      <th>tweet_text</th>\n",
       "      <th>expanded_tweets</th>\n",
       "      <th>clean_tweets1</th>\n",
       "      <th>clean_tweets2</th>\n",
       "    </tr>\n",
       "  </thead>\n",
       "  <tbody>\n",
       "    <tr>\n",
       "      <th>0</th>\n",
       "      <td>negative</td>\n",
       "      <td>.@wesley83 I have a 3G iPhone. After 3 hrs twe...</td>\n",
       "      <td>.@wesley83 I have a 3G iPhone. After 3 hrs twe...</td>\n",
       "      <td>have iphone after hrs tweeting rise austin was...</td>\n",
       "      <td>iphone hrs tweeting rise austin dead need upgr...</td>\n",
       "    </tr>\n",
       "    <tr>\n",
       "      <th>1</th>\n",
       "      <td>positive</td>\n",
       "      <td>@jessedee Know about @fludapp ? Awesome iPad/i...</td>\n",
       "      <td>@jessedee Know about @fludapp ? Awesome iPad/i...</td>\n",
       "      <td>know about awesome ipad iphone app that you wi...</td>\n",
       "      <td>know awesome ipad iphone app likely appreciate...</td>\n",
       "    </tr>\n",
       "    <tr>\n",
       "      <th>2</th>\n",
       "      <td>positive</td>\n",
       "      <td>@swonderlin Can not wait for #iPad 2 also. The...</td>\n",
       "      <td>@swonderlin Can not wait for #iPad 2 also. The...</td>\n",
       "      <td>can not wait for ipad also they should sale th...</td>\n",
       "      <td>wait ipad also sale</td>\n",
       "    </tr>\n",
       "    <tr>\n",
       "      <th>3</th>\n",
       "      <td>negative</td>\n",
       "      <td>@sxsw I hope this year's festival isn't as cra...</td>\n",
       "      <td>@sxsw I hope this year's festival is not as cr...</td>\n",
       "      <td>hope this year festival not crashy this year i...</td>\n",
       "      <td>hope year festival crashy year iphone app</td>\n",
       "    </tr>\n",
       "    <tr>\n",
       "      <th>4</th>\n",
       "      <td>positive</td>\n",
       "      <td>@sxtxstate great stuff on Fri #SXSW: Marissa M...</td>\n",
       "      <td>@sxtxstate great stuff on Fri #SXSW: Marissa M...</td>\n",
       "      <td>great stuff fri marissa mayer google tim reill...</td>\n",
       "      <td>great stuff fri marissa mayer google tim reill...</td>\n",
       "    </tr>\n",
       "    <tr>\n",
       "      <th>...</th>\n",
       "      <td>...</td>\n",
       "      <td>...</td>\n",
       "      <td>...</td>\n",
       "      <td>...</td>\n",
       "      <td>...</td>\n",
       "    </tr>\n",
       "    <tr>\n",
       "      <th>3855</th>\n",
       "      <td>negative</td>\n",
       "      <td>RT @Ecofantasy: Thinking of upgrading to #Yose...</td>\n",
       "      <td>RT @Ecofantasy: Thinking of upgrading to #Yose...</td>\n",
       "      <td>thinking upgrading yosemite think twice not fo...</td>\n",
       "      <td>thinking upgrading yosemite think twice everyo...</td>\n",
       "    </tr>\n",
       "    <tr>\n",
       "      <th>3857</th>\n",
       "      <td>negative</td>\n",
       "      <td>why isnt group facetime a thing @apple wtf</td>\n",
       "      <td>why isnt group facetime a thing @apple wtf</td>\n",
       "      <td>why isnt group facetime thing wtf</td>\n",
       "      <td>isnt group facetime thing wtf</td>\n",
       "    </tr>\n",
       "    <tr>\n",
       "      <th>3877</th>\n",
       "      <td>negative</td>\n",
       "      <td>Being held hostage at @apple - They are replac...</td>\n",
       "      <td>Being held hostage at @apple - They are replac...</td>\n",
       "      <td>being held hostage they are replacing the whol...</td>\n",
       "      <td>held hostage replacing whole phone last backup...</td>\n",
       "    </tr>\n",
       "    <tr>\n",
       "      <th>3880</th>\n",
       "      <td>negative</td>\n",
       "      <td>hey @apple is it normal for my laptop charger ...</td>\n",
       "      <td>hey @apple is it normal for my laptop charger ...</td>\n",
       "      <td>hey normal for laptop charger soldering itself...</td>\n",
       "      <td>hey normal laptop charger soldering skin thanks</td>\n",
       "    </tr>\n",
       "    <tr>\n",
       "      <th>3884</th>\n",
       "      <td>negative</td>\n",
       "      <td>My iPhone 5's photos are no longer downloading...</td>\n",
       "      <td>My iPhone 5's photos are no longer downloading...</td>\n",
       "      <td>iphone photos are longer downloading automatic...</td>\n",
       "      <td>iphone photos longer downloading automatically...</td>\n",
       "    </tr>\n",
       "  </tbody>\n",
       "</table>\n",
       "<p>10128 rows × 5 columns</p>\n",
       "</div>"
      ],
      "text/plain": [
       "       emotion                                         tweet_text  \\\n",
       "0     negative  .@wesley83 I have a 3G iPhone. After 3 hrs twe...   \n",
       "1     positive  @jessedee Know about @fludapp ? Awesome iPad/i...   \n",
       "2     positive  @swonderlin Can not wait for #iPad 2 also. The...   \n",
       "3     negative  @sxsw I hope this year's festival isn't as cra...   \n",
       "4     positive  @sxtxstate great stuff on Fri #SXSW: Marissa M...   \n",
       "...        ...                                                ...   \n",
       "3855  negative  RT @Ecofantasy: Thinking of upgrading to #Yose...   \n",
       "3857  negative         why isnt group facetime a thing @apple wtf   \n",
       "3877  negative  Being held hostage at @apple - They are replac...   \n",
       "3880  negative  hey @apple is it normal for my laptop charger ...   \n",
       "3884  negative  My iPhone 5's photos are no longer downloading...   \n",
       "\n",
       "                                        expanded_tweets  \\\n",
       "0     .@wesley83 I have a 3G iPhone. After 3 hrs twe...   \n",
       "1     @jessedee Know about @fludapp ? Awesome iPad/i...   \n",
       "2     @swonderlin Can not wait for #iPad 2 also. The...   \n",
       "3     @sxsw I hope this year's festival is not as cr...   \n",
       "4     @sxtxstate great stuff on Fri #SXSW: Marissa M...   \n",
       "...                                                 ...   \n",
       "3855  RT @Ecofantasy: Thinking of upgrading to #Yose...   \n",
       "3857         why isnt group facetime a thing @apple wtf   \n",
       "3877  Being held hostage at @apple - They are replac...   \n",
       "3880  hey @apple is it normal for my laptop charger ...   \n",
       "3884  My iPhone 5's photos are no longer downloading...   \n",
       "\n",
       "                                          clean_tweets1  \\\n",
       "0     have iphone after hrs tweeting rise austin was...   \n",
       "1     know about awesome ipad iphone app that you wi...   \n",
       "2     can not wait for ipad also they should sale th...   \n",
       "3     hope this year festival not crashy this year i...   \n",
       "4     great stuff fri marissa mayer google tim reill...   \n",
       "...                                                 ...   \n",
       "3855  thinking upgrading yosemite think twice not fo...   \n",
       "3857                  why isnt group facetime thing wtf   \n",
       "3877  being held hostage they are replacing the whol...   \n",
       "3880  hey normal for laptop charger soldering itself...   \n",
       "3884  iphone photos are longer downloading automatic...   \n",
       "\n",
       "                                          clean_tweets2  \n",
       "0     iphone hrs tweeting rise austin dead need upgr...  \n",
       "1     know awesome ipad iphone app likely appreciate...  \n",
       "2                                   wait ipad also sale  \n",
       "3             hope year festival crashy year iphone app  \n",
       "4     great stuff fri marissa mayer google tim reill...  \n",
       "...                                                 ...  \n",
       "3855  thinking upgrading yosemite think twice everyo...  \n",
       "3857                      isnt group facetime thing wtf  \n",
       "3877  held hostage replacing whole phone last backup...  \n",
       "3880    hey normal laptop charger soldering skin thanks  \n",
       "3884  iphone photos longer downloading automatically...  \n",
       "\n",
       "[10128 rows x 5 columns]"
      ]
     },
     "execution_count": 159,
     "metadata": {},
     "output_type": "execute_result"
    }
   ],
   "source": [
    "df"
   ]
  },
  {
   "cell_type": "code",
   "execution_count": 255,
   "metadata": {
    "hideCode": false,
    "hidePrompt": false
   },
   "outputs": [],
   "source": [
    "def normalization(tweet):\n",
    "    lem = WordNetLemmatizer()\n",
    "    normalized_tweet = []\n",
    "    for word in tweet.split():\n",
    "        normalized_text = lem.lemmatize(word, 'v')\n",
    "        normalized_tweet.append(normalized_text)\n",
    "    return ' '.join(normalized_tweet)"
   ]
  },
  {
   "cell_type": "code",
   "execution_count": 256,
   "metadata": {
    "hideCode": false,
    "hidePrompt": false
   },
   "outputs": [
    {
     "data": {
      "text/plain": [
       "FreqDist({'ipad': 1586, 'apple': 1492, 'google': 1314, 'iphone': 1141, 'store': 1077, 'new': 691, 'amp': 619, 'austin': 601, 'app': 570, 'get': 526, ...})"
      ]
     },
     "execution_count": 256,
     "metadata": {},
     "output_type": "execute_result"
    }
   ],
   "source": [
    "# Apply the tweet cleaner to whole dataframe  \n",
    "df['clean_tweets3'] = df['clean_tweets2'].apply(normalization)\n",
    "\n",
    "# Word count of all the vocabulary\n",
    "FreqDist(df['clean_tweets3'].unique().sum().split())"
   ]
  },
  {
   "cell_type": "code",
   "execution_count": 162,
   "metadata": {
    "hideCode": false,
    "hidePrompt": false
   },
   "outputs": [
    {
     "data": {
      "text/html": [
       "<div>\n",
       "<style scoped>\n",
       "    .dataframe tbody tr th:only-of-type {\n",
       "        vertical-align: middle;\n",
       "    }\n",
       "\n",
       "    .dataframe tbody tr th {\n",
       "        vertical-align: top;\n",
       "    }\n",
       "\n",
       "    .dataframe thead th {\n",
       "        text-align: right;\n",
       "    }\n",
       "</style>\n",
       "<table border=\"1\" class=\"dataframe\">\n",
       "  <thead>\n",
       "    <tr style=\"text-align: right;\">\n",
       "      <th></th>\n",
       "      <th>emotion</th>\n",
       "      <th>tweet_text</th>\n",
       "      <th>expanded_tweets</th>\n",
       "      <th>clean_tweets1</th>\n",
       "      <th>clean_tweets2</th>\n",
       "      <th>clean_tweets3</th>\n",
       "    </tr>\n",
       "  </thead>\n",
       "  <tbody>\n",
       "    <tr>\n",
       "      <th>0</th>\n",
       "      <td>negative</td>\n",
       "      <td>.@wesley83 I have a 3G iPhone. After 3 hrs twe...</td>\n",
       "      <td>.@wesley83 I have a 3G iPhone. After 3 hrs twe...</td>\n",
       "      <td>have iphone after hrs tweeting rise austin was...</td>\n",
       "      <td>iphone hrs tweeting rise austin dead need upgr...</td>\n",
       "      <td>iphone hrs tweet rise austin dead need upgrade...</td>\n",
       "    </tr>\n",
       "    <tr>\n",
       "      <th>1</th>\n",
       "      <td>positive</td>\n",
       "      <td>@jessedee Know about @fludapp ? Awesome iPad/i...</td>\n",
       "      <td>@jessedee Know about @fludapp ? Awesome iPad/i...</td>\n",
       "      <td>know about awesome ipad iphone app that you wi...</td>\n",
       "      <td>know awesome ipad iphone app likely appreciate...</td>\n",
       "      <td>know awesome ipad iphone app likely appreciate...</td>\n",
       "    </tr>\n",
       "    <tr>\n",
       "      <th>2</th>\n",
       "      <td>positive</td>\n",
       "      <td>@swonderlin Can not wait for #iPad 2 also. The...</td>\n",
       "      <td>@swonderlin Can not wait for #iPad 2 also. The...</td>\n",
       "      <td>can not wait for ipad also they should sale th...</td>\n",
       "      <td>wait ipad also sale</td>\n",
       "      <td>wait ipad also sale</td>\n",
       "    </tr>\n",
       "    <tr>\n",
       "      <th>3</th>\n",
       "      <td>negative</td>\n",
       "      <td>@sxsw I hope this year's festival isn't as cra...</td>\n",
       "      <td>@sxsw I hope this year's festival is not as cr...</td>\n",
       "      <td>hope this year festival not crashy this year i...</td>\n",
       "      <td>hope year festival crashy year iphone app</td>\n",
       "      <td>hope year festival crashy year iphone app</td>\n",
       "    </tr>\n",
       "    <tr>\n",
       "      <th>4</th>\n",
       "      <td>positive</td>\n",
       "      <td>@sxtxstate great stuff on Fri #SXSW: Marissa M...</td>\n",
       "      <td>@sxtxstate great stuff on Fri #SXSW: Marissa M...</td>\n",
       "      <td>great stuff fri marissa mayer google tim reill...</td>\n",
       "      <td>great stuff fri marissa mayer google tim reill...</td>\n",
       "      <td>great stuff fri marissa mayer google tim reill...</td>\n",
       "    </tr>\n",
       "    <tr>\n",
       "      <th>...</th>\n",
       "      <td>...</td>\n",
       "      <td>...</td>\n",
       "      <td>...</td>\n",
       "      <td>...</td>\n",
       "      <td>...</td>\n",
       "      <td>...</td>\n",
       "    </tr>\n",
       "    <tr>\n",
       "      <th>3855</th>\n",
       "      <td>negative</td>\n",
       "      <td>RT @Ecofantasy: Thinking of upgrading to #Yose...</td>\n",
       "      <td>RT @Ecofantasy: Thinking of upgrading to #Yose...</td>\n",
       "      <td>thinking upgrading yosemite think twice not fo...</td>\n",
       "      <td>thinking upgrading yosemite think twice everyo...</td>\n",
       "      <td>think upgrade yosemite think twice everyone asmsg</td>\n",
       "    </tr>\n",
       "    <tr>\n",
       "      <th>3857</th>\n",
       "      <td>negative</td>\n",
       "      <td>why isnt group facetime a thing @apple wtf</td>\n",
       "      <td>why isnt group facetime a thing @apple wtf</td>\n",
       "      <td>why isnt group facetime thing wtf</td>\n",
       "      <td>isnt group facetime thing wtf</td>\n",
       "      <td>isnt group facetime thing wtf</td>\n",
       "    </tr>\n",
       "    <tr>\n",
       "      <th>3877</th>\n",
       "      <td>negative</td>\n",
       "      <td>Being held hostage at @apple - They are replac...</td>\n",
       "      <td>Being held hostage at @apple - They are replac...</td>\n",
       "      <td>being held hostage they are replacing the whol...</td>\n",
       "      <td>held hostage replacing whole phone last backup...</td>\n",
       "      <td>hold hostage replace whole phone last backup m...</td>\n",
       "    </tr>\n",
       "    <tr>\n",
       "      <th>3880</th>\n",
       "      <td>negative</td>\n",
       "      <td>hey @apple is it normal for my laptop charger ...</td>\n",
       "      <td>hey @apple is it normal for my laptop charger ...</td>\n",
       "      <td>hey normal for laptop charger soldering itself...</td>\n",
       "      <td>hey normal laptop charger soldering skin thanks</td>\n",
       "      <td>hey normal laptop charger solder skin thank</td>\n",
       "    </tr>\n",
       "    <tr>\n",
       "      <th>3884</th>\n",
       "      <td>negative</td>\n",
       "      <td>My iPhone 5's photos are no longer downloading...</td>\n",
       "      <td>My iPhone 5's photos are no longer downloading...</td>\n",
       "      <td>iphone photos are longer downloading automatic...</td>\n",
       "      <td>iphone photos longer downloading automatically...</td>\n",
       "      <td>iphone photos longer download automatically la...</td>\n",
       "    </tr>\n",
       "  </tbody>\n",
       "</table>\n",
       "<p>10128 rows × 6 columns</p>\n",
       "</div>"
      ],
      "text/plain": [
       "       emotion                                         tweet_text  \\\n",
       "0     negative  .@wesley83 I have a 3G iPhone. After 3 hrs twe...   \n",
       "1     positive  @jessedee Know about @fludapp ? Awesome iPad/i...   \n",
       "2     positive  @swonderlin Can not wait for #iPad 2 also. The...   \n",
       "3     negative  @sxsw I hope this year's festival isn't as cra...   \n",
       "4     positive  @sxtxstate great stuff on Fri #SXSW: Marissa M...   \n",
       "...        ...                                                ...   \n",
       "3855  negative  RT @Ecofantasy: Thinking of upgrading to #Yose...   \n",
       "3857  negative         why isnt group facetime a thing @apple wtf   \n",
       "3877  negative  Being held hostage at @apple - They are replac...   \n",
       "3880  negative  hey @apple is it normal for my laptop charger ...   \n",
       "3884  negative  My iPhone 5's photos are no longer downloading...   \n",
       "\n",
       "                                        expanded_tweets  \\\n",
       "0     .@wesley83 I have a 3G iPhone. After 3 hrs twe...   \n",
       "1     @jessedee Know about @fludapp ? Awesome iPad/i...   \n",
       "2     @swonderlin Can not wait for #iPad 2 also. The...   \n",
       "3     @sxsw I hope this year's festival is not as cr...   \n",
       "4     @sxtxstate great stuff on Fri #SXSW: Marissa M...   \n",
       "...                                                 ...   \n",
       "3855  RT @Ecofantasy: Thinking of upgrading to #Yose...   \n",
       "3857         why isnt group facetime a thing @apple wtf   \n",
       "3877  Being held hostage at @apple - They are replac...   \n",
       "3880  hey @apple is it normal for my laptop charger ...   \n",
       "3884  My iPhone 5's photos are no longer downloading...   \n",
       "\n",
       "                                          clean_tweets1  \\\n",
       "0     have iphone after hrs tweeting rise austin was...   \n",
       "1     know about awesome ipad iphone app that you wi...   \n",
       "2     can not wait for ipad also they should sale th...   \n",
       "3     hope this year festival not crashy this year i...   \n",
       "4     great stuff fri marissa mayer google tim reill...   \n",
       "...                                                 ...   \n",
       "3855  thinking upgrading yosemite think twice not fo...   \n",
       "3857                  why isnt group facetime thing wtf   \n",
       "3877  being held hostage they are replacing the whol...   \n",
       "3880  hey normal for laptop charger soldering itself...   \n",
       "3884  iphone photos are longer downloading automatic...   \n",
       "\n",
       "                                          clean_tweets2  \\\n",
       "0     iphone hrs tweeting rise austin dead need upgr...   \n",
       "1     know awesome ipad iphone app likely appreciate...   \n",
       "2                                   wait ipad also sale   \n",
       "3             hope year festival crashy year iphone app   \n",
       "4     great stuff fri marissa mayer google tim reill...   \n",
       "...                                                 ...   \n",
       "3855  thinking upgrading yosemite think twice everyo...   \n",
       "3857                      isnt group facetime thing wtf   \n",
       "3877  held hostage replacing whole phone last backup...   \n",
       "3880    hey normal laptop charger soldering skin thanks   \n",
       "3884  iphone photos longer downloading automatically...   \n",
       "\n",
       "                                          clean_tweets3  \n",
       "0     iphone hrs tweet rise austin dead need upgrade...  \n",
       "1     know awesome ipad iphone app likely appreciate...  \n",
       "2                                   wait ipad also sale  \n",
       "3             hope year festival crashy year iphone app  \n",
       "4     great stuff fri marissa mayer google tim reill...  \n",
       "...                                                 ...  \n",
       "3855  think upgrade yosemite think twice everyone asmsg  \n",
       "3857                      isnt group facetime thing wtf  \n",
       "3877  hold hostage replace whole phone last backup m...  \n",
       "3880        hey normal laptop charger solder skin thank  \n",
       "3884  iphone photos longer download automatically la...  \n",
       "\n",
       "[10128 rows x 6 columns]"
      ]
     },
     "execution_count": 162,
     "metadata": {},
     "output_type": "execute_result"
    }
   ],
   "source": [
    "df"
   ]
  },
  {
   "cell_type": "markdown",
   "metadata": {
    "hideCode": false,
    "hidePrompt": false
   },
   "source": [
    "## Modeling\n",
    "We will start with simple scikit learn modeling. We will test Naive Bayes on tweets with and without lemmatization"
   ]
  },
  {
   "cell_type": "code",
   "execution_count": 343,
   "metadata": {
    "hideCode": false,
    "hidePrompt": false
   },
   "outputs": [],
   "source": [
    "X = df[['clean_tweets2']] \n",
    "y = df['emotion']"
   ]
  },
  {
   "cell_type": "markdown",
   "metadata": {
    "hideCode": false,
    "hidePrompt": false
   },
   "source": [
    "#### We will take aside 10% of data for Test Set, and further split training data into validation set"
   ]
  },
  {
   "cell_type": "code",
   "execution_count": 344,
   "metadata": {
    "hideCode": false,
    "hidePrompt": false
   },
   "outputs": [
    {
     "data": {
      "text/plain": [
       "((7747, 1), (1368, 1), (1013, 1), (7747,), (1368,), (1013,))"
      ]
     },
     "execution_count": 344,
     "metadata": {},
     "output_type": "execute_result"
    }
   ],
   "source": [
    "X_train, X_test, y_train, y_test = train_test_split(X, y, test_size=0.10, stratify=y,\n",
    "                                                    random_state=42)\n",
    "X_train, X_val, y_train, y_val = train_test_split(X_train, y_train, test_size=0.15, stratify=y_train,\n",
    "                                                  random_state=42)\n",
    "X_train.shape, X_val.shape, X_test.shape, y_train.shape, y_val.shape, y_test.shape"
   ]
  },
  {
   "cell_type": "code",
   "execution_count": 345,
   "metadata": {
    "hideCode": false,
    "hidePrompt": false
   },
   "outputs": [],
   "source": [
    "# Vectorizing\n",
    "tfidf_vectorizer = TfidfVectorizer()\n",
    "\n",
    "X_train_vec = tfidf_vectorizer.fit_transform(X_train['clean_tweets2']).toarray()\n",
    "X_test_vec = tfidf_vectorizer.transform(X_test['clean_tweets2']).toarray()\n",
    "X_val_vec = tfidf_vectorizer.transform(X_val['clean_tweets2']).toarray()"
   ]
  },
  {
   "cell_type": "code",
   "execution_count": 346,
   "metadata": {
    "hideCode": false,
    "hidePrompt": false
   },
   "outputs": [
    {
     "data": {
      "text/plain": [
       "((7747, 8878), (1368, 8878))"
      ]
     },
     "execution_count": 346,
     "metadata": {},
     "output_type": "execute_result"
    }
   ],
   "source": [
    "X_train_vec.shape, X_val_vec.shape"
   ]
  },
  {
   "cell_type": "code",
   "execution_count": 347,
   "metadata": {
    "hideCode": false,
    "hidePrompt": false
   },
   "outputs": [
    {
     "data": {
      "text/html": [
       "<div>\n",
       "<style scoped>\n",
       "    .dataframe tbody tr th:only-of-type {\n",
       "        vertical-align: middle;\n",
       "    }\n",
       "\n",
       "    .dataframe tbody tr th {\n",
       "        vertical-align: top;\n",
       "    }\n",
       "\n",
       "    .dataframe thead th {\n",
       "        text-align: right;\n",
       "    }\n",
       "</style>\n",
       "<table border=\"1\" class=\"dataframe\">\n",
       "  <thead>\n",
       "    <tr style=\"text-align: right;\">\n",
       "      <th></th>\n",
       "      <th>clean_tweets2</th>\n",
       "    </tr>\n",
       "  </thead>\n",
       "  <tbody>\n",
       "    <tr>\n",
       "      <th>1040</th>\n",
       "      <td>retiring wine library moving onto daily grape ...</td>\n",
       "    </tr>\n",
       "    <tr>\n",
       "      <th>7958</th>\n",
       "      <td>saw going download groundlink app amp ride lim...</td>\n",
       "    </tr>\n",
       "    <tr>\n",
       "      <th>5358</th>\n",
       "      <td>social apps make intimate sxswi apps iphone</td>\n",
       "    </tr>\n",
       "    <tr>\n",
       "      <th>5805</th>\n",
       "      <td>google announces check ins coupons deals</td>\n",
       "    </tr>\n",
       "    <tr>\n",
       "      <th>4977</th>\n",
       "      <td>digging john mcree talk designing boomers mayb...</td>\n",
       "    </tr>\n",
       "    <tr>\n",
       "      <th>...</th>\n",
       "      <td>...</td>\n",
       "    </tr>\n",
       "    <tr>\n",
       "      <th>6609</th>\n",
       "      <td>texas observer tomlinson says would double rev...</td>\n",
       "    </tr>\n",
       "    <tr>\n",
       "      <th>3563</th>\n",
       "      <td>think got bought something apple assumes apple...</td>\n",
       "    </tr>\n",
       "    <tr>\n",
       "      <th>4559</th>\n",
       "      <td>iphone find one gadget going bag</td>\n",
       "    </tr>\n",
       "    <tr>\n",
       "      <th>7199</th>\n",
       "      <td>missed touchingstories catch web touching stor...</td>\n",
       "    </tr>\n",
       "    <tr>\n",
       "      <th>1956</th>\n",
       "      <td>calyp app today avail itunes app store amp and...</td>\n",
       "    </tr>\n",
       "  </tbody>\n",
       "</table>\n",
       "<p>7747 rows × 1 columns</p>\n",
       "</div>"
      ],
      "text/plain": [
       "                                          clean_tweets2\n",
       "1040  retiring wine library moving onto daily grape ...\n",
       "7958  saw going download groundlink app amp ride lim...\n",
       "5358        social apps make intimate sxswi apps iphone\n",
       "5805           google announces check ins coupons deals\n",
       "4977  digging john mcree talk designing boomers mayb...\n",
       "...                                                 ...\n",
       "6609  texas observer tomlinson says would double rev...\n",
       "3563  think got bought something apple assumes apple...\n",
       "4559                   iphone find one gadget going bag\n",
       "7199  missed touchingstories catch web touching stor...\n",
       "1956  calyp app today avail itunes app store amp and...\n",
       "\n",
       "[7747 rows x 1 columns]"
      ]
     },
     "execution_count": 347,
     "metadata": {},
     "output_type": "execute_result"
    }
   ],
   "source": [
    "X_train"
   ]
  },
  {
   "cell_type": "code",
   "execution_count": 348,
   "metadata": {
    "hideCode": false,
    "hidePrompt": false
   },
   "outputs": [
    {
     "data": {
      "text/plain": [
       "MultinomialNB()"
      ]
     },
     "execution_count": 348,
     "metadata": {},
     "output_type": "execute_result"
    }
   ],
   "source": [
    "# Simple Naive Bayes classifer \n",
    "clf1_NB = MultinomialNB()\n",
    "clf1_NB.fit(X_train_vec, y_train)"
   ]
  },
  {
   "cell_type": "code",
   "execution_count": 349,
   "metadata": {
    "hideCode": false,
    "hidePrompt": false
   },
   "outputs": [],
   "source": [
    "def get_prediction(model, X_train, X_test, y_train, y_test):\n",
    "    y_train_pred = model.predict(X_train)\n",
    "    y_test_pred = model.predict(X_test)\n",
    "    \n",
    "    print('Training Prediction')\n",
    "    print('--------------------')\n",
    "    print(classification_report(y_train, y_train_pred))\n",
    "    print('Test Prediction')\n",
    "    print('--------------------')\n",
    "    print(classification_report(y_test, y_test_pred))\n",
    "    \n",
    "    return y_train_pred, y_test_pred"
   ]
  },
  {
   "cell_type": "code",
   "execution_count": 350,
   "metadata": {
    "hideCode": false,
    "hidePrompt": false,
    "scrolled": false
   },
   "outputs": [
    {
     "name": "stdout",
     "output_type": "stream",
     "text": [
      "Training Prediction\n",
      "--------------------\n",
      "              precision    recall  f1-score   support\n",
      "\n",
      "    negative       0.99      0.61      0.76      1368\n",
      "     neutral       0.71      0.98      0.83      4109\n",
      "    positive       0.90      0.48      0.63      2270\n",
      "\n",
      "    accuracy                           0.77      7747\n",
      "   macro avg       0.87      0.69      0.74      7747\n",
      "weighted avg       0.82      0.77      0.76      7747\n",
      "\n",
      "Test Prediction\n",
      "--------------------\n",
      "              precision    recall  f1-score   support\n",
      "\n",
      "    negative       0.96      0.45      0.61       241\n",
      "     neutral       0.62      0.94      0.74       726\n",
      "    positive       0.66      0.24      0.36       401\n",
      "\n",
      "    accuracy                           0.65      1368\n",
      "   macro avg       0.75      0.54      0.57      1368\n",
      "weighted avg       0.69      0.65      0.61      1368\n",
      "\n"
     ]
    }
   ],
   "source": [
    "_, _ = get_prediction(clf1_NB, X_train_vec, X_val_vec, y_train, y_val)"
   ]
  },
  {
   "cell_type": "code",
   "execution_count": 352,
   "metadata": {
    "hideCode": false,
    "hidePrompt": false
   },
   "outputs": [
    {
     "data": {
      "text/plain": [
       "RandomForestClassifier(class_weight='balanced', n_jobs=6, random_state=0)"
      ]
     },
     "execution_count": 352,
     "metadata": {},
     "output_type": "execute_result"
    }
   ],
   "source": [
    "# Instantiate a Random Forest Classifier\n",
    "clf_rf = RandomForestClassifier(n_estimators=100, random_state=0, n_jobs=6, class_weight='balanced')\n",
    "clf_rf.fit(X_train_vec, y_train)"
   ]
  },
  {
   "cell_type": "code",
   "execution_count": 353,
   "metadata": {
    "hideCode": false,
    "hidePrompt": false
   },
   "outputs": [
    {
     "name": "stdout",
     "output_type": "stream",
     "text": [
      "Training Prediction\n",
      "--------------------\n",
      "              precision    recall  f1-score   support\n",
      "\n",
      "    negative       0.97      1.00      0.98      1368\n",
      "     neutral       0.98      0.95      0.96      4109\n",
      "    positive       0.93      0.96      0.94      2270\n",
      "\n",
      "    accuracy                           0.96      7747\n",
      "   macro avg       0.96      0.97      0.96      7747\n",
      "weighted avg       0.96      0.96      0.96      7747\n",
      "\n",
      "Test Prediction\n",
      "--------------------\n",
      "              precision    recall  f1-score   support\n",
      "\n",
      "    negative       0.82      0.68      0.74       241\n",
      "     neutral       0.68      0.82      0.75       726\n",
      "    positive       0.62      0.45      0.52       401\n",
      "\n",
      "    accuracy                           0.69      1368\n",
      "   macro avg       0.71      0.65      0.67      1368\n",
      "weighted avg       0.69      0.69      0.68      1368\n",
      "\n"
     ]
    }
   ],
   "source": [
    "_, _ = get_prediction(clf_rf, X_train_vec, X_val_vec, y_train, y_val)"
   ]
  },
  {
   "cell_type": "code",
   "execution_count": 354,
   "metadata": {
    "hideCode": false,
    "hidePrompt": false
   },
   "outputs": [],
   "source": [
    "# Next we try to fit Naive Bayes on lemmatized data\n",
    "X = df[['clean_tweets3']] "
   ]
  },
  {
   "cell_type": "code",
   "execution_count": 355,
   "metadata": {
    "hideCode": false,
    "hidePrompt": false
   },
   "outputs": [
    {
     "data": {
      "text/plain": [
       "((7747, 1), (1368, 1), (1013, 1), (7747,), (1368,), (1013,))"
      ]
     },
     "execution_count": 355,
     "metadata": {},
     "output_type": "execute_result"
    }
   ],
   "source": [
    "X_train, X_test, y_train, y_test = train_test_split(X, y, test_size=0.10, stratify=y,\n",
    "                                                    random_state=42)\n",
    "X_train, X_val, y_train, y_val = train_test_split(X_train, y_train, test_size=0.15, stratify=y_train,\n",
    "                                                  random_state=42)\n",
    "X_train.shape, X_val.shape, X_test.shape, y_train.shape, y_val.shape, y_test.shape"
   ]
  },
  {
   "cell_type": "code",
   "execution_count": 356,
   "metadata": {
    "hideCode": false,
    "hidePrompt": false
   },
   "outputs": [],
   "source": [
    "# Vectorizing\n",
    "tfidf_vectorizer = TfidfVectorizer()\n",
    "\n",
    "X_train_vec = tfidf_vectorizer.fit_transform(X_train['clean_tweets3']).toarray()\n",
    "X_test_vec = tfidf_vectorizer.transform(X_test['clean_tweets3']).toarray()\n",
    "X_val_vec = tfidf_vectorizer.transform(X_val['clean_tweets3']).toarray()"
   ]
  },
  {
   "cell_type": "code",
   "execution_count": 357,
   "metadata": {
    "hideCode": false,
    "hidePrompt": false
   },
   "outputs": [
    {
     "data": {
      "text/plain": [
       "MultinomialNB()"
      ]
     },
     "execution_count": 357,
     "metadata": {},
     "output_type": "execute_result"
    }
   ],
   "source": [
    "# Simple Naive Bayes classifer \n",
    "clf2_NB = MultinomialNB()\n",
    "clf2_NB.fit(X_train_vec, y_train)"
   ]
  },
  {
   "cell_type": "code",
   "execution_count": 358,
   "metadata": {
    "hideCode": false,
    "hidePrompt": false
   },
   "outputs": [
    {
     "name": "stdout",
     "output_type": "stream",
     "text": [
      "Training Prediction\n",
      "--------------------\n",
      "              precision    recall  f1-score   support\n",
      "\n",
      "    negative       0.99      0.60      0.75      1368\n",
      "     neutral       0.70      0.98      0.82      4109\n",
      "    positive       0.89      0.44      0.58      2270\n",
      "\n",
      "    accuracy                           0.76      7747\n",
      "   macro avg       0.86      0.67      0.72      7747\n",
      "weighted avg       0.80      0.76      0.74      7747\n",
      "\n",
      "Test Prediction\n",
      "--------------------\n",
      "              precision    recall  f1-score   support\n",
      "\n",
      "    negative       0.96      0.46      0.62       241\n",
      "     neutral       0.61      0.93      0.74       726\n",
      "    positive       0.62      0.24      0.34       401\n",
      "\n",
      "    accuracy                           0.64      1368\n",
      "   macro avg       0.73      0.54      0.57      1368\n",
      "weighted avg       0.68      0.64      0.60      1368\n",
      "\n"
     ]
    }
   ],
   "source": [
    "_, _ = get_prediction(clf2_NB, X_train_vec, X_val_vec, y_train, y_val)"
   ]
  },
  {
   "cell_type": "code",
   "execution_count": 359,
   "metadata": {
    "hideCode": false,
    "hidePrompt": false
   },
   "outputs": [
    {
     "data": {
      "text/plain": [
       "RandomForestClassifier(n_jobs=6, random_state=0)"
      ]
     },
     "execution_count": 359,
     "metadata": {},
     "output_type": "execute_result"
    }
   ],
   "source": [
    "# Instantiate a Random Forest Classifier\n",
    "clf_rf2 = RandomForestClassifier(n_estimators=100, random_state=0, n_jobs=6)\n",
    "clf_rf2.fit(X_train_vec, y_train)"
   ]
  },
  {
   "cell_type": "code",
   "execution_count": 360,
   "metadata": {
    "hideCode": false,
    "hidePrompt": false
   },
   "outputs": [
    {
     "name": "stdout",
     "output_type": "stream",
     "text": [
      "Training Prediction\n",
      "--------------------\n",
      "              precision    recall  f1-score   support\n",
      "\n",
      "    negative       0.99      0.98      0.99      1368\n",
      "     neutral       0.95      0.98      0.96      4109\n",
      "    positive       0.96      0.92      0.94      2270\n",
      "\n",
      "    accuracy                           0.96      7747\n",
      "   macro avg       0.97      0.96      0.96      7747\n",
      "weighted avg       0.96      0.96      0.96      7747\n",
      "\n",
      "Test Prediction\n",
      "--------------------\n",
      "              precision    recall  f1-score   support\n",
      "\n",
      "    negative       0.83      0.67      0.74       241\n",
      "     neutral       0.67      0.86      0.76       726\n",
      "    positive       0.66      0.40      0.50       401\n",
      "\n",
      "    accuracy                           0.69      1368\n",
      "   macro avg       0.72      0.65      0.67      1368\n",
      "weighted avg       0.70      0.69      0.68      1368\n",
      "\n"
     ]
    }
   ],
   "source": [
    "_, _ = get_prediction(clf_rf2, X_train_vec, X_val_vec, y_train, y_val)"
   ]
  },
  {
   "cell_type": "markdown",
   "metadata": {
    "hideCode": false,
    "hidePrompt": false
   },
   "source": [
    "We do not see any major improvement when using lemmatized data for both Naive Bayes and Random Forest. However, in general, an accuracy of 64% is a good baseline for any text classification. Next we will test Neural Network based classification using LSTM and GRU. "
   ]
  },
  {
   "cell_type": "markdown",
   "metadata": {
    "hideCode": false,
    "hidePrompt": false
   },
   "source": [
    "## Neural Networks"
   ]
  },
  {
   "cell_type": "code",
   "execution_count": 272,
   "metadata": {
    "hideCode": false,
    "hidePrompt": false
   },
   "outputs": [],
   "source": [
    "import warnings\n",
    "warnings.filterwarnings('ignore')"
   ]
  },
  {
   "cell_type": "markdown",
   "metadata": {
    "hideCode": false,
    "hidePrompt": false
   },
   "source": [
    "#### One-hot-encoding\n",
    "One of the requirement for Tensorflow is that our output class label needs to be one-hot encoded."
   ]
  },
  {
   "cell_type": "code",
   "execution_count": 257,
   "metadata": {
    "hideCode": false,
    "hidePrompt": false
   },
   "outputs": [
    {
     "name": "stdout",
     "output_type": "stream",
     "text": [
      "0    have iphone after hrs tweeting rise austin was...\n",
      "1    know about awesome ipad iphone app that you wi...\n",
      "2    can not wait for ipad also they should sale th...\n",
      "Name: clean_tweets1, dtype: object    negative  neutral  positive\n",
      "0         1        0         0\n",
      "1         0        0         1\n",
      "2         0        0         1\n"
     ]
    }
   ],
   "source": [
    "X = df['clean_tweets1']\n",
    "y_ohe = pd.get_dummies(df['emotion'])\n",
    "print(X.iloc[:3], y_ohe.iloc[:3])"
   ]
  },
  {
   "cell_type": "code",
   "execution_count": 354,
   "metadata": {
    "hideCode": false,
    "hidePrompt": false
   },
   "outputs": [
    {
     "data": {
      "text/plain": [
       "((7747,), (1368,), (1013,), (7747, 3), (1368, 3), (1013, 3))"
      ]
     },
     "execution_count": 354,
     "metadata": {},
     "output_type": "execute_result"
    }
   ],
   "source": [
    "X_train, X_test, y_train, y_test = train_test_split(X, y_ohe, test_size=0.10, stratify=y_ohe,\n",
    "                                                    random_state=42)\n",
    "X_train, X_val, y_train, y_val = train_test_split(X_train, y_train, test_size=0.15, stratify=y_train,\n",
    "                                                  random_state=42)\n",
    "X_train.shape, X_val.shape, X_test.shape, y_train.shape, y_val.shape, y_test.shape"
   ]
  },
  {
   "cell_type": "markdown",
   "metadata": {
    "hideCode": false,
    "hidePrompt": false
   },
   "source": [
    "#### Tokenization"
   ]
  },
  {
   "cell_type": "code",
   "execution_count": 355,
   "metadata": {
    "hideCode": false,
    "hidePrompt": false
   },
   "outputs": [],
   "source": [
    "def create_tokens(X_train, X_val, X_test):\n",
    "    '''\n",
    "    A simple function to create word tokens with padded sequences\n",
    "    '''\n",
    "    tokenizer = Tokenizer(oov_token=True)\n",
    "    tokenizer.fit_on_texts(X_train)\n",
    "    \n",
    "    X_train_token = tokenizer.texts_to_sequences(X_train)\n",
    "    X_test_token = tokenizer.texts_to_sequences(X_test)\n",
    "    X_val_token = tokenizer.texts_to_sequences(X_val)\n",
    "    \n",
    "    vocab_size = len(tokenizer.word_index) + 1\n",
    "    \n",
    "    maxlen = len(max(X_train_token, key=lambda x: len(x)))\n",
    "    maxlen_orig= len(max(X_train, key=lambda x: len(x)))\n",
    "    \n",
    "    X_train_seq = pad_sequences(X_train_token, padding='post', maxlen=maxlen)\n",
    "    X_test_seq = pad_sequences(X_test_token, padding='post', maxlen=maxlen)\n",
    "    X_val_seq = pad_sequences(X_val_token, padding='post', maxlen=maxlen)\n",
    "    \n",
    "    print(f\"Token count: {tokenizer.document_count}, Vocab size: {vocab_size}, Max lenth: {maxlen}, Original length: {maxlen_orig}\")\n",
    "    \n",
    "    return X_train_seq, X_test_seq, X_val_seq, maxlen, vocab_size, tokenizer"
   ]
  },
  {
   "cell_type": "code",
   "execution_count": 356,
   "metadata": {
    "hideCode": false,
    "hidePrompt": false
   },
   "outputs": [
    {
     "name": "stdout",
     "output_type": "stream",
     "text": [
      "Token count: 7747, Vocab size: 8961, Max lenth: 23, Original length: 131\n"
     ]
    }
   ],
   "source": [
    "X_train_seq, X_test_seq, X_val_seq, maxlen, vocab_size, tokenizer = create_tokens(X_train, X_val, X_test)"
   ]
  },
  {
   "cell_type": "markdown",
   "metadata": {
    "hideCode": false,
    "hidePrompt": false
   },
   "source": [
    "### LSTM Modeling"
   ]
  },
  {
   "cell_type": "code",
   "execution_count": 421,
   "metadata": {
    "hideCode": false,
    "hidePrompt": false
   },
   "outputs": [],
   "source": [
    "# Helper function: Define callbacks and save final model\n",
    "\n",
    "def predict(model, epochs, batch_size):\n",
    "    early_stop = [EarlyStopping(monitor='val_loss', patience=5),\n",
    "             ModelCheckpoint(filepath='best_model/cp.ckpt', monitor='val_loss',\n",
    "                             save_weights_only = True,\n",
    "                             save_best_only=True)]\n",
    "\n",
    "    history = model.fit(X_train_seq, y_train, \n",
    "                     batch_size=batch_size, epochs=epochs, verbose=1, \n",
    "                     validation_data=(X_val_seq, y_val),\n",
    "                     callbacks=early_stop,\n",
    "                       )\n",
    "        \n",
    "#     graph_model(history, 'loss')\n",
    "#     graph_model(history, 'accuracy')\n",
    "    \n",
    "    train_prediction = model.predict(X_train_seq, batch_size=batch_size)\n",
    "    val_prediction = model.predict(X_val_seq, batch_size=batch_size)\n",
    "    test_prediction = model.predict(X_test_seq, batch_size=batch_size)    \n",
    "    \n",
    "    return history, train_prediction, val_prediction, test_prediction, "
   ]
  },
  {
   "cell_type": "code",
   "execution_count": 269,
   "metadata": {
    "hideCode": false,
    "hidePrompt": false
   },
   "outputs": [],
   "source": [
    "def graph_model(history, metrics):\n",
    "    plt.plot(history.history[metrics])\n",
    "    plt.plot(history.history['val_'+ metrics])\n",
    "    plt.xlabel('Epochs')\n",
    "    plt.ylabel(metrics)\n",
    "    plt.legend(['training', 'test'], loc='upper right')\n",
    "    plt.show()"
   ]
  },
  {
   "cell_type": "code",
   "execution_count": 418,
   "metadata": {
    "hideCode": false,
    "hidePrompt": false
   },
   "outputs": [
    {
     "name": "stdout",
     "output_type": "stream",
     "text": [
      "Model: \"sequential_36\"\n",
      "_________________________________________________________________\n",
      "Layer (type)                 Output Shape              Param #   \n",
      "=================================================================\n",
      "embedding_35 (Embedding)     (None, 23, 100)           896100    \n",
      "_________________________________________________________________\n",
      "lstm_17 (LSTM)               (None, 23, 128)           117248    \n",
      "_________________________________________________________________\n",
      "global_max_pooling1d_17 (Glo (None, 128)               0         \n",
      "_________________________________________________________________\n",
      "dropout_83 (Dropout)         (None, 128)               0         \n",
      "_________________________________________________________________\n",
      "dense_57 (Dense)             (None, 64)                8256      \n",
      "_________________________________________________________________\n",
      "dense_58 (Dense)             (None, 3)                 195       \n",
      "=================================================================\n",
      "Total params: 1,021,799\n",
      "Trainable params: 1,021,799\n",
      "Non-trainable params: 0\n",
      "_________________________________________________________________\n",
      "None\n"
     ]
    }
   ],
   "source": [
    "# Train a simple LSTM model\n",
    "\n",
    "embed_dim=128\n",
    "\n",
    "model_lstm1 = Sequential()\n",
    "model_lstm1.add(layers.Embedding(input_dim = vocab_size,\n",
    "                    output_dim = 100,\n",
    "                    input_length = maxlen))\n",
    "model_lstm1.add(layers.LSTM(embed_dim, return_sequences=True))\n",
    "model_lstm1.add(layers.GlobalMaxPool1D())\n",
    "model_lstm1.add(layers.Dropout(0.2))\n",
    "model_lstm1.add(layers.Dense(64, activation='relu'))\n",
    "model_lstm1.add(layers.Dense(3, activation='softmax'))\n",
    "          \n",
    "model_lstm1.compile(loss='categorical_crossentropy', optimizer='adam', metrics=['accuracy'])\n",
    "print(model_lstm1.summary())"
   ]
  },
  {
   "cell_type": "code",
   "execution_count": null,
   "metadata": {
    "hideCode": false,
    "hidePrompt": false,
    "scrolled": false
   },
   "outputs": [],
   "source": [
    "history_lstm1, _, _, _ = predict(model_lstm1, 20, 32)"
   ]
  },
  {
   "cell_type": "code",
   "execution_count": 420,
   "metadata": {},
   "outputs": [
    {
     "data": {
      "image/png": "[encoded data removed]",
      "text/plain": [
       "<Figure size 432x288 with 1 Axes>"
      ]
     },
     "metadata": {},
     "output_type": "display_data"
    },
    {
     "data": {
      "image/png": "[encoded data removed]",
      "text/plain": [
       "<Figure size 432x288 with 1 Axes>"
      ]
     },
     "metadata": {},
     "output_type": "display_data"
    }
   ],
   "source": [
    "graph_model(history_lstm1, 'loss')\n",
    "graph_model(history_lstm1, 'accuracy')"
   ]
  },
  {
   "cell_type": "code",
   "execution_count": 422,
   "metadata": {
    "hideCode": false,
    "hidePrompt": false
   },
   "outputs": [
    {
     "name": "stdout",
     "output_type": "stream",
     "text": [
      "Model: \"sequential_37\"\n",
      "_________________________________________________________________\n",
      "Layer (type)                 Output Shape              Param #   \n",
      "=================================================================\n",
      "embedding_36 (Embedding)     (None, 23, 128)           1147008   \n",
      "_________________________________________________________________\n",
      "bidirectional_11 (Bidirectio (None, 23, 256)           263168    \n",
      "_________________________________________________________________\n",
      "global_max_pooling1d_18 (Glo (None, 256)               0         \n",
      "_________________________________________________________________\n",
      "dropout_84 (Dropout)         (None, 256)               0         \n",
      "_________________________________________________________________\n",
      "dense_59 (Dense)             (None, 64)                16448     \n",
      "_________________________________________________________________\n",
      "dense_60 (Dense)             (None, 3)                 195       \n",
      "=================================================================\n",
      "Total params: 1,426,819\n",
      "Trainable params: 1,426,819\n",
      "Non-trainable params: 0\n",
      "_________________________________________________________________\n",
      "None\n"
     ]
    }
   ],
   "source": [
    "# LSTM model - Bidirectional\n",
    "embed_dim=128\n",
    "\n",
    "model_lstm2 = Sequential()\n",
    "model_lstm2.add(layers.Embedding(input_dim = vocab_size,\n",
    "                    output_dim = 128,\n",
    "                    input_length = maxlen))\n",
    "model_lstm2.add(layers.Bidirectional(layers.LSTM(embed_dim, return_sequences=True)))\n",
    "model_lstm2.add(layers.GlobalMaxPool1D())\n",
    "model_lstm2.add(layers.Dropout(0.2))\n",
    "model_lstm2.add(layers.Dense(64, activation='relu'))\n",
    "model_lstm2.add(layers.Dense(3, activation='softmax'))\n",
    "          \n",
    "model_lstm2.compile(loss='categorical_crossentropy', optimizer='adam', metrics=['accuracy'])\n",
    "print(model_lstm2.summary())"
   ]
  },
  {
   "cell_type": "code",
   "execution_count": null,
   "metadata": {
    "hideCode": false,
    "hidePrompt": false,
    "scrolled": false
   },
   "outputs": [],
   "source": [
    "history_lstm2, _, _, _ = predict(model_lstm2, 20, 32)"
   ]
  },
  {
   "cell_type": "code",
   "execution_count": 424,
   "metadata": {},
   "outputs": [
    {
     "data": {
      "image/png": "[encoded data removed]",
      "text/plain": [
       "<Figure size 432x288 with 1 Axes>"
      ]
     },
     "metadata": {},
     "output_type": "display_data"
    },
    {
     "data": {
      "image/png": "[encoded data removed]",
      "text/plain": [
       "<Figure size 432x288 with 1 Axes>"
      ]
     },
     "metadata": {},
     "output_type": "display_data"
    }
   ],
   "source": [
    "graph_model(history_lstm2, 'loss')\n",
    "graph_model(history_lstm2, 'accuracy')"
   ]
  },
  {
   "cell_type": "markdown",
   "metadata": {
    "hideCode": false,
    "hidePrompt": false
   },
   "source": [
    "#### Observation"
   ]
  },
  {
   "cell_type": "markdown",
   "metadata": {
    "hideCode": false,
    "hidePrompt": false
   },
   "source": [
    "We can see our LSTM model hugely suffers from overfitting problem. Futhermore, current validation accuracy is on the same level as classical model such as Naive Bayes or Random Forest. \n",
    "In the next, let's try to import a pretrained model and see if we can get better result."
   ]
  },
  {
   "cell_type": "code",
   "execution_count": 40,
   "metadata": {
    "hideCode": false,
    "hidePrompt": false
   },
   "outputs": [
    {
     "name": "stderr",
     "output_type": "stream",
     "text": [
      "400000it [00:10, 38537.74it/s]\n"
     ]
    }
   ],
   "source": [
    "# Use GLOVE pretrained model\n",
    "import os\n",
    "\n",
    "GLOVE_DIR = \"D:/Machine_Learning/GLOVE\"\n",
    "embeddings_index = {}\n",
    "f = open(os.path.join(GLOVE_DIR, 'glove.6B.100d.txt'), encoding='utf8')\n",
    "for line in tqdm(f):\n",
    "    values = line.split()\n",
    "    word = values[0]\n",
    "    coefs = np.asarray(values[1:], dtype='float32')\n",
    "    embeddings_index[word] = coefs\n",
    "f.close()"
   ]
  },
  {
   "cell_type": "code",
   "execution_count": 44,
   "metadata": {
    "hideCode": false,
    "hidePrompt": false
   },
   "outputs": [
    {
     "name": "stdout",
     "output_type": "stream",
     "text": [
      "found 400000 word vectors.\n"
     ]
    }
   ],
   "source": [
    "print(f'found {len(embeddings_index)} word vectors.')"
   ]
  },
  {
   "cell_type": "markdown",
   "metadata": {
    "hideCode": false,
    "hidePrompt": false
   },
   "source": [
    "This is huge list, we need to create a matrix containing words for our vocabulary"
   ]
  },
  {
   "cell_type": "code",
   "execution_count": 41,
   "metadata": {
    "hideCode": false,
    "hidePrompt": false
   },
   "outputs": [
    {
     "name": "stderr",
     "output_type": "stream",
     "text": [
      "100%|██████████████████████████████████| 8960/8960 [00:00<00:00, 774561.80it/s]\n"
     ]
    }
   ],
   "source": [
    "# Create a weight matrix for work vocabulary from our training set\n",
    "\n",
    "embedding_matrix = np.zeros((vocab_size, 100))  # 100 for 100-dimensional version  \n",
    "for word, i in tqdm(tokenizer.word_index.items()):\n",
    "    embedding_vector = embeddings_index.get(word)\n",
    "    if embedding_vector is not None:\n",
    "        embedding_matrix[i] = embedding_vector"
   ]
  },
  {
   "cell_type": "markdown",
   "metadata": {
    "hideCode": false,
    "hidePrompt": false
   },
   "source": [
    "We chose 100-dimensional version, so the Embedding layer must be defined with output_dim set to 100.\n",
    "Also, we do not want to update the learned word weights in this model, therefore we will set the trainable attribute for the model to be False."
   ]
  },
  {
   "cell_type": "code",
   "execution_count": 425,
   "metadata": {
    "hideCode": false,
    "hidePrompt": false
   },
   "outputs": [
    {
     "name": "stdout",
     "output_type": "stream",
     "text": [
      "Model: \"sequential_38\"\n",
      "_________________________________________________________________\n",
      "Layer (type)                 Output Shape              Param #   \n",
      "=================================================================\n",
      "embedding_37 (Embedding)     (None, 23, 100)           896100    \n",
      "_________________________________________________________________\n",
      "bidirectional_12 (Bidirectio (None, 23, 256)           234496    \n",
      "_________________________________________________________________\n",
      "global_max_pooling1d_19 (Glo (None, 256)               0         \n",
      "_________________________________________________________________\n",
      "dropout_85 (Dropout)         (None, 256)               0         \n",
      "_________________________________________________________________\n",
      "dense_61 (Dense)             (None, 64)                16448     \n",
      "_________________________________________________________________\n",
      "dense_62 (Dense)             (None, 3)                 195       \n",
      "=================================================================\n",
      "Total params: 1,147,239\n",
      "Trainable params: 251,139\n",
      "Non-trainable params: 896,100\n",
      "_________________________________________________________________\n",
      "None\n"
     ]
    }
   ],
   "source": [
    "# LSTM model - Bidirectional with GLOVE embedding\n",
    "embed_dim=128\n",
    "\n",
    "model_lstm3 = Sequential()\n",
    "model_lstm3.add(layers.Embedding(input_dim = vocab_size, output_dim = 100,\n",
    "                     weights=[embedding_matrix], \n",
    "                     input_length=maxlen, trainable=False))\n",
    "model_lstm3.add(layers.Bidirectional(layers.LSTM(embed_dim, return_sequences=True)))\n",
    "model_lstm3.add(layers.GlobalMaxPool1D())\n",
    "model_lstm3.add(layers.Dropout(0.2))\n",
    "model_lstm3.add(layers.Dense(64, activation='relu'))\n",
    "model_lstm3.add(layers.Dense(3, activation='softmax'))\n",
    "          \n",
    "model_lstm3.compile(loss='categorical_crossentropy', optimizer='adam', metrics=['accuracy'])\n",
    "print(model_lstm3.summary())"
   ]
  },
  {
   "cell_type": "code",
   "execution_count": null,
   "metadata": {
    "hideCode": false,
    "hidePrompt": false,
    "scrolled": false
   },
   "outputs": [],
   "source": [
    "hist_lstm3, train_lstm3, val_lstm3, test_lstm3 = predict(model_lstm3, 20, 32)"
   ]
  },
  {
   "cell_type": "code",
   "execution_count": 427,
   "metadata": {},
   "outputs": [
    {
     "data": {
      "image/png": "[encoded data removed]",
      "text/plain": [
       "<Figure size 432x288 with 1 Axes>"
      ]
     },
     "metadata": {},
     "output_type": "display_data"
    },
    {
     "data": {
      "image/png": "[encoded data removed]",
      "text/plain": [
       "<Figure size 432x288 with 1 Axes>"
      ]
     },
     "metadata": {},
     "output_type": "display_data"
    }
   ],
   "source": [
    "graph_model(hist_lstm3, 'loss')\n",
    "graph_model(hist_lstm3, 'accuracy')"
   ]
  },
  {
   "cell_type": "markdown",
   "metadata": {
    "hideCode": false,
    "hidePrompt": false
   },
   "source": [
    "Even with the pretrained model, the LSTM is not reducing the overfitting of the data. In the next cell, we will try to optimize the model architecture. We will start by increasing drop_out parameters"
   ]
  },
  {
   "cell_type": "code",
   "execution_count": 314,
   "metadata": {
    "hideCode": false,
    "hidePrompt": false
   },
   "outputs": [
    {
     "name": "stdout",
     "output_type": "stream",
     "text": [
      "Model: \"sequential_24\"\n",
      "_________________________________________________________________\n",
      "Layer (type)                 Output Shape              Param #   \n",
      "=================================================================\n",
      "embedding_23 (Embedding)     (None, 23, 100)           896100    \n",
      "_________________________________________________________________\n",
      "dropout_59 (Dropout)         (None, 23, 100)           0         \n",
      "_________________________________________________________________\n",
      "bidirectional_8 (Bidirection (None, 23, 256)           234496    \n",
      "_________________________________________________________________\n",
      "global_max_pooling1d_14 (Glo (None, 256)               0         \n",
      "_________________________________________________________________\n",
      "dropout_60 (Dropout)         (None, 256)               0         \n",
      "_________________________________________________________________\n",
      "dense_33 (Dense)             (None, 64)                16448     \n",
      "_________________________________________________________________\n",
      "dense_34 (Dense)             (None, 3)                 195       \n",
      "=================================================================\n",
      "Total params: 1,147,239\n",
      "Trainable params: 251,139\n",
      "Non-trainable params: 896,100\n",
      "_________________________________________________________________\n",
      "None\n"
     ]
    }
   ],
   "source": [
    "# LSTM model - Bidirectional with GLOVE embedding\n",
    "embed_dim=128\n",
    "\n",
    "model_lstm4 = Sequential()\n",
    "model_lstm4.add(layers.Embedding(input_dim = vocab_size, output_dim = 100,\n",
    "                     weights=[embedding_matrix], \n",
    "                     input_length=maxlen, trainable=False))\n",
    "model_lstm4.add(layers.Dropout(0.4))\n",
    "model_lstm4.add(layers.Bidirectional(layers.LSTM(embed_dim, return_sequences=True)))\n",
    "model_lstm4.add(layers.GlobalMaxPool1D())\n",
    "model_lstm4.add(layers.Dropout(0.2))\n",
    "model_lstm4.add(layers.Dense(64, activation='relu'))\n",
    "model_lstm4.add(layers.Dense(3, activation='softmax'))\n",
    "          \n",
    "model_lstm4.compile(loss='categorical_crossentropy', optimizer='adam', metrics=['accuracy'])\n",
    "print(model_lstm4.summary())"
   ]
  },
  {
   "cell_type": "code",
   "execution_count": null,
   "metadata": {
    "hideCode": false,
    "hidePrompt": false,
    "scrolled": false
   },
   "outputs": [],
   "source": [
    "hist_lstm4, train_lstm4, val_lstm4, _ = predict(model_lstm4, 20, 32)"
   ]
  },
  {
   "cell_type": "code",
   "execution_count": 428,
   "metadata": {},
   "outputs": [
    {
     "data": {
      "image/png": "[encoded data removed]",
      "text/plain": [
       "<Figure size 432x288 with 1 Axes>"
      ]
     },
     "metadata": {},
     "output_type": "display_data"
    },
    {
     "data": {
      "image/png": "[encoded data removed]",
      "text/plain": [
       "<Figure size 432x288 with 1 Axes>"
      ]
     },
     "metadata": {},
     "output_type": "display_data"
    }
   ],
   "source": [
    "graph_model(hist_lstm4, 'loss')\n",
    "graph_model(hist_lstm4, 'accuracy')"
   ]
  },
  {
   "cell_type": "markdown",
   "metadata": {
    "hideCode": false,
    "hidePrompt": false
   },
   "source": [
    "Increasing Dropout seems to help the predictions! Let see the classification report on training and validation result"
   ]
  },
  {
   "cell_type": "code",
   "execution_count": 302,
   "metadata": {},
   "outputs": [],
   "source": [
    "def predict_df(y_true, y_pred):\n",
    "    '''\n",
    "    A simple function to put predicted results into a dataframe\n",
    "    '''\n",
    "    \n",
    "    true_df = pd.DataFrame(y_true.idxmax(axis=1), columns=['true_emotion']).reset_index(drop=True)\n",
    "    \n",
    "    pred_df = pd.DataFrame(y_pred.argmax(axis=1), columns=['predicted'])\n",
    "    pred_df['predicted'] = pred_df['predicted'].apply(lambda x: 'negative' if x==0 \n",
    "                                                     else 'neutral' if x==1 \n",
    "                                                     else 'positive' )\n",
    "    \n",
    "    merge_df = pd.merge(true_df, pred_df, left_index=True, right_index=True)\n",
    "    \n",
    "    print(classification_report(merge_df['true_emotion'], merge_df['predicted']))\n",
    "    \n",
    "    return merge_df"
   ]
  },
  {
   "cell_type": "code",
   "execution_count": 319,
   "metadata": {},
   "outputs": [
    {
     "name": "stdout",
     "output_type": "stream",
     "text": [
      "              precision    recall  f1-score   support\n",
      "\n",
      "    negative       0.94      0.83      0.88      1368\n",
      "     neutral       0.83      0.85      0.84      4109\n",
      "    positive       0.72      0.74      0.73      2270\n",
      "\n",
      "    accuracy                           0.82      7747\n",
      "   macro avg       0.83      0.81      0.82      7747\n",
      "weighted avg       0.82      0.82      0.82      7747\n",
      "\n",
      "              precision    recall  f1-score   support\n",
      "\n",
      "    negative       0.87      0.71      0.78       241\n",
      "     neutral       0.73      0.76      0.75       726\n",
      "    positive       0.55      0.58      0.56       401\n",
      "\n",
      "    accuracy                           0.70      1368\n",
      "   macro avg       0.72      0.68      0.70      1368\n",
      "weighted avg       0.70      0.70      0.70      1368\n",
      "\n"
     ]
    }
   ],
   "source": [
    "train_predict_df = predict_df(y_train, train_lstm4)\n",
    "val_predict_df = predict_df(y_val, val_lstm4)"
   ]
  },
  {
   "cell_type": "markdown",
   "metadata": {},
   "source": [
    "The validation accuracy of has improved slightly, but in general it is still suffering training overfit. Next we will try to implement GRU network which seems to perform better for smaller datasets."
   ]
  },
  {
   "cell_type": "markdown",
   "metadata": {
    "hideCode": false,
    "hidePrompt": false
   },
   "source": [
    "###  GRU"
   ]
  },
  {
   "cell_type": "code",
   "execution_count": 320,
   "metadata": {
    "hideCode": false,
    "hidePrompt": false
   },
   "outputs": [
    {
     "name": "stdout",
     "output_type": "stream",
     "text": [
      "Model: \"sequential_25\"\n",
      "_________________________________________________________________\n",
      "Layer (type)                 Output Shape              Param #   \n",
      "=================================================================\n",
      "embedding_24 (Embedding)     (None, 23, 100)           896100    \n",
      "_________________________________________________________________\n",
      "dropout_61 (Dropout)         (None, 23, 100)           0         \n",
      "_________________________________________________________________\n",
      "gru_3 (GRU)                  (None, 100)               60600     \n",
      "_________________________________________________________________\n",
      "flatten_3 (Flatten)          (None, 100)               0         \n",
      "_________________________________________________________________\n",
      "dropout_62 (Dropout)         (None, 100)               0         \n",
      "_________________________________________________________________\n",
      "dense_35 (Dense)             (None, 64)                6464      \n",
      "_________________________________________________________________\n",
      "dense_36 (Dense)             (None, 3)                 195       \n",
      "=================================================================\n",
      "Total params: 963,359\n",
      "Trainable params: 67,259\n",
      "Non-trainable params: 896,100\n",
      "_________________________________________________________________\n",
      "None\n"
     ]
    }
   ],
   "source": [
    "model_gru1 = Sequential()\n",
    "model_gru1.add(layers.Embedding(input_dim = vocab_size, output_dim = 100,\n",
    "                     weights=[embedding_matrix], \n",
    "                     input_length=maxlen, trainable=False))\n",
    "model_gru1.add(layers.Dropout(0.4))\n",
    "model_gru1.add(layers.GRU(100))\n",
    "model_gru1.add(layers.Flatten())\n",
    "model_gru1.add(layers.Dropout(0.2))\n",
    "model_gru1.add(layers.Dense(64, activation='relu'))\n",
    "model_gru1.add(layers.Dense(3, activation='softmax'))\n",
    "\n",
    "model_gru1.compile(loss='categorical_crossentropy', optimizer='adam', metrics=['accuracy'])\n",
    "print(model_gru1.summary())"
   ]
  },
  {
   "cell_type": "code",
   "execution_count": null,
   "metadata": {
    "hideCode": false,
    "hidePrompt": false,
    "scrolled": false
   },
   "outputs": [],
   "source": [
    "hist_gru1, train_gru1, val_gru1, test_gru1 = predict(model_gru1, 20, 32)"
   ]
  },
  {
   "cell_type": "code",
   "execution_count": 429,
   "metadata": {},
   "outputs": [
    {
     "data": {
      "image/png": "[encoded data removed]",
      "text/plain": [
       "<Figure size 432x288 with 1 Axes>"
      ]
     },
     "metadata": {},
     "output_type": "display_data"
    },
    {
     "data": {
      "image/png": "[encoded data removed]",
      "text/plain": [
       "<Figure size 432x288 with 1 Axes>"
      ]
     },
     "metadata": {},
     "output_type": "display_data"
    }
   ],
   "source": [
    "graph_model(hist_gru1, 'loss')\n",
    "graph_model(hist_gru1, 'accuracy')"
   ]
  },
  {
   "cell_type": "code",
   "execution_count": 323,
   "metadata": {
    "hideCode": false,
    "hidePrompt": false
   },
   "outputs": [
    {
     "name": "stdout",
     "output_type": "stream",
     "text": [
      "              precision    recall  f1-score   support\n",
      "\n",
      "    negative       0.98      0.81      0.89      1368\n",
      "     neutral       0.80      0.88      0.84      4109\n",
      "    positive       0.75      0.69      0.72      2270\n",
      "\n",
      "    accuracy                           0.81      7747\n",
      "   macro avg       0.84      0.79      0.81      7747\n",
      "weighted avg       0.82      0.81      0.81      7747\n",
      "\n",
      "              precision    recall  f1-score   support\n",
      "\n",
      "    negative       0.94      0.63      0.76       241\n",
      "     neutral       0.71      0.81      0.76       726\n",
      "    positive       0.58      0.55      0.56       401\n",
      "\n",
      "    accuracy                           0.70      1368\n",
      "   macro avg       0.74      0.66      0.69      1368\n",
      "weighted avg       0.71      0.70      0.70      1368\n",
      "\n"
     ]
    }
   ],
   "source": [
    "train_predict_df = predict_df(y_train, train_gru1)\n",
    "val_predict_df = predict_df(y_val, val_gru1)"
   ]
  },
  {
   "cell_type": "markdown",
   "metadata": {
    "hideCode": false,
    "hidePrompt": false
   },
   "source": [
    "We can see, there is not much of the difference in model performance betwen LSTM and GRU. We have noticed a strong imbalance in the class label in our dataset. Next, we will evaluate, if providing weights in the fit method will help to reduce the overfit."
   ]
  },
  {
   "cell_type": "markdown",
   "metadata": {
    "hideCode": false,
    "hidePrompt": false
   },
   "source": [
    "###  Imbalanced Class "
   ]
  },
  {
   "cell_type": "code",
   "execution_count": 324,
   "metadata": {
    "hideCode": false,
    "hidePrompt": false
   },
   "outputs": [
    {
     "data": {
      "text/plain": [
       "neutral     0.530411\n",
       "positive    0.293049\n",
       "negative    0.176540\n",
       "Name: emotion, dtype: float64"
      ]
     },
     "execution_count": 324,
     "metadata": {},
     "output_type": "execute_result"
    }
   ],
   "source": [
    "df.emotion.value_counts()/df.shape[0]"
   ]
  },
  {
   "cell_type": "code",
   "execution_count": 326,
   "metadata": {
    "hideCode": false,
    "hidePrompt": false
   },
   "outputs": [],
   "source": [
    "y_ohe_numpy = y_ohe.to_numpy()"
   ]
  },
  {
   "cell_type": "code",
   "execution_count": 327,
   "metadata": {
    "hideCode": false,
    "hidePrompt": false
   },
   "outputs": [],
   "source": [
    "from sklearn.utils.class_weight import compute_class_weight\n",
    " \n",
    "y_integers = np.argmax(y_ohe_numpy, axis=1)\n",
    "class_weights = compute_class_weight('balanced', np.unique(y_integers), y_integers)\n",
    "d_class_weights = dict(enumerate(class_weights))"
   ]
  },
  {
   "cell_type": "code",
   "execution_count": 328,
   "metadata": {
    "hideCode": false,
    "hidePrompt": false
   },
   "outputs": [
    {
     "data": {
      "text/plain": [
       "{0: 1.8881431767337808, 1: 0.6284437825763217, 2: 1.137466307277628}"
      ]
     },
     "execution_count": 328,
     "metadata": {},
     "output_type": "execute_result"
    }
   ],
   "source": [
    "d_class_weights"
   ]
  },
  {
   "cell_type": "code",
   "execution_count": 331,
   "metadata": {},
   "outputs": [],
   "source": [
    "# Define callbacks and save final model\n",
    "def predict_w(model, epochs, batch_size, weights):\n",
    "    early_stop = [EarlyStopping(monitor='val_loss', patience=5),\n",
    "             ModelCheckpoint(filepath='best_model_m.h5', monitor='val_loss',\n",
    "                            save_best_only=True)]\n",
    "\n",
    "    history = model.fit(X_train_seq, y_train, \n",
    "                     batch_size=batch_size, epochs=epochs, verbose=1, \n",
    "                     validation_data=(X_val_seq, y_val),\n",
    "                     callbacks=early_stop,\n",
    "                     class_weight=weights)\n",
    "                               \n",
    "    graph_model(history, 'loss')\n",
    "    graph_model(history, 'accuracy')\n",
    "    \n",
    "    train_prediction = model.predict(X_train_seq, batch_size=batch_size)\n",
    "    val_prediction = model.predict(X_val_seq, batch_size=batch_size)\n",
    "    test_prediction = model.predict(X_test_seq, batch_size=batch_size)    \n",
    "    \n",
    "    return history, train_prediction, val_prediction, test_prediction "
   ]
  },
  {
   "cell_type": "code",
   "execution_count": 332,
   "metadata": {
    "hideCode": false,
    "hidePrompt": false
   },
   "outputs": [
    {
     "name": "stdout",
     "output_type": "stream",
     "text": [
      "Model: \"sequential_27\"\n",
      "_________________________________________________________________\n",
      "Layer (type)                 Output Shape              Param #   \n",
      "=================================================================\n",
      "embedding_26 (Embedding)     (None, 23, 100)           896100    \n",
      "_________________________________________________________________\n",
      "dropout_65 (Dropout)         (None, 23, 100)           0         \n",
      "_________________________________________________________________\n",
      "bidirectional_10 (Bidirectio (None, 23, 256)           234496    \n",
      "_________________________________________________________________\n",
      "global_max_pooling1d_16 (Glo (None, 256)               0         \n",
      "_________________________________________________________________\n",
      "dropout_66 (Dropout)         (None, 256)               0         \n",
      "_________________________________________________________________\n",
      "dense_39 (Dense)             (None, 64)                16448     \n",
      "_________________________________________________________________\n",
      "dense_40 (Dense)             (None, 3)                 195       \n",
      "=================================================================\n",
      "Total params: 1,147,239\n",
      "Trainable params: 251,139\n",
      "Non-trainable params: 896,100\n",
      "_________________________________________________________________\n",
      "None\n"
     ]
    }
   ],
   "source": [
    "# LSTM model - Bidirectional with GLOVE embedding\n",
    "embed_dim=128\n",
    "\n",
    "model_lstm5 = Sequential()\n",
    "model_lstm5.add(layers.Embedding(input_dim = vocab_size, output_dim = 100,\n",
    "                     weights=[embedding_matrix], \n",
    "                     input_length=maxlen, trainable=False))\n",
    "model_lstm5.add(layers.Dropout(0.4))\n",
    "model_lstm5.add(layers.Bidirectional(layers.LSTM(embed_dim, return_sequences=True)))\n",
    "model_lstm5.add(layers.GlobalMaxPool1D())\n",
    "model_lstm5.add(layers.Dropout(0.2))\n",
    "model_lstm5.add(layers.Dense(64, activation='relu'))\n",
    "model_lstm5.add(layers.Dense(3, activation='softmax'))\n",
    "          \n",
    "model_lstm5.compile(loss='categorical_crossentropy', optimizer='adam', metrics=['accuracy'])\n",
    "print(model_lstm5.summary())"
   ]
  },
  {
   "cell_type": "code",
   "execution_count": null,
   "metadata": {
    "hideCode": false,
    "hidePrompt": false,
    "scrolled": true
   },
   "outputs": [],
   "source": [
    "hist_lstm5, train_lstm5, val_lstm5, _ = predict_w(model_lstm5, 20, 32, d_class_weights)"
   ]
  },
  {
   "cell_type": "code",
   "execution_count": 430,
   "metadata": {},
   "outputs": [
    {
     "data": {
      "image/png": "[encoded data removed]",
      "text/plain": [
       "<Figure size 432x288 with 1 Axes>"
      ]
     },
     "metadata": {},
     "output_type": "display_data"
    },
    {
     "data": {
      "image/png": "[encoded data removed]",
      "text/plain": [
       "<Figure size 432x288 with 1 Axes>"
      ]
     },
     "metadata": {},
     "output_type": "display_data"
    }
   ],
   "source": [
    "graph_model(hist_lstm5, 'loss')\n",
    "graph_model(hist_lstm5, 'accuracy')"
   ]
  },
  {
   "cell_type": "code",
   "execution_count": 334,
   "metadata": {
    "hideCode": false,
    "hidePrompt": false
   },
   "outputs": [
    {
     "name": "stdout",
     "output_type": "stream",
     "text": [
      "Model: \"sequential_28\"\n",
      "_________________________________________________________________\n",
      "Layer (type)                 Output Shape              Param #   \n",
      "=================================================================\n",
      "embedding_27 (Embedding)     (None, 23, 100)           896100    \n",
      "_________________________________________________________________\n",
      "dropout_67 (Dropout)         (None, 23, 100)           0         \n",
      "_________________________________________________________________\n",
      "gru_4 (GRU)                  (None, 100)               60600     \n",
      "_________________________________________________________________\n",
      "flatten_4 (Flatten)          (None, 100)               0         \n",
      "_________________________________________________________________\n",
      "dropout_68 (Dropout)         (None, 100)               0         \n",
      "_________________________________________________________________\n",
      "dense_41 (Dense)             (None, 64)                6464      \n",
      "_________________________________________________________________\n",
      "dense_42 (Dense)             (None, 3)                 195       \n",
      "=================================================================\n",
      "Total params: 963,359\n",
      "Trainable params: 67,259\n",
      "Non-trainable params: 896,100\n",
      "_________________________________________________________________\n",
      "None\n"
     ]
    }
   ],
   "source": [
    "# GRU \n",
    "model_gru2 = Sequential()\n",
    "model_gru2.add(layers.Embedding(input_dim = vocab_size, output_dim = 100,\n",
    "                     weights=[embedding_matrix], \n",
    "                     input_length=maxlen, trainable=False))\n",
    "model_gru2.add(layers.Dropout(0.4))\n",
    "model_gru2.add(layers.GRU(100))\n",
    "model_gru2.add(layers.Flatten())\n",
    "model_gru2.add(layers.Dropout(0.2))\n",
    "model_gru2.add(layers.Dense(64, activation='relu'))\n",
    "model_gru2.add(layers.Dense(3, activation='softmax'))\n",
    "\n",
    "model_gru2.compile(loss='categorical_crossentropy', optimizer='adam', metrics=['accuracy'])\n",
    "print(model_gru2.summary())"
   ]
  },
  {
   "cell_type": "code",
   "execution_count": null,
   "metadata": {
    "hideCode": false,
    "hidePrompt": false,
    "scrolled": false
   },
   "outputs": [],
   "source": [
    "hist_gru2, train_gru2, val_gru2, test_gru2 = predict_w(model_gru2, 20, 32, d_class_weights)"
   ]
  },
  {
   "cell_type": "code",
   "execution_count": 431,
   "metadata": {},
   "outputs": [
    {
     "data": {
      "image/png": "[encoded data removed]",
      "text/plain": [
       "<Figure size 432x288 with 1 Axes>"
      ]
     },
     "metadata": {},
     "output_type": "display_data"
    },
    {
     "data": {
      "image/png": "[encoded data removed]",
      "text/plain": [
       "<Figure size 432x288 with 1 Axes>"
      ]
     },
     "metadata": {},
     "output_type": "display_data"
    }
   ],
   "source": [
    "graph_model(hist_gru2, 'loss')\n",
    "graph_model(hist_gru2, 'accuracy')"
   ]
  },
  {
   "cell_type": "code",
   "execution_count": 337,
   "metadata": {
    "hideCode": false,
    "hidePrompt": false
   },
   "outputs": [
    {
     "name": "stdout",
     "output_type": "stream",
     "text": [
      "              precision    recall  f1-score   support\n",
      "\n",
      "    negative       0.86      0.93      0.90      1368\n",
      "     neutral       0.89      0.66      0.76      4109\n",
      "    positive       0.61      0.86      0.71      2270\n",
      "\n",
      "    accuracy                           0.77      7747\n",
      "   macro avg       0.79      0.82      0.79      7747\n",
      "weighted avg       0.80      0.77      0.77      7747\n",
      "\n",
      "              precision    recall  f1-score   support\n",
      "\n",
      "    negative       0.81      0.76      0.78       241\n",
      "     neutral       0.81      0.58      0.68       726\n",
      "    positive       0.50      0.78      0.61       401\n",
      "\n",
      "    accuracy                           0.67      1368\n",
      "   macro avg       0.71      0.70      0.69      1368\n",
      "weighted avg       0.72      0.67      0.67      1368\n",
      "\n"
     ]
    }
   ],
   "source": [
    "train_predict_df = predict_df(y_train, train_gru2)\n",
    "val_predict_df = predict_df(y_val, val_gru2)\n"
   ]
  },
  {
   "cell_type": "markdown",
   "metadata": {
    "hideCode": false,
    "hidePrompt": false
   },
   "source": [
    "Even though we add class weights, we do not see being improvement in the model performance."
   ]
  },
  {
   "cell_type": "markdown",
   "metadata": {},
   "source": [
    "### Final Modelling"
   ]
  },
  {
   "cell_type": "code",
   "execution_count": 344,
   "metadata": {},
   "outputs": [],
   "source": [
    "def create_model(model_type, vocab_size, maxlen):\n",
    "    '''\n",
    "    Create and return a compiled model\n",
    "    '''\n",
    "    \n",
    "    if model_type == 'lstm':\n",
    "        \n",
    "        model = Sequential()\n",
    "        model.add(layers.Embedding(input_dim = vocab_size, output_dim = 100,\n",
    "                             weights=[embedding_matrix], \n",
    "                             input_length=maxlen, trainable=False))\n",
    "        model.add(layers.Dropout(0.4))\n",
    "        model.add(layers.Bidirectional(layers.LSTM(embed_dim, return_sequences=True)))\n",
    "        model.add(layers.GlobalMaxPool1D())\n",
    "        model.add(layers.Dropout(0.2))\n",
    "        model.add(layers.Dense(64, activation='relu'))\n",
    "        model.add(layers.Dense(3, activation='softmax'))\n",
    "\n",
    "        model.compile(loss='categorical_crossentropy', optimizer='adam', metrics=['accuracy'])\n",
    "        \n",
    "    elif model_type == 'gru':\n",
    "                   \n",
    "        model = Sequential()\n",
    "        model.add(layers.Embedding(input_dim = vocab_size, output_dim = 100,\n",
    "                             weights=[embedding_matrix], \n",
    "                             input_length=maxlen, trainable=False))\n",
    "        model.add(layers.Dropout(0.4))\n",
    "        model.add(layers.GRU(100))\n",
    "        model.add(layers.Flatten())\n",
    "        model.add(layers.Dropout(0.2))\n",
    "        model.add(layers.Dense(64, activation='relu'))\n",
    "        model.add(layers.Dense(3, activation='softmax'))\n",
    "\n",
    "        model.compile(loss='categorical_crossentropy', optimizer='adam', metrics=['accuracy'])\n",
    "    \n",
    "    return model"
   ]
  },
  {
   "cell_type": "code",
   "execution_count": 361,
   "metadata": {},
   "outputs": [
    {
     "name": "stdout",
     "output_type": "stream",
     "text": [
      "Model: \"sequential_35\"\n",
      "_________________________________________________________________\n",
      "Layer (type)                 Output Shape              Param #   \n",
      "=================================================================\n",
      "embedding_34 (Embedding)     (None, 23, 100)           896100    \n",
      "_________________________________________________________________\n",
      "dropout_81 (Dropout)         (None, 23, 100)           0         \n",
      "_________________________________________________________________\n",
      "gru_11 (GRU)                 (None, 100)               60600     \n",
      "_________________________________________________________________\n",
      "flatten_11 (Flatten)         (None, 100)               0         \n",
      "_________________________________________________________________\n",
      "dropout_82 (Dropout)         (None, 100)               0         \n",
      "_________________________________________________________________\n",
      "dense_55 (Dense)             (None, 64)                6464      \n",
      "_________________________________________________________________\n",
      "dense_56 (Dense)             (None, 3)                 195       \n",
      "=================================================================\n",
      "Total params: 963,359\n",
      "Trainable params: 67,259\n",
      "Non-trainable params: 896,100\n",
      "_________________________________________________________________\n"
     ]
    }
   ],
   "source": [
    "final_model = create_model('gru', vocab_size, maxlen)\n",
    "final_model.summary()"
   ]
  },
  {
   "cell_type": "markdown",
   "metadata": {},
   "source": [
    "### Model Fit"
   ]
  },
  {
   "cell_type": "code",
   "execution_count": 362,
   "metadata": {
    "scrolled": false
   },
   "outputs": [
    {
     "name": "stdout",
     "output_type": "stream",
     "text": [
      "Epoch 1/20\n",
      "WARNING:tensorflow:AutoGraph could not transform <function Model.make_train_function.<locals>.train_function at 0x000002E1430DD318> and will run it as-is.\n",
      "Please report this to the TensorFlow team. When filing the bug, set the verbosity to 10 (on Linux, `export AUTOGRAPH_VERBOSITY=10`) and attach the full output.\n",
      "Cause: 'arguments' object has no attribute 'posonlyargs'\n",
      "To silence this warning, decorate the function with @tf.autograph.experimental.do_not_convert\n",
      "WARNING: AutoGraph could not transform <function Model.make_train_function.<locals>.train_function at 0x000002E1430DD318> and will run it as-is.\n",
      "Please report this to the TensorFlow team. When filing the bug, set the verbosity to 10 (on Linux, `export AUTOGRAPH_VERBOSITY=10`) and attach the full output.\n",
      "Cause: 'arguments' object has no attribute 'posonlyargs'\n",
      "To silence this warning, decorate the function with @tf.autograph.experimental.do_not_convert\n",
      "225/243 [==========================>...] - ETA: 0s - loss: 0.9365 - accuracy: 0.5474WARNING:tensorflow:AutoGraph could not transform <function Model.make_test_function.<locals>.test_function at 0x000002E126D674C8> and will run it as-is.\n",
      "Please report this to the TensorFlow team. When filing the bug, set the verbosity to 10 (on Linux, `export AUTOGRAPH_VERBOSITY=10`) and attach the full output.\n",
      "Cause: 'arguments' object has no attribute 'posonlyargs'\n",
      "To silence this warning, decorate the function with @tf.autograph.experimental.do_not_convert\n",
      "WARNING: AutoGraph could not transform <function Model.make_test_function.<locals>.test_function at 0x000002E126D674C8> and will run it as-is.\n",
      "Please report this to the TensorFlow team. When filing the bug, set the verbosity to 10 (on Linux, `export AUTOGRAPH_VERBOSITY=10`) and attach the full output.\n",
      "Cause: 'arguments' object has no attribute 'posonlyargs'\n",
      "To silence this warning, decorate the function with @tf.autograph.experimental.do_not_convert\n",
      "\n",
      "Epoch 00001: val_loss improved from inf to 0.85085, saving model to final_model_weights\\cp.0001.ckpt\n",
      "243/243 [==============================] - 1s 5ms/step - loss: 0.9325 - accuracy: 0.5513 - val_loss: 0.8509 - val_accuracy: 0.5987\n",
      "Epoch 2/20\n",
      "228/243 [===========================>..] - ETA: 0s - loss: 0.8426 - accuracy: 0.5933\n",
      "Epoch 00002: val_loss improved from 0.85085 to 0.80009, saving model to final_model_weights\\cp.0002.ckpt\n",
      "243/243 [==============================] - 1s 3ms/step - loss: 0.8432 - accuracy: 0.5936 - val_loss: 0.8001 - val_accuracy: 0.6155\n",
      "Epoch 3/20\n",
      "227/243 [===========================>..] - ETA: 0s - loss: 0.7936 - accuracy: 0.6169\n",
      "Epoch 00003: val_loss improved from 0.80009 to 0.74941, saving model to final_model_weights\\cp.0003.ckpt\n",
      "243/243 [==============================] - 1s 3ms/step - loss: 0.7938 - accuracy: 0.6171 - val_loss: 0.7494 - val_accuracy: 0.6579\n",
      "Epoch 4/20\n",
      "227/243 [===========================>..] - ETA: 0s - loss: 0.7595 - accuracy: 0.6408\n",
      "Epoch 00004: val_loss improved from 0.74941 to 0.73138, saving model to final_model_weights\\cp.0004.ckpt\n",
      "243/243 [==============================] - 1s 3ms/step - loss: 0.7597 - accuracy: 0.6422 - val_loss: 0.7314 - val_accuracy: 0.6681\n",
      "Epoch 5/20\n",
      "243/243 [==============================] - ETA: 0s - loss: 0.7352 - accuracy: 0.6539\n",
      "Epoch 00005: val_loss improved from 0.73138 to 0.70555, saving model to final_model_weights\\cp.0005.ckpt\n",
      "243/243 [==============================] - 1s 3ms/step - loss: 0.7352 - accuracy: 0.6539 - val_loss: 0.7056 - val_accuracy: 0.6791\n",
      "Epoch 6/20\n",
      "240/243 [============================>.] - ETA: 0s - loss: 0.7138 - accuracy: 0.6730\n",
      "Epoch 00006: val_loss improved from 0.70555 to 0.67941, saving model to final_model_weights\\cp.0006.ckpt\n",
      "243/243 [==============================] - 1s 3ms/step - loss: 0.7147 - accuracy: 0.6724 - val_loss: 0.6794 - val_accuracy: 0.6944\n",
      "Epoch 7/20\n",
      "242/243 [============================>.] - ETA: 0s - loss: 0.6925 - accuracy: 0.6785\n",
      "Epoch 00007: val_loss did not improve from 0.67941\n",
      "243/243 [==============================] - 1s 3ms/step - loss: 0.6924 - accuracy: 0.6786 - val_loss: 0.6961 - val_accuracy: 0.6827\n",
      "Epoch 8/20\n",
      "229/243 [===========================>..] - ETA: 0s - loss: 0.6736 - accuracy: 0.6930\n",
      "Epoch 00008: val_loss improved from 0.67941 to 0.65735, saving model to final_model_weights\\cp.0008.ckpt\n",
      "243/243 [==============================] - 1s 3ms/step - loss: 0.6738 - accuracy: 0.6918 - val_loss: 0.6574 - val_accuracy: 0.7010\n",
      "Epoch 9/20\n",
      "236/243 [============================>.] - ETA: 0s - loss: 0.6574 - accuracy: 0.7010\n",
      "Epoch 00009: val_loss improved from 0.65735 to 0.65259, saving model to final_model_weights\\cp.0009.ckpt\n",
      "243/243 [==============================] - 1s 3ms/step - loss: 0.6567 - accuracy: 0.7019 - val_loss: 0.6526 - val_accuracy: 0.6893\n",
      "Epoch 10/20\n",
      "228/243 [===========================>..] - ETA: 0s - loss: 0.6520 - accuracy: 0.7009\n",
      "Epoch 00010: val_loss did not improve from 0.65259\n",
      "243/243 [==============================] - 1s 3ms/step - loss: 0.6530 - accuracy: 0.7004 - val_loss: 0.6540 - val_accuracy: 0.6959\n",
      "Epoch 11/20\n",
      "231/243 [===========================>..] - ETA: 0s - loss: 0.6300 - accuracy: 0.7135\n",
      "Epoch 00011: val_loss improved from 0.65259 to 0.65011, saving model to final_model_weights\\cp.0011.ckpt\n",
      "243/243 [==============================] - 1s 3ms/step - loss: 0.6280 - accuracy: 0.7149 - val_loss: 0.6501 - val_accuracy: 0.7018\n",
      "Epoch 12/20\n",
      "228/243 [===========================>..] - ETA: 0s - loss: 0.6211 - accuracy: 0.7181\n",
      "Epoch 00012: val_loss improved from 0.65011 to 0.64662, saving model to final_model_weights\\cp.0012.ckpt\n",
      "243/243 [==============================] - 1s 3ms/step - loss: 0.6208 - accuracy: 0.7177 - val_loss: 0.6466 - val_accuracy: 0.7113\n",
      "Epoch 13/20\n",
      "243/243 [==============================] - ETA: 0s - loss: 0.6101 - accuracy: 0.7190\n",
      "Epoch 00013: val_loss improved from 0.64662 to 0.63975, saving model to final_model_weights\\cp.0013.ckpt\n",
      "243/243 [==============================] - 1s 3ms/step - loss: 0.6101 - accuracy: 0.7190 - val_loss: 0.6397 - val_accuracy: 0.7120\n",
      "Epoch 14/20\n",
      "243/243 [==============================] - ETA: 0s - loss: 0.6129 - accuracy: 0.7258\n",
      "Epoch 00014: val_loss did not improve from 0.63975\n",
      "243/243 [==============================] - 1s 3ms/step - loss: 0.6129 - accuracy: 0.7258 - val_loss: 0.6457 - val_accuracy: 0.7135\n",
      "Epoch 15/20\n",
      "226/243 [==========================>...] - ETA: 0s - loss: 0.5998 - accuracy: 0.7211\n",
      "Epoch 00015: val_loss improved from 0.63975 to 0.63733, saving model to final_model_weights\\cp.0015.ckpt\n",
      "243/243 [==============================] - 1s 3ms/step - loss: 0.5966 - accuracy: 0.7230 - val_loss: 0.6373 - val_accuracy: 0.7142\n",
      "Epoch 16/20\n",
      "225/243 [==========================>...] - ETA: 0s - loss: 0.5721 - accuracy: 0.7461\n",
      "Epoch 00016: val_loss did not improve from 0.63733\n",
      "243/243 [==============================] - 1s 3ms/step - loss: 0.5746 - accuracy: 0.7445 - val_loss: 0.6375 - val_accuracy: 0.7047\n",
      "Epoch 17/20\n",
      "230/243 [===========================>..] - ETA: 0s - loss: 0.5681 - accuracy: 0.7451\n",
      "Epoch 00017: val_loss did not improve from 0.63733\n",
      "243/243 [==============================] - 1s 3ms/step - loss: 0.5697 - accuracy: 0.7445 - val_loss: 0.6450 - val_accuracy: 0.7091\n",
      "Epoch 18/20\n",
      "240/243 [============================>.] - ETA: 0s - loss: 0.5569 - accuracy: 0.7477\n",
      "Epoch 00018: val_loss did not improve from 0.63733\n",
      "243/243 [==============================] - 1s 3ms/step - loss: 0.5591 - accuracy: 0.7466 - val_loss: 0.6625 - val_accuracy: 0.7083\n",
      "Epoch 19/20\n",
      "230/243 [===========================>..] - ETA: 0s - loss: 0.5520 - accuracy: 0.7526\n",
      "Epoch 00019: val_loss did not improve from 0.63733\n",
      "243/243 [==============================] - 1s 3ms/step - loss: 0.5532 - accuracy: 0.7523 - val_loss: 0.6461 - val_accuracy: 0.7025\n",
      "Epoch 20/20\n",
      "242/243 [============================>.] - ETA: 0s - loss: 0.5416 - accuracy: 0.7565\n",
      "Epoch 00020: val_loss improved from 0.63733 to 0.63161, saving model to final_model_weights\\cp.0020.ckpt\n",
      "243/243 [==============================] - 1s 3ms/step - loss: 0.5416 - accuracy: 0.7564 - val_loss: 0.6316 - val_accuracy: 0.7083\n"
     ]
    }
   ],
   "source": [
    "checkpoint_path = 'final_model_weights/cp.{epoch:04d}.ckpt'\n",
    "\n",
    "# Create a Model Check point\n",
    "checkpoint = ModelCheckpoint(\n",
    "    checkpoint_path,\n",
    "    save_weights_only=True,\n",
    "    save_best_only=True,\n",
    "    verbose=1\n",
    ")\n",
    "\n",
    "history_final = final_model.fit(X_train_seq, y_train,\n",
    "                          batch_size=32, \n",
    "                          epochs=20, \n",
    "                          verbose=1,\n",
    "                          validation_data=(X_val_seq, y_val),\n",
    "                          callbacks= [checkpoint]\n",
    "                         )\n",
    "    train_prediction = model.predict(X_train_seq, batch_size=batch_size)\n",
    "    val_prediction = model.predict(X_val_seq, batch_size=batch_size)\n",
    "    test_prediction = model.predict(X_test_seq, batch_size=batch_size)  "
   ]
  },
  {
   "cell_type": "code",
   "execution_count": 363,
   "metadata": {},
   "outputs": [
    {
     "data": {
      "image/png": "[encoded data removed]",
      "text/plain": [
       "<Figure size 432x288 with 1 Axes>"
      ]
     },
     "metadata": {},
     "output_type": "display_data"
    },
    {
     "data": {
      "image/png": "[encoded data removed]",
      "text/plain": [
       "<Figure size 432x288 with 1 Axes>"
      ]
     },
     "metadata": {},
     "output_type": "display_data"
    }
   ],
   "source": [
    "graph_model(history_final, 'loss')\n",
    "graph_model(history_final, 'accuracy')"
   ]
  },
  {
   "cell_type": "code",
   "execution_count": 364,
   "metadata": {},
   "outputs": [
    {
     "data": {
      "text/plain": [
       "['checkpoint',\n",
       " 'cp.0001.ckpt.data-00000-of-00001',\n",
       " 'cp.0001.ckpt.index',\n",
       " 'cp.0002.ckpt.data-00000-of-00001',\n",
       " 'cp.0002.ckpt.index',\n",
       " 'cp.0003.ckpt.data-00000-of-00001',\n",
       " 'cp.0003.ckpt.index',\n",
       " 'cp.0004.ckpt.data-00000-of-00001',\n",
       " 'cp.0004.ckpt.index',\n",
       " 'cp.0005.ckpt.data-00000-of-00001',\n",
       " 'cp.0005.ckpt.index',\n",
       " 'cp.0006.ckpt.data-00000-of-00001',\n",
       " 'cp.0006.ckpt.index',\n",
       " 'cp.0008.ckpt.data-00000-of-00001',\n",
       " 'cp.0008.ckpt.index',\n",
       " 'cp.0009.ckpt.data-00000-of-00001',\n",
       " 'cp.0009.ckpt.index',\n",
       " 'cp.0011.ckpt.data-00000-of-00001',\n",
       " 'cp.0011.ckpt.index',\n",
       " 'cp.0012.ckpt.data-00000-of-00001',\n",
       " 'cp.0012.ckpt.index',\n",
       " 'cp.0013.ckpt.data-00000-of-00001',\n",
       " 'cp.0013.ckpt.index',\n",
       " 'cp.0015.ckpt.data-00000-of-00001',\n",
       " 'cp.0015.ckpt.index',\n",
       " 'cp.0020.ckpt.data-00000-of-00001',\n",
       " 'cp.0020.ckpt.index',\n",
       " 'cp.ckpt.data-00000-of-00001',\n",
       " 'cp.ckpt.index']"
      ]
     },
     "execution_count": 364,
     "metadata": {},
     "output_type": "execute_result"
    }
   ],
   "source": [
    "# Look inside save folder.\n",
    "sorted(os.listdir('final_model_weights'))"
   ]
  },
  {
   "cell_type": "markdown",
   "metadata": {},
   "source": [
    "### Prediction"
   ]
  },
  {
   "cell_type": "code",
   "execution_count": 365,
   "metadata": {},
   "outputs": [
    {
     "name": "stdout",
     "output_type": "stream",
     "text": [
      "32/32 [==============================] - 0s 2ms/step - loss: 0.6626 - accuracy: 0.6969\n",
      "Model Accuracy:\n",
      "\t0.697\n"
     ]
    }
   ],
   "source": [
    "def evaluate_nn(model, X_test, y_test):\n",
    "    \"\"\"Print model accuracy on test set.\"\"\"\n",
    "    \n",
    "    loss, acc = model.evaluate(X_test, y_test)\n",
    "    print(f'Model Accuracy:\\n\\t{round(acc, 3)}')\n",
    "\n",
    "    \n",
    "# Evaluate model\n",
    "evaluate_nn(final_model, X_test_seq, y_test)"
   ]
  },
  {
   "cell_type": "code",
   "execution_count": 372,
   "metadata": {},
   "outputs": [],
   "source": [
    "test_prediction = final_model.predict(X_test_seq, batch_size=32)  "
   ]
  },
  {
   "cell_type": "code",
   "execution_count": 374,
   "metadata": {},
   "outputs": [
    {
     "name": "stdout",
     "output_type": "stream",
     "text": [
      "              precision    recall  f1-score   support\n",
      "\n",
      "    negative       0.83      0.65      0.73       179\n",
      "     neutral       0.69      0.83      0.75       537\n",
      "    positive       0.62      0.49      0.55       297\n",
      "\n",
      "    accuracy                           0.70      1013\n",
      "   macro avg       0.72      0.65      0.68      1013\n",
      "weighted avg       0.70      0.70      0.69      1013\n",
      "\n"
     ]
    }
   ],
   "source": [
    "test_predict_df = predict_df(y_test, test_prediction)"
   ]
  },
  {
   "cell_type": "code",
   "execution_count": 412,
   "metadata": {},
   "outputs": [
    {
     "data": {
      "text/html": [
       "<div>\n",
       "<style scoped>\n",
       "    .dataframe tbody tr th:only-of-type {\n",
       "        vertical-align: middle;\n",
       "    }\n",
       "\n",
       "    .dataframe tbody tr th {\n",
       "        vertical-align: top;\n",
       "    }\n",
       "\n",
       "    .dataframe thead th {\n",
       "        text-align: right;\n",
       "    }\n",
       "</style>\n",
       "<table border=\"1\" class=\"dataframe\">\n",
       "  <thead>\n",
       "    <tr style=\"text-align: right;\">\n",
       "      <th></th>\n",
       "      <th>true_emotion</th>\n",
       "      <th>predicted</th>\n",
       "    </tr>\n",
       "  </thead>\n",
       "  <tbody>\n",
       "    <tr>\n",
       "      <th>0</th>\n",
       "      <td>positive</td>\n",
       "      <td>positive</td>\n",
       "    </tr>\n",
       "    <tr>\n",
       "      <th>1</th>\n",
       "      <td>negative</td>\n",
       "      <td>neutral</td>\n",
       "    </tr>\n",
       "    <tr>\n",
       "      <th>2</th>\n",
       "      <td>neutral</td>\n",
       "      <td>neutral</td>\n",
       "    </tr>\n",
       "    <tr>\n",
       "      <th>3</th>\n",
       "      <td>neutral</td>\n",
       "      <td>neutral</td>\n",
       "    </tr>\n",
       "    <tr>\n",
       "      <th>4</th>\n",
       "      <td>negative</td>\n",
       "      <td>negative</td>\n",
       "    </tr>\n",
       "    <tr>\n",
       "      <th>...</th>\n",
       "      <td>...</td>\n",
       "      <td>...</td>\n",
       "    </tr>\n",
       "    <tr>\n",
       "      <th>1008</th>\n",
       "      <td>positive</td>\n",
       "      <td>neutral</td>\n",
       "    </tr>\n",
       "    <tr>\n",
       "      <th>1009</th>\n",
       "      <td>neutral</td>\n",
       "      <td>neutral</td>\n",
       "    </tr>\n",
       "    <tr>\n",
       "      <th>1010</th>\n",
       "      <td>neutral</td>\n",
       "      <td>neutral</td>\n",
       "    </tr>\n",
       "    <tr>\n",
       "      <th>1011</th>\n",
       "      <td>positive</td>\n",
       "      <td>positive</td>\n",
       "    </tr>\n",
       "    <tr>\n",
       "      <th>1012</th>\n",
       "      <td>negative</td>\n",
       "      <td>negative</td>\n",
       "    </tr>\n",
       "  </tbody>\n",
       "</table>\n",
       "<p>1013 rows × 2 columns</p>\n",
       "</div>"
      ],
      "text/plain": [
       "     true_emotion predicted\n",
       "0        positive  positive\n",
       "1        negative   neutral\n",
       "2         neutral   neutral\n",
       "3         neutral   neutral\n",
       "4        negative  negative\n",
       "...           ...       ...\n",
       "1008     positive   neutral\n",
       "1009      neutral   neutral\n",
       "1010      neutral   neutral\n",
       "1011     positive  positive\n",
       "1012     negative  negative\n",
       "\n",
       "[1013 rows x 2 columns]"
      ]
     },
     "execution_count": 412,
     "metadata": {},
     "output_type": "execute_result"
    }
   ],
   "source": [
    "test_predict_df"
   ]
  },
  {
   "cell_type": "code",
   "execution_count": 378,
   "metadata": {},
   "outputs": [
    {
     "data": {
      "text/plain": [
       "<AxesSubplot:xlabel='predicted', ylabel='count'>"
      ]
     },
     "execution_count": 378,
     "metadata": {},
     "output_type": "execute_result"
    },
    {
     "data": {
      "image/png": "[encoded data removed]",
      "text/plain": [
       "<Figure size 864x432 with 1 Axes>"
      ]
     },
     "metadata": {},
     "output_type": "display_data"
    }
   ],
   "source": [
    "fig =  plt.figure(figsize=(12,6))\n",
    "sns.countplot(x='predicted', data=test_predict_df)"
   ]
  },
  {
   "cell_type": "code",
   "execution_count": 413,
   "metadata": {},
   "outputs": [],
   "source": [
    "# load helper function\n",
    "from custom_confusion_matrix import create_confusion_matrix"
   ]
  },
  {
   "cell_type": "code",
   "execution_count": 416,
   "metadata": {},
   "outputs": [
    {
     "data": {
      "image/png": "[encoded data removed]",
      "text/plain": [
       "<Figure size 576x432 with 2 Axes>"
      ]
     },
     "metadata": {},
     "output_type": "display_data"
    }
   ],
   "source": [
    "cm = confusion_matrix(test_predict_df.true_emotion, test_predict_df.predicted)\n",
    "\n",
    "create_confusion_matrix(cm, figsize=(8,6), cbar=True)"
   ]
  },
  {
   "cell_type": "code",
   "execution_count": 459,
   "metadata": {},
   "outputs": [
    {
     "data": {
      "text/html": [
       "<div>\n",
       "<style scoped>\n",
       "    .dataframe tbody tr th:only-of-type {\n",
       "        vertical-align: middle;\n",
       "    }\n",
       "\n",
       "    .dataframe tbody tr th {\n",
       "        vertical-align: top;\n",
       "    }\n",
       "\n",
       "    .dataframe thead th {\n",
       "        text-align: right;\n",
       "    }\n",
       "</style>\n",
       "<table border=\"1\" class=\"dataframe\">\n",
       "  <thead>\n",
       "    <tr style=\"text-align: right;\">\n",
       "      <th></th>\n",
       "      <th>tweet</th>\n",
       "      <th>true_emotion</th>\n",
       "      <th>predicted</th>\n",
       "    </tr>\n",
       "  </thead>\n",
       "  <tbody>\n",
       "    <tr>\n",
       "      <th>0</th>\n",
       "      <td>haha awesomely rad ipad app hollergram via</td>\n",
       "      <td>positive</td>\n",
       "      <td>positive</td>\n",
       "    </tr>\n",
       "    <tr>\n",
       "      <th>1</th>\n",
       "      <td>what are you talking about back all the time</td>\n",
       "      <td>negative</td>\n",
       "      <td>neutral</td>\n",
       "    </tr>\n",
       "    <tr>\n",
       "      <th>2</th>\n",
       "      <td>talking about how mobile phones google earth e...</td>\n",
       "      <td>neutral</td>\n",
       "      <td>neutral</td>\n",
       "    </tr>\n",
       "    <tr>\n",
       "      <th>3</th>\n",
       "      <td>tweet this register for exclusive passes event...</td>\n",
       "      <td>neutral</td>\n",
       "      <td>neutral</td>\n",
       "    </tr>\n",
       "    <tr>\n",
       "      <th>4</th>\n",
       "      <td>thanks will keep mind tho have lately been unh...</td>\n",
       "      <td>negative</td>\n",
       "      <td>negative</td>\n",
       "    </tr>\n",
       "  </tbody>\n",
       "</table>\n",
       "</div>"
      ],
      "text/plain": [
       "                                               tweet true_emotion predicted\n",
       "0         haha awesomely rad ipad app hollergram via     positive  positive\n",
       "1       what are you talking about back all the time     negative   neutral\n",
       "2  talking about how mobile phones google earth e...      neutral   neutral\n",
       "3  tweet this register for exclusive passes event...      neutral   neutral\n",
       "4  thanks will keep mind tho have lately been unh...     negative  negative"
      ]
     },
     "execution_count": 459,
     "metadata": {},
     "output_type": "execute_result"
    }
   ],
   "source": [
    "# Examples of Test Prediction\n",
    "X_test_orig = X_test.copy(deep=True)\n",
    "X_test_orig.reset_index(drop=True, inplace=True)\n",
    "X_test_orig = pd.DataFrame(X_test_orig.values, columns=['tweet'])\n",
    "X_test_pred_merge = pd.merge(X_test_orig, test_predict_df, left_index=True, right_index=True)\n",
    "X_test_pred_merge.head()"
   ]
  },
  {
   "cell_type": "code",
   "execution_count": 462,
   "metadata": {
    "scrolled": true
   },
   "outputs": [
    {
     "name": "stdout",
     "output_type": "stream",
     "text": [
      "interrupt your regularly scheduled geek programming with big news google circles\n",
      "positive\n",
      "neutral\n"
     ]
    }
   ],
   "source": [
    "print(X_test_pred_merge['tweet'][5])\n",
    "print(X_test_pred_merge['true_emotion'][5])\n",
    "print(X_test_pred_merge['predicted'][5])"
   ]
  },
  {
   "cell_type": "code",
   "execution_count": 463,
   "metadata": {},
   "outputs": [
    {
     "name": "stdout",
     "output_type": "stream",
     "text": [
      "anybody seen the 6th apple store yet\n",
      "neutral\n",
      "neutral\n"
     ]
    }
   ],
   "source": [
    "print(X_test_pred_merge['tweet'][100])\n",
    "print(X_test_pred_merge['true_emotion'][100])\n",
    "print(X_test_pred_merge['predicted'][100])"
   ]
  },
  {
   "cell_type": "code",
   "execution_count": 466,
   "metadata": {},
   "outputs": [
    {
     "name": "stdout",
     "output_type": "stream",
     "text": [
      "apple the most elegant fascist company america flipboard\n",
      "negative\n",
      "negative\n"
     ]
    }
   ],
   "source": [
    "print(X_test_pred_merge['tweet'][700])\n",
    "print(X_test_pred_merge['true_emotion'][700])\n",
    "print(X_test_pred_merge['predicted'][700])"
   ]
  },
  {
   "cell_type": "markdown",
   "metadata": {
    "hideCode": false,
    "hidePrompt": false
   },
   "source": [
    "## Conclusion"
   ]
  },
  {
   "cell_type": "markdown",
   "metadata": {},
   "source": [
    "The current study shows there is a huge problem of training overfit in the current implementation. Nevertheless, the neural network based architecture seems to perform best over the traditional machine learning architecture. Two neural architectures: LSTM and GRU performs almost on a similar accuracy level. Furthermore, these architecture performed very well against the baseline Naive Bayes Classifier. Between the LSTM and GRU, I recommend to proceed with GRU based architecture for final production."
   ]
  },
  {
   "cell_type": "markdown",
   "metadata": {
    "hideCode": false,
    "hidePrompt": false
   },
   "source": [
    "### Actionable Insights"
   ]
  },
  {
   "cell_type": "code",
   "execution_count": null,
   "metadata": {
    "hideCode": false,
    "hidePrompt": false
   },
   "outputs": [],
   "source": [
    "The current study shows the neural network based architecture has potential to improve the "
   ]
  },
  {
   "cell_type": "markdown",
   "metadata": {
    "hideCode": false,
    "hidePrompt": false
   },
   "source": [
    "### Future Recommendation"
   ]
  },
  {
   "cell_type": "markdown",
   "metadata": {
    "hideCode": false,
    "hidePrompt": false
   },
   "source": [
    "Text preprocessing is crucial in successful sentiment classification. Given the time scale of the proejct, the current accuracy of the modeling is satisfactory. However, investing more time on text preprocessing will be critical in getting better performance. \n",
    "\n",
    "There is a huge imbalance in the class label. A more rigorous data collection with an aim of getting a balanced class is highly recommended which will be critical in reducing overfitting.\n",
    "\n",
    "More advanced algorithms such as BERT, GPT which are based on Transformer may be beneficial to achieve higher performance. However, this may require more computation power."
   ]
  },
  {
   "cell_type": "code",
   "execution_count": null,
   "metadata": {},
   "outputs": [],
   "source": []
  },
  {
   "cell_type": "code",
   "execution_count": null,
   "metadata": {},
   "outputs": [],
   "source": []
  },
  {
   "cell_type": "code",
   "execution_count": null,
   "metadata": {},
   "outputs": [],
   "source": []
  },
  {
   "cell_type": "markdown",
   "metadata": {
    "hideCode": false,
    "hidePrompt": false
   },
   "source": [
    "# Appendix"
   ]
  },
  {
   "cell_type": "markdown",
   "metadata": {
    "hideCode": false,
    "hidePrompt": false
   },
   "source": [
    "### RandomOverSampler"
   ]
  },
  {
   "cell_type": "code",
   "execution_count": 94,
   "metadata": {
    "hideCode": false,
    "hidePrompt": false
   },
   "outputs": [],
   "source": [
    "from imblearn.over_sampling import ADASYN, SMOTE, RandomOverSampler"
   ]
  },
  {
   "cell_type": "code",
   "execution_count": 142,
   "metadata": {
    "hideCode": false,
    "hidePrompt": false
   },
   "outputs": [],
   "source": [
    "X = df[['clean_tweets1']]\n",
    "y = df[['emotion']]"
   ]
  },
  {
   "cell_type": "code",
   "execution_count": 145,
   "metadata": {
    "hideCode": false,
    "hidePrompt": false
   },
   "outputs": [
    {
     "data": {
      "text/plain": [
       "((7216, 1), (802, 1), (891, 1), (7216, 1), (802, 1), (891, 1))"
      ]
     },
     "execution_count": 145,
     "metadata": {},
     "output_type": "execute_result"
    }
   ],
   "source": [
    "X = df[['clean_tweets1']]\n",
    "y = df[['emotion']]\n",
    "\n",
    "X_train, X_test, y_train, y_test = train_test_split(X, y, test_size=0.10, stratify=y,\n",
    "                                                    random_state=42)\n",
    "X_train, X_val, y_train, y_val = train_test_split(X_train, y_train, test_size=0.10, stratify=y_train,\n",
    "                                                  random_state=42)\n",
    "X_train.shape, X_val.shape, X_test.shape, y_train.shape, y_val.shape, y_test.shape"
   ]
  },
  {
   "cell_type": "code",
   "execution_count": 146,
   "metadata": {
    "hideCode": false,
    "hidePrompt": false
   },
   "outputs": [
    {
     "data": {
      "text/plain": [
       "emotion \n",
       "neutral     4351\n",
       "positive    2404\n",
       "negative     461\n",
       "dtype: int64"
      ]
     },
     "execution_count": 146,
     "metadata": {},
     "output_type": "execute_result"
    }
   ],
   "source": [
    "y_train.value_counts()"
   ]
  },
  {
   "cell_type": "code",
   "execution_count": 147,
   "metadata": {
    "hideCode": false,
    "hidePrompt": false
   },
   "outputs": [],
   "source": [
    "ros = RandomOverSampler(random_state=100)"
   ]
  },
  {
   "cell_type": "code",
   "execution_count": 148,
   "metadata": {
    "hideCode": false,
    "hidePrompt": false
   },
   "outputs": [],
   "source": [
    "X_train_res, y_train_res = ros.fit_resample(X_train, y_train)"
   ]
  },
  {
   "cell_type": "code",
   "execution_count": 149,
   "metadata": {
    "hideCode": false,
    "hidePrompt": false
   },
   "outputs": [
    {
     "data": {
      "text/plain": [
       "emotion \n",
       "positive    4351\n",
       "neutral     4351\n",
       "negative    4351\n",
       "dtype: int64"
      ]
     },
     "execution_count": 149,
     "metadata": {},
     "output_type": "execute_result"
    }
   ],
   "source": [
    "y_train_res.value_counts()"
   ]
  },
  {
   "cell_type": "code",
   "execution_count": 160,
   "metadata": {
    "hideCode": false,
    "hidePrompt": false
   },
   "outputs": [
    {
     "data": {
      "text/plain": [
       "(802, 1)"
      ]
     },
     "execution_count": 160,
     "metadata": {},
     "output_type": "execute_result"
    }
   ],
   "source": [
    "X_val.shape"
   ]
  },
  {
   "cell_type": "code",
   "execution_count": null,
   "metadata": {
    "hideCode": false,
    "hidePrompt": false
   },
   "outputs": [],
   "source": [
    "def create_tokens(X_train, X_val, X_test):\n",
    "    '''\n",
    "    A simple function to create word tokens with padded sequences\n",
    "    '''\n",
    "    tokenizer = Tokenizer(oov_token=True)\n",
    "    tokenizer.fit_on_texts(X_train)\n",
    "    \n",
    "    X_train_token = tokenizer.texts_to_sequences(X_train)\n",
    "    X_test_token = tokenizer.texts_to_sequences(X_test)\n",
    "    X_val_token = tokenizer.texts_to_sequences(X_val)\n",
    "    \n",
    "    print(f\"Before tokenization: \\n{X_train[1]}\")\n",
    "    print(f\"After tokenization: {X_train_token[1]}\")\n",
    "    \n",
    "    vocab_size = len(tokenizer.word_index) + 1\n",
    "    \n",
    "    maxlen = len(max(X_train_token, key=lambda x: len(x)))\n",
    "    maxlen_orig= len(max(X_train, key=lambda x: len(x)))\n",
    "    \n",
    "    X_train_seq = pad_sequences(X_train_token, padding='post', maxlen=maxlen)\n",
    "    X_test_seq = pad_sequences(X_test_token, padding='post', maxlen=maxlen)\n",
    "    X_val_seq = pad_sequences(X_val_token, padding='post', maxlen=maxlen)\n",
    "    \n",
    "    print(f\"Token count: {tokenizer.document_count}, Vocab size: {vocab_size}, Max lenth: {maxlen}, Original length: {maxlen_orig}\")\n",
    "    \n",
    "    return X_train_seq, X_test_seq, X_val_seq, maxlen, vocab_size, tokenizer"
   ]
  },
  {
   "cell_type": "code",
   "execution_count": 174,
   "metadata": {
    "hideCode": false,
    "hidePrompt": false
   },
   "outputs": [
    {
     "name": "stdout",
     "output_type": "stream",
     "text": [
      "Before tokenization: \n",
      "google quash circles rumours not launching any products but are doing plenty else\n",
      "After tokenization: [4, 4361, 22, 2406, 10, 254, 116, 211, 37, 23, 182, 798, 244]\n",
      "Token count: 13053, Vocab size: 8233, Max lenth: 23, Original length: 131\n"
     ]
    }
   ],
   "source": [
    "X_train_seq, X_test_seq, X_val_seq, maxlen, vocab_size, tokenizer = create_tokens(X_train_res['clean_tweets1'],\n",
    "                                                                                  X_val['clean_tweets1'], \n",
    "                                                                                  X_test['clean_tweets1'])"
   ]
  },
  {
   "cell_type": "code",
   "execution_count": 163,
   "metadata": {
    "hideCode": false,
    "hidePrompt": false
   },
   "outputs": [
    {
     "data": {
      "text/plain": [
       "array([[   5,  116, 4360, ...,    0,    0,    0],\n",
       "       [   4, 4361,   22, ...,    0,    0,    0],\n",
       "       [3634,    2,  344, ...,    0,    0,    0],\n",
       "       ...,\n",
       "       [ 103,   11,  563, ...,    0,    0,    0],\n",
       "       [3902, 3287,  296, ...,    0,    0,    0],\n",
       "       [   4,   76,  337, ...,    0,    0,    0]])"
      ]
     },
     "execution_count": 163,
     "metadata": {},
     "output_type": "execute_result"
    }
   ],
   "source": [
    "X_train_seq"
   ]
  },
  {
   "cell_type": "code",
   "execution_count": 170,
   "metadata": {
    "hideCode": false,
    "hidePrompt": false
   },
   "outputs": [
    {
     "data": {
      "text/html": [
       "<div>\n",
       "<style scoped>\n",
       "    .dataframe tbody tr th:only-of-type {\n",
       "        vertical-align: middle;\n",
       "    }\n",
       "\n",
       "    .dataframe tbody tr th {\n",
       "        vertical-align: top;\n",
       "    }\n",
       "\n",
       "    .dataframe thead th {\n",
       "        text-align: right;\n",
       "    }\n",
       "</style>\n",
       "<table border=\"1\" class=\"dataframe\">\n",
       "  <thead>\n",
       "    <tr style=\"text-align: right;\">\n",
       "      <th></th>\n",
       "      <th>negative</th>\n",
       "      <th>neutral</th>\n",
       "      <th>positive</th>\n",
       "    </tr>\n",
       "  </thead>\n",
       "  <tbody>\n",
       "    <tr>\n",
       "      <th>0</th>\n",
       "      <td>0</td>\n",
       "      <td>1</td>\n",
       "      <td>0</td>\n",
       "    </tr>\n",
       "    <tr>\n",
       "      <th>1</th>\n",
       "      <td>0</td>\n",
       "      <td>1</td>\n",
       "      <td>0</td>\n",
       "    </tr>\n",
       "    <tr>\n",
       "      <th>2</th>\n",
       "      <td>0</td>\n",
       "      <td>1</td>\n",
       "      <td>0</td>\n",
       "    </tr>\n",
       "    <tr>\n",
       "      <th>3</th>\n",
       "      <td>0</td>\n",
       "      <td>0</td>\n",
       "      <td>1</td>\n",
       "    </tr>\n",
       "    <tr>\n",
       "      <th>4</th>\n",
       "      <td>0</td>\n",
       "      <td>0</td>\n",
       "      <td>1</td>\n",
       "    </tr>\n",
       "    <tr>\n",
       "      <th>...</th>\n",
       "      <td>...</td>\n",
       "      <td>...</td>\n",
       "      <td>...</td>\n",
       "    </tr>\n",
       "    <tr>\n",
       "      <th>13048</th>\n",
       "      <td>0</td>\n",
       "      <td>0</td>\n",
       "      <td>1</td>\n",
       "    </tr>\n",
       "    <tr>\n",
       "      <th>13049</th>\n",
       "      <td>0</td>\n",
       "      <td>0</td>\n",
       "      <td>1</td>\n",
       "    </tr>\n",
       "    <tr>\n",
       "      <th>13050</th>\n",
       "      <td>0</td>\n",
       "      <td>0</td>\n",
       "      <td>1</td>\n",
       "    </tr>\n",
       "    <tr>\n",
       "      <th>13051</th>\n",
       "      <td>0</td>\n",
       "      <td>0</td>\n",
       "      <td>1</td>\n",
       "    </tr>\n",
       "    <tr>\n",
       "      <th>13052</th>\n",
       "      <td>0</td>\n",
       "      <td>0</td>\n",
       "      <td>1</td>\n",
       "    </tr>\n",
       "  </tbody>\n",
       "</table>\n",
       "<p>13053 rows × 3 columns</p>\n",
       "</div>"
      ],
      "text/plain": [
       "       negative  neutral  positive\n",
       "0             0        1         0\n",
       "1             0        1         0\n",
       "2             0        1         0\n",
       "3             0        0         1\n",
       "4             0        0         1\n",
       "...         ...      ...       ...\n",
       "13048         0        0         1\n",
       "13049         0        0         1\n",
       "13050         0        0         1\n",
       "13051         0        0         1\n",
       "13052         0        0         1\n",
       "\n",
       "[13053 rows x 3 columns]"
      ]
     },
     "execution_count": 170,
     "metadata": {},
     "output_type": "execute_result"
    }
   ],
   "source": [
    "y_train_res = pd.get_dummies(y_train_res['emotion'])\n",
    "y_train_res"
   ]
  },
  {
   "cell_type": "code",
   "execution_count": 164,
   "metadata": {
    "hideCode": false,
    "hidePrompt": false
   },
   "outputs": [
    {
     "data": {
      "text/html": [
       "<div>\n",
       "<style scoped>\n",
       "    .dataframe tbody tr th:only-of-type {\n",
       "        vertical-align: middle;\n",
       "    }\n",
       "\n",
       "    .dataframe tbody tr th {\n",
       "        vertical-align: top;\n",
       "    }\n",
       "\n",
       "    .dataframe thead th {\n",
       "        text-align: right;\n",
       "    }\n",
       "</style>\n",
       "<table border=\"1\" class=\"dataframe\">\n",
       "  <thead>\n",
       "    <tr style=\"text-align: right;\">\n",
       "      <th></th>\n",
       "      <th>negative</th>\n",
       "      <th>neutral</th>\n",
       "      <th>positive</th>\n",
       "    </tr>\n",
       "  </thead>\n",
       "  <tbody>\n",
       "    <tr>\n",
       "      <th>985</th>\n",
       "      <td>0</td>\n",
       "      <td>0</td>\n",
       "      <td>1</td>\n",
       "    </tr>\n",
       "    <tr>\n",
       "      <th>418</th>\n",
       "      <td>0</td>\n",
       "      <td>1</td>\n",
       "      <td>0</td>\n",
       "    </tr>\n",
       "    <tr>\n",
       "      <th>3006</th>\n",
       "      <td>0</td>\n",
       "      <td>1</td>\n",
       "      <td>0</td>\n",
       "    </tr>\n",
       "    <tr>\n",
       "      <th>8490</th>\n",
       "      <td>0</td>\n",
       "      <td>0</td>\n",
       "      <td>1</td>\n",
       "    </tr>\n",
       "    <tr>\n",
       "      <th>209</th>\n",
       "      <td>0</td>\n",
       "      <td>1</td>\n",
       "      <td>0</td>\n",
       "    </tr>\n",
       "    <tr>\n",
       "      <th>...</th>\n",
       "      <td>...</td>\n",
       "      <td>...</td>\n",
       "      <td>...</td>\n",
       "    </tr>\n",
       "    <tr>\n",
       "      <th>6091</th>\n",
       "      <td>0</td>\n",
       "      <td>1</td>\n",
       "      <td>0</td>\n",
       "    </tr>\n",
       "    <tr>\n",
       "      <th>7390</th>\n",
       "      <td>0</td>\n",
       "      <td>1</td>\n",
       "      <td>0</td>\n",
       "    </tr>\n",
       "    <tr>\n",
       "      <th>4045</th>\n",
       "      <td>0</td>\n",
       "      <td>1</td>\n",
       "      <td>0</td>\n",
       "    </tr>\n",
       "    <tr>\n",
       "      <th>4656</th>\n",
       "      <td>0</td>\n",
       "      <td>1</td>\n",
       "      <td>0</td>\n",
       "    </tr>\n",
       "    <tr>\n",
       "      <th>5775</th>\n",
       "      <td>0</td>\n",
       "      <td>1</td>\n",
       "      <td>0</td>\n",
       "    </tr>\n",
       "  </tbody>\n",
       "</table>\n",
       "<p>802 rows × 3 columns</p>\n",
       "</div>"
      ],
      "text/plain": [
       "      negative  neutral  positive\n",
       "985          0        0         1\n",
       "418          0        1         0\n",
       "3006         0        1         0\n",
       "8490         0        0         1\n",
       "209          0        1         0\n",
       "...        ...      ...       ...\n",
       "6091         0        1         0\n",
       "7390         0        1         0\n",
       "4045         0        1         0\n",
       "4656         0        1         0\n",
       "5775         0        1         0\n",
       "\n",
       "[802 rows x 3 columns]"
      ]
     },
     "execution_count": 164,
     "metadata": {},
     "output_type": "execute_result"
    }
   ],
   "source": [
    "y_val = pd.get_dummies(y_val['emotion'])\n",
    "y_val"
   ]
  },
  {
   "cell_type": "code",
   "execution_count": 155,
   "metadata": {
    "hideCode": false,
    "hidePrompt": false
   },
   "outputs": [],
   "source": [
    "y_test = pd.get_dummies(y_test['emotion'])"
   ]
  },
  {
   "cell_type": "code",
   "execution_count": 156,
   "metadata": {
    "hideCode": false,
    "hidePrompt": false
   },
   "outputs": [
    {
     "data": {
      "text/html": [
       "<div>\n",
       "<style scoped>\n",
       "    .dataframe tbody tr th:only-of-type {\n",
       "        vertical-align: middle;\n",
       "    }\n",
       "\n",
       "    .dataframe tbody tr th {\n",
       "        vertical-align: top;\n",
       "    }\n",
       "\n",
       "    .dataframe thead th {\n",
       "        text-align: right;\n",
       "    }\n",
       "</style>\n",
       "<table border=\"1\" class=\"dataframe\">\n",
       "  <thead>\n",
       "    <tr style=\"text-align: right;\">\n",
       "      <th></th>\n",
       "      <th>negative</th>\n",
       "      <th>neutral</th>\n",
       "      <th>positive</th>\n",
       "    </tr>\n",
       "  </thead>\n",
       "  <tbody>\n",
       "    <tr>\n",
       "      <th>7327</th>\n",
       "      <td>0</td>\n",
       "      <td>1</td>\n",
       "      <td>0</td>\n",
       "    </tr>\n",
       "    <tr>\n",
       "      <th>895</th>\n",
       "      <td>0</td>\n",
       "      <td>1</td>\n",
       "      <td>0</td>\n",
       "    </tr>\n",
       "    <tr>\n",
       "      <th>7710</th>\n",
       "      <td>0</td>\n",
       "      <td>1</td>\n",
       "      <td>0</td>\n",
       "    </tr>\n",
       "    <tr>\n",
       "      <th>2595</th>\n",
       "      <td>0</td>\n",
       "      <td>1</td>\n",
       "      <td>0</td>\n",
       "    </tr>\n",
       "    <tr>\n",
       "      <th>7745</th>\n",
       "      <td>0</td>\n",
       "      <td>0</td>\n",
       "      <td>1</td>\n",
       "    </tr>\n",
       "    <tr>\n",
       "      <th>...</th>\n",
       "      <td>...</td>\n",
       "      <td>...</td>\n",
       "      <td>...</td>\n",
       "    </tr>\n",
       "    <tr>\n",
       "      <th>951</th>\n",
       "      <td>0</td>\n",
       "      <td>1</td>\n",
       "      <td>0</td>\n",
       "    </tr>\n",
       "    <tr>\n",
       "      <th>5702</th>\n",
       "      <td>0</td>\n",
       "      <td>0</td>\n",
       "      <td>1</td>\n",
       "    </tr>\n",
       "    <tr>\n",
       "      <th>7778</th>\n",
       "      <td>0</td>\n",
       "      <td>1</td>\n",
       "      <td>0</td>\n",
       "    </tr>\n",
       "    <tr>\n",
       "      <th>5420</th>\n",
       "      <td>0</td>\n",
       "      <td>1</td>\n",
       "      <td>0</td>\n",
       "    </tr>\n",
       "    <tr>\n",
       "      <th>2242</th>\n",
       "      <td>0</td>\n",
       "      <td>0</td>\n",
       "      <td>1</td>\n",
       "    </tr>\n",
       "  </tbody>\n",
       "</table>\n",
       "<p>891 rows × 3 columns</p>\n",
       "</div>"
      ],
      "text/plain": [
       "      negative  neutral  positive\n",
       "7327         0        1         0\n",
       "895          0        1         0\n",
       "7710         0        1         0\n",
       "2595         0        1         0\n",
       "7745         0        0         1\n",
       "...        ...      ...       ...\n",
       "951          0        1         0\n",
       "5702         0        0         1\n",
       "7778         0        1         0\n",
       "5420         0        1         0\n",
       "2242         0        0         1\n",
       "\n",
       "[891 rows x 3 columns]"
      ]
     },
     "execution_count": 156,
     "metadata": {},
     "output_type": "execute_result"
    }
   ],
   "source": [
    "X_train_seq"
   ]
  },
  {
   "cell_type": "code",
   "execution_count": 166,
   "metadata": {
    "hideCode": false,
    "hidePrompt": false
   },
   "outputs": [
    {
     "name": "stderr",
     "output_type": "stream",
     "text": [
      "100%|██████████████████████████████████| 8232/8232 [00:00<00:00, 305458.58it/s]\n"
     ]
    }
   ],
   "source": [
    "# Create a weight matrix for work vocabulary from our training set\n",
    "\n",
    "embedding_matrix = np.zeros((vocab_size, 100))  # 100 for 100-dimensional version  \n",
    "for word, i in tqdm(tokenizer.word_index.items()):\n",
    "    embedding_vector = embeddings_index.get(word)\n",
    "    if embedding_vector is not None:\n",
    "        embedding_matrix[i] = embedding_vector"
   ]
  },
  {
   "cell_type": "code",
   "execution_count": 167,
   "metadata": {
    "hideCode": false,
    "hidePrompt": false
   },
   "outputs": [
    {
     "name": "stdout",
     "output_type": "stream",
     "text": [
      "Model: \"sequential_27\"\n",
      "_________________________________________________________________\n",
      "Layer (type)                 Output Shape              Param #   \n",
      "=================================================================\n",
      "embedding_25 (Embedding)     (None, 23, 100)           823300    \n",
      "_________________________________________________________________\n",
      "spatial_dropout1d_13 (Spatia (None, 23, 100)           0         \n",
      "_________________________________________________________________\n",
      "bidirectional_8 (Bidirection (None, 23, 256)           234496    \n",
      "_________________________________________________________________\n",
      "global_max_pooling1d_11 (Glo (None, 256)               0         \n",
      "_________________________________________________________________\n",
      "dropout_23 (Dropout)         (None, 256)               0         \n",
      "_________________________________________________________________\n",
      "dense_40 (Dense)             (None, 64)                16448     \n",
      "_________________________________________________________________\n",
      "dense_41 (Dense)             (None, 3)                 195       \n",
      "=================================================================\n",
      "Total params: 1,074,439\n",
      "Trainable params: 251,139\n",
      "Non-trainable params: 823,300\n",
      "_________________________________________________________________\n",
      "None\n"
     ]
    }
   ],
   "source": [
    "# LSTM model - Bidirectional with GLOVE embedding\n",
    "embed_dim=128\n",
    "\n",
    "lstm_6 = Sequential()\n",
    "lstm_6.add(layers.Embedding(input_dim = vocab_size, output_dim = 100,\n",
    "                     weights=[embedding_matrix], \n",
    "                     input_length=maxlen, trainable=False))\n",
    "lstm_6.add(layers.SpatialDropout1D(0.5))\n",
    "lstm_6.add(layers.Bidirectional(LSTM(embed_dim, return_sequences=True)))\n",
    "lstm_6.add(layers.GlobalMaxPool1D())\n",
    "lstm_6.add(layers.Dropout(0.2))\n",
    "lstm_6.add(layers.Dense(64, activation='relu'))\n",
    "lstm_6.add(layers.Dense(3, activation='softmax'))\n",
    "          \n",
    "lstm_6.compile(loss='categorical_crossentropy', optimizer='adam', metrics=['accuracy'])\n",
    "print(lstm_6.summary())"
   ]
  },
  {
   "cell_type": "code",
   "execution_count": 176,
   "metadata": {
    "hideCode": false,
    "hidePrompt": false
   },
   "outputs": [
    {
     "data": {
      "text/plain": [
       "((891, 23), (891, 3))"
      ]
     },
     "execution_count": 176,
     "metadata": {},
     "output_type": "execute_result"
    }
   ],
   "source": [
    "X_test_seq.shape, y_test.shape"
   ]
  },
  {
   "cell_type": "code",
   "execution_count": 177,
   "metadata": {
    "hideCode": false,
    "hidePrompt": false
   },
   "outputs": [
    {
     "name": "stdout",
     "output_type": "stream",
     "text": [
      "Epoch 1/20\n",
      "407/408 [============================>.] - ETA: 0s - loss: 0.8903 - accuracy: 0.5773WARNING:tensorflow:AutoGraph could not transform <function Model.make_test_function.<locals>.test_function at 0x0000026AC11F6798> and will run it as-is.\n",
      "Please report this to the TensorFlow team. When filing the bug, set the verbosity to 10 (on Linux, `export AUTOGRAPH_VERBOSITY=10`) and attach the full output.\n",
      "Cause: 'arguments' object has no attribute 'posonlyargs'\n",
      "To silence this warning, decorate the function with @tf.autograph.experimental.do_not_convert\n",
      "WARNING: AutoGraph could not transform <function Model.make_test_function.<locals>.test_function at 0x0000026AC11F6798> and will run it as-is.\n",
      "Please report this to the TensorFlow team. When filing the bug, set the verbosity to 10 (on Linux, `export AUTOGRAPH_VERBOSITY=10`) and attach the full output.\n",
      "Cause: 'arguments' object has no attribute 'posonlyargs'\n",
      "To silence this warning, decorate the function with @tf.autograph.experimental.do_not_convert\n",
      "408/408 [==============================] - 8s 19ms/step - loss: 0.8904 - accuracy: 0.5773 - val_loss: 1.0822 - val_accuracy: 0.4339\n",
      "Epoch 2/20\n",
      "408/408 [==============================] - 7s 17ms/step - loss: 0.8138 - accuracy: 0.6222 - val_loss: 0.9294 - val_accuracy: 0.5511\n",
      "Epoch 3/20\n",
      "408/408 [==============================] - 7s 17ms/step - loss: 0.7427 - accuracy: 0.6582 - val_loss: 0.8845 - val_accuracy: 0.5648\n",
      "Epoch 4/20\n",
      "408/408 [==============================] - 7s 17ms/step - loss: 0.7008 - accuracy: 0.6836 - val_loss: 0.7954 - val_accuracy: 0.6097\n",
      "Epoch 5/20\n",
      "408/408 [==============================] - 7s 17ms/step - loss: 0.6555 - accuracy: 0.7000 - val_loss: 0.8243 - val_accuracy: 0.5985\n",
      "Epoch 6/20\n",
      "408/408 [==============================] - 7s 17ms/step - loss: 0.6173 - accuracy: 0.7195 - val_loss: 0.9210 - val_accuracy: 0.5511\n",
      "Epoch 7/20\n",
      "408/408 [==============================] - 7s 17ms/step - loss: 0.5902 - accuracy: 0.7326 - val_loss: 0.8100 - val_accuracy: 0.6459\n",
      "Epoch 8/20\n",
      "408/408 [==============================] - 7s 17ms/step - loss: 0.5656 - accuracy: 0.7423 - val_loss: 0.9353 - val_accuracy: 0.5860\n",
      "Epoch 9/20\n",
      "408/408 [==============================] - 7s 17ms/step - loss: 0.5433 - accuracy: 0.7572 - val_loss: 0.8551 - val_accuracy: 0.6035\n",
      "Epoch 10/20\n",
      "408/408 [==============================] - 7s 17ms/step - loss: 0.5168 - accuracy: 0.7635 - val_loss: 0.8173 - val_accuracy: 0.6434\n",
      "Epoch 11/20\n",
      "408/408 [==============================] - 7s 17ms/step - loss: 0.5116 - accuracy: 0.7722 - val_loss: 0.8956 - val_accuracy: 0.5935\n",
      "Epoch 12/20\n",
      "408/408 [==============================] - 7s 17ms/step - loss: 0.4855 - accuracy: 0.7864 - val_loss: 0.8545 - val_accuracy: 0.6259\n",
      "Epoch 13/20\n",
      "408/408 [==============================] - 7s 17ms/step - loss: 0.4878 - accuracy: 0.7809 - val_loss: 0.8633 - val_accuracy: 0.6259\n",
      "Epoch 14/20\n",
      "408/408 [==============================] - 7s 17ms/step - loss: 0.4688 - accuracy: 0.7905 - val_loss: 0.9004 - val_accuracy: 0.6297\n",
      "Epoch 15/20\n",
      "408/408 [==============================] - 7s 17ms/step - loss: 0.4541 - accuracy: 0.7961 - val_loss: 0.8625 - val_accuracy: 0.6247\n",
      "Epoch 16/20\n",
      "408/408 [==============================] - 7s 17ms/step - loss: 0.4528 - accuracy: 0.7996 - val_loss: 0.8800 - val_accuracy: 0.6334\n",
      "Epoch 17/20\n",
      "408/408 [==============================] - 7s 17ms/step - loss: 0.4399 - accuracy: 0.8033 - val_loss: 0.8681 - val_accuracy: 0.6284\n",
      "Epoch 18/20\n",
      "408/408 [==============================] - 7s 17ms/step - loss: 0.4366 - accuracy: 0.8056 - val_loss: 0.8759 - val_accuracy: 0.6459\n",
      "Epoch 19/20\n",
      "408/408 [==============================] - 7s 17ms/step - loss: 0.4227 - accuracy: 0.8125 - val_loss: 0.9299 - val_accuracy: 0.6234\n",
      "Epoch 20/20\n",
      "408/408 [==============================] - 7s 17ms/step - loss: 0.4189 - accuracy: 0.8154 - val_loss: 0.9559 - val_accuracy: 0.6147\n"
     ]
    },
    {
     "data": {
      "image/png": "[encoded data removed]",
      "text/plain": [
       "<Figure size 432x288 with 1 Axes>"
      ]
     },
     "metadata": {},
     "output_type": "display_data"
    }
   ],
   "source": [
    "# Define callbacks and save final model\n",
    "early_stop = [EarlyStopping(monitor='val_loss', patience=5),\n",
    "             ModelCheckpoint(filepath='best_model_m.h5', monitor='val_loss',\n",
    "                            save_best_only=True)]\n",
    "\n",
    "history_lstm6 = lstm_6.fit(X_train_seq, y_train_res, \n",
    "                     batch_size=32, epochs=20, verbose=1, \n",
    "                     validation_data=(X_val_seq, y_val))\n",
    "                     #callbacks=early_stop)\n",
    "graph_model(history_lstm6, 'loss')"
   ]
  },
  {
   "cell_type": "markdown",
   "metadata": {
    "hideCode": false,
    "hidePrompt": false
   },
   "source": [
    "### SMOTE"
   ]
  },
  {
   "cell_type": "code",
   "execution_count": 201,
   "metadata": {
    "hideCode": false,
    "hidePrompt": false
   },
   "outputs": [],
   "source": []
  },
  {
   "cell_type": "code",
   "execution_count": 190,
   "metadata": {
    "hideCode": false,
    "hidePrompt": false
   },
   "outputs": [
    {
     "data": {
      "text/plain": [
       "((7216, 1), (802, 1), (891, 1), (7216, 1), (802, 1), (891, 1))"
      ]
     },
     "execution_count": 190,
     "metadata": {},
     "output_type": "execute_result"
    }
   ],
   "source": [
    "X = df[['clean_tweets1']]\n",
    "y = df[['emotion']]\n",
    "\n",
    "X_train, X_test, y_train, y_test = train_test_split(X, y, test_size=0.10, stratify=y,\n",
    "                                                    random_state=42)\n",
    "X_train, X_val, y_train, y_val = train_test_split(X_train, y_train, test_size=0.10, stratify=y_train,\n",
    "                                                  random_state=42)\n",
    "X_train.shape, X_val.shape, X_test.shape, y_train.shape, y_val.shape, y_test.shape"
   ]
  },
  {
   "cell_type": "code",
   "execution_count": 214,
   "metadata": {
    "hideCode": false,
    "hidePrompt": false
   },
   "outputs": [],
   "source": [
    "# Vectorizing\n",
    "tfidf_vectorizer = TfidfVectorizer(use_idf=True)\n",
    "\n",
    "X_train_vec = tfidf_vectorizer.fit_transform(X_train['clean_tweets1']).toarray()\n",
    "X_test_vec = tfidf_vectorizer.transform(X_test['clean_tweets1']).toarray()\n",
    "X_val_vec = tfidf_vectorizer.transform(X_val['clean_tweets1']).toarray()"
   ]
  },
  {
   "cell_type": "code",
   "execution_count": 215,
   "metadata": {
    "hideCode": false,
    "hidePrompt": false
   },
   "outputs": [
    {
     "data": {
      "text/plain": [
       "array([[0., 0., 0., ..., 0., 0., 0.],\n",
       "       [0., 0., 0., ..., 0., 0., 0.],\n",
       "       [0., 0., 0., ..., 0., 0., 0.],\n",
       "       ...,\n",
       "       [0., 0., 0., ..., 0., 0., 0.],\n",
       "       [0., 0., 0., ..., 0., 0., 0.],\n",
       "       [0., 0., 0., ..., 0., 0., 0.]])"
      ]
     },
     "execution_count": 215,
     "metadata": {},
     "output_type": "execute_result"
    }
   ],
   "source": [
    "X_train_vec"
   ]
  },
  {
   "cell_type": "code",
   "execution_count": 216,
   "metadata": {
    "hideCode": false,
    "hidePrompt": false
   },
   "outputs": [],
   "source": [
    "X_train_vec_inv_test = tfidf_vectorizer.inverse_transform(X_train_vec)"
   ]
  },
  {
   "cell_type": "code",
   "execution_count": 218,
   "metadata": {
    "hideCode": false,
    "hidePrompt": false
   },
   "outputs": [],
   "source": [
    "from imblearn.over_sampling import SMOTE\n",
    "smote = SMOTE(k_neighbors=5,  random_state=42)"
   ]
  },
  {
   "cell_type": "code",
   "execution_count": 219,
   "metadata": {
    "hideCode": false,
    "hidePrompt": false
   },
   "outputs": [],
   "source": [
    "X_train_smote, y_train_smote = smote.fit_resample(X_train_vec, y_train)"
   ]
  },
  {
   "cell_type": "code",
   "execution_count": 222,
   "metadata": {
    "hideCode": false,
    "hidePrompt": false
   },
   "outputs": [
    {
     "data": {
      "text/plain": [
       "array([[0., 0., 0., ..., 0., 0., 0.],\n",
       "       [0., 0., 0., ..., 0., 0., 0.],\n",
       "       [0., 0., 0., ..., 0., 0., 0.],\n",
       "       ...,\n",
       "       [0., 0., 0., ..., 0., 0., 0.],\n",
       "       [0., 0., 0., ..., 0., 0., 0.],\n",
       "       [0., 0., 0., ..., 0., 0., 0.]])"
      ]
     },
     "execution_count": 222,
     "metadata": {},
     "output_type": "execute_result"
    }
   ],
   "source": [
    "X_train_smote"
   ]
  },
  {
   "cell_type": "code",
   "execution_count": 221,
   "metadata": {
    "hideCode": false,
    "hidePrompt": false
   },
   "outputs": [],
   "source": [
    "X_train_smote_inv_vec = tfidf_vectorizer.inverse_transform(X_train_smote)"
   ]
  },
  {
   "cell_type": "code",
   "execution_count": 224,
   "metadata": {
    "hideCode": false,
    "hidePrompt": false
   },
   "outputs": [],
   "source": [
    "X_train_smote_df = pd.DataFrame(X_train_smote_inv_vec)"
   ]
  },
  {
   "cell_type": "code",
   "execution_count": 225,
   "metadata": {
    "hideCode": false,
    "hidePrompt": false
   },
   "outputs": [
    {
     "data": {
      "text/html": [
       "<div>\n",
       "<style scoped>\n",
       "    .dataframe tbody tr th:only-of-type {\n",
       "        vertical-align: middle;\n",
       "    }\n",
       "\n",
       "    .dataframe tbody tr th {\n",
       "        vertical-align: top;\n",
       "    }\n",
       "\n",
       "    .dataframe thead th {\n",
       "        text-align: right;\n",
       "    }\n",
       "</style>\n",
       "<table border=\"1\" class=\"dataframe\">\n",
       "  <thead>\n",
       "    <tr style=\"text-align: right;\">\n",
       "      <th></th>\n",
       "      <th>0</th>\n",
       "      <th>1</th>\n",
       "      <th>2</th>\n",
       "      <th>3</th>\n",
       "      <th>4</th>\n",
       "      <th>5</th>\n",
       "      <th>6</th>\n",
       "      <th>7</th>\n",
       "      <th>8</th>\n",
       "      <th>9</th>\n",
       "      <th>...</th>\n",
       "      <th>26</th>\n",
       "      <th>27</th>\n",
       "      <th>28</th>\n",
       "      <th>29</th>\n",
       "      <th>30</th>\n",
       "      <th>31</th>\n",
       "      <th>32</th>\n",
       "      <th>33</th>\n",
       "      <th>34</th>\n",
       "      <th>35</th>\n",
       "    </tr>\n",
       "  </thead>\n",
       "  <tbody>\n",
       "    <tr>\n",
       "      <th>0</th>\n",
       "      <td>any</td>\n",
       "      <td>check</td>\n",
       "      <td>for</td>\n",
       "      <td>google</td>\n",
       "      <td>headed</td>\n",
       "      <td>month</td>\n",
       "      <td>out</td>\n",
       "      <td>presence</td>\n",
       "      <td>retailers</td>\n",
       "      <td>this</td>\n",
       "      <td>...</td>\n",
       "      <td>None</td>\n",
       "      <td>None</td>\n",
       "      <td>None</td>\n",
       "      <td>None</td>\n",
       "      <td>None</td>\n",
       "      <td>None</td>\n",
       "      <td>None</td>\n",
       "      <td>None</td>\n",
       "      <td>None</td>\n",
       "      <td>None</td>\n",
       "    </tr>\n",
       "    <tr>\n",
       "      <th>1</th>\n",
       "      <td>any</td>\n",
       "      <td>are</td>\n",
       "      <td>but</td>\n",
       "      <td>circles</td>\n",
       "      <td>doing</td>\n",
       "      <td>else</td>\n",
       "      <td>google</td>\n",
       "      <td>launching</td>\n",
       "      <td>not</td>\n",
       "      <td>plenty</td>\n",
       "      <td>...</td>\n",
       "      <td>None</td>\n",
       "      <td>None</td>\n",
       "      <td>None</td>\n",
       "      <td>None</td>\n",
       "      <td>None</td>\n",
       "      <td>None</td>\n",
       "      <td>None</td>\n",
       "      <td>None</td>\n",
       "      <td>None</td>\n",
       "      <td>None</td>\n",
       "    </tr>\n",
       "    <tr>\n",
       "      <th>2</th>\n",
       "      <td>apple</td>\n",
       "      <td>audioboo</td>\n",
       "      <td>austin</td>\n",
       "      <td>front</td>\n",
       "      <td>ipad</td>\n",
       "      <td>ipad2</td>\n",
       "      <td>queue</td>\n",
       "      <td>sxswsa</td>\n",
       "      <td>texas</td>\n",
       "      <td>the</td>\n",
       "      <td>...</td>\n",
       "      <td>None</td>\n",
       "      <td>None</td>\n",
       "      <td>None</td>\n",
       "      <td>None</td>\n",
       "      <td>None</td>\n",
       "      <td>None</td>\n",
       "      <td>None</td>\n",
       "      <td>None</td>\n",
       "      <td>None</td>\n",
       "      <td>None</td>\n",
       "    </tr>\n",
       "    <tr>\n",
       "      <th>3</th>\n",
       "      <td>app</td>\n",
       "      <td>finally</td>\n",
       "      <td>for</td>\n",
       "      <td>includes</td>\n",
       "      <td>iphone</td>\n",
       "      <td>mashable</td>\n",
       "      <td>new</td>\n",
       "      <td>now</td>\n",
       "      <td>sponsored</td>\n",
       "      <td>store</td>\n",
       "      <td>...</td>\n",
       "      <td>None</td>\n",
       "      <td>None</td>\n",
       "      <td>None</td>\n",
       "      <td>None</td>\n",
       "      <td>None</td>\n",
       "      <td>None</td>\n",
       "      <td>None</td>\n",
       "      <td>None</td>\n",
       "      <td>None</td>\n",
       "      <td>None</td>\n",
       "    </tr>\n",
       "    <tr>\n",
       "      <th>4</th>\n",
       "      <td>alan</td>\n",
       "      <td>and</td>\n",
       "      <td>called</td>\n",
       "      <td>drink</td>\n",
       "      <td>google</td>\n",
       "      <td>having</td>\n",
       "      <td>lego</td>\n",
       "      <td>making</td>\n",
       "      <td>robot</td>\n",
       "      <td>speakeasy</td>\n",
       "      <td>...</td>\n",
       "      <td>None</td>\n",
       "      <td>None</td>\n",
       "      <td>None</td>\n",
       "      <td>None</td>\n",
       "      <td>None</td>\n",
       "      <td>None</td>\n",
       "      <td>None</td>\n",
       "      <td>None</td>\n",
       "      <td>None</td>\n",
       "      <td>None</td>\n",
       "    </tr>\n",
       "    <tr>\n",
       "      <th>...</th>\n",
       "      <td>...</td>\n",
       "      <td>...</td>\n",
       "      <td>...</td>\n",
       "      <td>...</td>\n",
       "      <td>...</td>\n",
       "      <td>...</td>\n",
       "      <td>...</td>\n",
       "      <td>...</td>\n",
       "      <td>...</td>\n",
       "      <td>...</td>\n",
       "      <td>...</td>\n",
       "      <td>...</td>\n",
       "      <td>...</td>\n",
       "      <td>...</td>\n",
       "      <td>...</td>\n",
       "      <td>...</td>\n",
       "      <td>...</td>\n",
       "      <td>...</td>\n",
       "      <td>...</td>\n",
       "      <td>...</td>\n",
       "      <td>...</td>\n",
       "    </tr>\n",
       "    <tr>\n",
       "      <th>13048</th>\n",
       "      <td>911tweets</td>\n",
       "      <td>before</td>\n",
       "      <td>belinsky</td>\n",
       "      <td>google</td>\n",
       "      <td>mark</td>\n",
       "      <td>new</td>\n",
       "      <td>panel</td>\n",
       "      <td>speak</td>\n",
       "      <td>the</td>\n",
       "      <td>think</td>\n",
       "      <td>...</td>\n",
       "      <td>None</td>\n",
       "      <td>None</td>\n",
       "      <td>None</td>\n",
       "      <td>None</td>\n",
       "      <td>None</td>\n",
       "      <td>None</td>\n",
       "      <td>None</td>\n",
       "      <td>None</td>\n",
       "      <td>None</td>\n",
       "      <td>None</td>\n",
       "    </tr>\n",
       "    <tr>\n",
       "      <th>13049</th>\n",
       "      <td>apple</td>\n",
       "      <td>attendees</td>\n",
       "      <td>austin</td>\n",
       "      <td>fix</td>\n",
       "      <td>for</td>\n",
       "      <td>get</td>\n",
       "      <td>ipad2</td>\n",
       "      <td>pop</td>\n",
       "      <td>queue</td>\n",
       "      <td>setting</td>\n",
       "      <td>...</td>\n",
       "      <td>None</td>\n",
       "      <td>None</td>\n",
       "      <td>None</td>\n",
       "      <td>None</td>\n",
       "      <td>None</td>\n",
       "      <td>None</td>\n",
       "      <td>None</td>\n",
       "      <td>None</td>\n",
       "      <td>None</td>\n",
       "      <td>None</td>\n",
       "    </tr>\n",
       "    <tr>\n",
       "      <th>13050</th>\n",
       "      <td>austin</td>\n",
       "      <td>crowd</td>\n",
       "      <td>for</td>\n",
       "      <td>ipad</td>\n",
       "      <td>launch</td>\n",
       "      <td>not</td>\n",
       "      <td>one</td>\n",
       "      <td>sadly</td>\n",
       "      <td>swarms</td>\n",
       "      <td>them</td>\n",
       "      <td>...</td>\n",
       "      <td>None</td>\n",
       "      <td>None</td>\n",
       "      <td>None</td>\n",
       "      <td>None</td>\n",
       "      <td>None</td>\n",
       "      <td>None</td>\n",
       "      <td>None</td>\n",
       "      <td>None</td>\n",
       "      <td>None</td>\n",
       "      <td>None</td>\n",
       "    </tr>\n",
       "    <tr>\n",
       "      <th>13051</th>\n",
       "      <td>any</td>\n",
       "      <td>chill</td>\n",
       "      <td>funny</td>\n",
       "      <td>ipad</td>\n",
       "      <td>kind</td>\n",
       "      <td>last</td>\n",
       "      <td>launch</td>\n",
       "      <td>line</td>\n",
       "      <td>lines</td>\n",
       "      <td>longer</td>\n",
       "      <td>...</td>\n",
       "      <td>None</td>\n",
       "      <td>None</td>\n",
       "      <td>None</td>\n",
       "      <td>None</td>\n",
       "      <td>None</td>\n",
       "      <td>None</td>\n",
       "      <td>None</td>\n",
       "      <td>None</td>\n",
       "      <td>None</td>\n",
       "      <td>None</td>\n",
       "    </tr>\n",
       "    <tr>\n",
       "      <th>13052</th>\n",
       "      <td>called</td>\n",
       "      <td>circles</td>\n",
       "      <td>google</td>\n",
       "      <td>launch</td>\n",
       "      <td>major</td>\n",
       "      <td>network</td>\n",
       "      <td>new</td>\n",
       "      <td>possibly</td>\n",
       "      <td>social</td>\n",
       "      <td>tipped</td>\n",
       "      <td>...</td>\n",
       "      <td>None</td>\n",
       "      <td>None</td>\n",
       "      <td>None</td>\n",
       "      <td>None</td>\n",
       "      <td>None</td>\n",
       "      <td>None</td>\n",
       "      <td>None</td>\n",
       "      <td>None</td>\n",
       "      <td>None</td>\n",
       "      <td>None</td>\n",
       "    </tr>\n",
       "  </tbody>\n",
       "</table>\n",
       "<p>13053 rows × 36 columns</p>\n",
       "</div>"
      ],
      "text/plain": [
       "              0          1         2         3       4         5       6   \\\n",
       "0            any      check       for    google  headed     month     out   \n",
       "1            any        are       but   circles   doing      else  google   \n",
       "2          apple   audioboo    austin     front    ipad     ipad2   queue   \n",
       "3            app    finally       for  includes  iphone  mashable     new   \n",
       "4           alan        and    called     drink  google    having    lego   \n",
       "...          ...        ...       ...       ...     ...       ...     ...   \n",
       "13048  911tweets     before  belinsky    google    mark       new   panel   \n",
       "13049      apple  attendees    austin       fix     for       get   ipad2   \n",
       "13050     austin      crowd       for      ipad  launch       not     one   \n",
       "13051        any      chill     funny      ipad    kind      last  launch   \n",
       "13052     called    circles    google    launch   major   network     new   \n",
       "\n",
       "              7          8          9   ...    26    27    28    29    30  \\\n",
       "0       presence  retailers       this  ...  None  None  None  None  None   \n",
       "1      launching        not     plenty  ...  None  None  None  None  None   \n",
       "2         sxswsa      texas        the  ...  None  None  None  None  None   \n",
       "3            now  sponsored      store  ...  None  None  None  None  None   \n",
       "4         making      robot  speakeasy  ...  None  None  None  None  None   \n",
       "...          ...        ...        ...  ...   ...   ...   ...   ...   ...   \n",
       "13048      speak        the      think  ...  None  None  None  None  None   \n",
       "13049        pop      queue    setting  ...  None  None  None  None  None   \n",
       "13050      sadly     swarms       them  ...  None  None  None  None  None   \n",
       "13051       line      lines     longer  ...  None  None  None  None  None   \n",
       "13052   possibly     social     tipped  ...  None  None  None  None  None   \n",
       "\n",
       "         31    32    33    34    35  \n",
       "0      None  None  None  None  None  \n",
       "1      None  None  None  None  None  \n",
       "2      None  None  None  None  None  \n",
       "3      None  None  None  None  None  \n",
       "4      None  None  None  None  None  \n",
       "...     ...   ...   ...   ...   ...  \n",
       "13048  None  None  None  None  None  \n",
       "13049  None  None  None  None  None  \n",
       "13050  None  None  None  None  None  \n",
       "13051  None  None  None  None  None  \n",
       "13052  None  None  None  None  None  \n",
       "\n",
       "[13053 rows x 36 columns]"
      ]
     },
     "execution_count": 225,
     "metadata": {},
     "output_type": "execute_result"
    }
   ],
   "source": [
    "X_train_smote_df "
   ]
  },
  {
   "cell_type": "code",
   "execution_count": 210,
   "metadata": {
    "hideCode": false,
    "hidePrompt": false
   },
   "outputs": [
    {
     "name": "stderr",
     "output_type": "stream",
     "text": [
      "c:\\users\\smnge\\anaconda3\\envs\\dlgpu\\lib\\site-packages\\ipykernel_launcher.py:3: DataConversionWarning: A column-vector y was passed when a 1d array was expected. Please change the shape of y to (n_samples,), for example using ravel().\n",
      "  This is separate from the ipykernel package so we can avoid doing imports until\n"
     ]
    },
    {
     "data": {
      "text/plain": [
       "RandomForestClassifier(class_weight='balanced', n_jobs=6, random_state=0)"
      ]
     },
     "execution_count": 210,
     "metadata": {},
     "output_type": "execute_result"
    }
   ],
   "source": [
    "# Instantiate a Random Forest Classifier\n",
    "clf_rf_smote = RandomForestClassifier(n_estimators=100, random_state=0, n_jobs=6, class_weight='balanced')\n",
    "clf_rf_smote.fit(X_train_smote, y_train_smote)"
   ]
  },
  {
   "cell_type": "code",
   "execution_count": 211,
   "metadata": {
    "hideCode": false,
    "hidePrompt": false
   },
   "outputs": [
    {
     "name": "stdout",
     "output_type": "stream",
     "text": [
      "Training Prediction\n",
      "--------------------\n",
      "              precision    recall  f1-score   support\n",
      "\n",
      "    negative       0.99      1.00      0.99      4351\n",
      "     neutral       0.96      0.97      0.97      4351\n",
      "    positive       0.98      0.96      0.97      4351\n",
      "\n",
      "    accuracy                           0.98     13053\n",
      "   macro avg       0.98      0.98      0.98     13053\n",
      "weighted avg       0.98      0.98      0.98     13053\n",
      "\n",
      "Test Prediction\n",
      "--------------------\n",
      "              precision    recall  f1-score   support\n",
      "\n",
      "    negative       0.62      0.31      0.42        51\n",
      "     neutral       0.71      0.86      0.78       484\n",
      "    positive       0.65      0.45      0.54       267\n",
      "\n",
      "    accuracy                           0.69       802\n",
      "   macro avg       0.66      0.54      0.58       802\n",
      "weighted avg       0.68      0.69      0.67       802\n",
      "\n"
     ]
    }
   ],
   "source": [
    "_, _ = get_prediction(clf_rf_smote, X_train_smote, X_val_vec, y_train_smote, y_val)"
   ]
  },
  {
   "cell_type": "markdown",
   "metadata": {
    "hideCode": false,
    "hidePrompt": false
   },
   "source": [
    "### BERT"
   ]
  },
  {
   "cell_type": "code",
   "execution_count": 186,
   "metadata": {
    "hideCode": false,
    "hidePrompt": false
   },
   "outputs": [
    {
     "name": "stdout",
     "output_type": "stream",
     "text": [
      "0    have iphone after hrs tweeting rise austin was...\n",
      "1    know about awesome ipad iphone app that you wi...\n",
      "2    can not wait for ipad also they should sale th...\n",
      "Name: clean_tweets1, dtype: object    negative  neutral  positive\n",
      "0         1        0         0\n",
      "1         0        0         1\n",
      "2         0        0         1\n"
     ]
    }
   ],
   "source": [
    "X = df['clean_tweets1']\n",
    "y_ohe = pd.get_dummies(df['emotion'])\n",
    "print(X.iloc[:3], y_ohe.iloc[:3])"
   ]
  },
  {
   "cell_type": "code",
   "execution_count": null,
   "metadata": {
    "hideCode": false,
    "hidePrompt": false
   },
   "outputs": [],
   "source": []
  },
  {
   "cell_type": "code",
   "execution_count": 187,
   "metadata": {
    "hideCode": false,
    "hidePrompt": false
   },
   "outputs": [
    {
     "data": {
      "text/plain": [
       "((7747,), (1368,), (1013,), (7747, 3), (1368, 3), (1013, 3))"
      ]
     },
     "execution_count": 187,
     "metadata": {},
     "output_type": "execute_result"
    }
   ],
   "source": [
    "X_train, X_test, y_train, y_test = train_test_split(X, y_ohe, test_size=0.10, stratify=y_ohe,\n",
    "                                                    random_state=42)\n",
    "X_train, X_val, y_train, y_val = train_test_split(X_train, y_train, test_size=0.15, stratify=y_train,\n",
    "                                                  random_state=42)\n",
    "X_train.shape, X_val.shape, X_test.shape, y_train.shape, y_val.shape, y_test.shape"
   ]
  },
  {
   "cell_type": "code",
   "execution_count": null,
   "metadata": {
    "hideCode": false,
    "hidePrompt": false
   },
   "outputs": [],
   "source": []
  },
  {
   "cell_type": "code",
   "execution_count": 180,
   "metadata": {
    "hideCode": false,
    "hidePrompt": false
   },
   "outputs": [],
   "source": [
    "from transformers import BertTokenizer, TFBertForSequenceClassification\n",
    "from transformers import InputExample, InputFeatures"
   ]
  },
  {
   "cell_type": "code",
   "execution_count": 181,
   "metadata": {
    "hideCode": false,
    "hidePrompt": false
   },
   "outputs": [
    {
     "data": {
      "application/vnd.jupyter.widget-view+json": {
       "model_id": "d1d57bb35f15498b9612306ba5e955cb",
       "version_major": 2,
       "version_minor": 0
      },
      "text/plain": [
       "HBox(children=(HTML(value='Downloading'), FloatProgress(value=0.0, max=570.0), HTML(value='')))"
      ]
     },
     "metadata": {},
     "output_type": "display_data"
    },
    {
     "name": "stdout",
     "output_type": "stream",
     "text": [
      "\n"
     ]
    },
    {
     "data": {
      "application/vnd.jupyter.widget-view+json": {
       "model_id": "dbd206739d17447a958ee26c8338abd1",
       "version_major": 2,
       "version_minor": 0
      },
      "text/plain": [
       "HBox(children=(HTML(value='Downloading'), FloatProgress(value=0.0, max=536063208.0), HTML(value='')))"
      ]
     },
     "metadata": {},
     "output_type": "display_data"
    },
    {
     "name": "stdout",
     "output_type": "stream",
     "text": [
      "\n"
     ]
    },
    {
     "name": "stderr",
     "output_type": "stream",
     "text": [
      "All model checkpoint layers were used when initializing TFBertForSequenceClassification.\n",
      "\n",
      "Some layers of TFBertForSequenceClassification were not initialized from the model checkpoint at bert-base-uncased and are newly initialized: ['classifier']\n",
      "You should probably TRAIN this model on a down-stream task to be able to use it for predictions and inference.\n"
     ]
    },
    {
     "data": {
      "application/vnd.jupyter.widget-view+json": {
       "model_id": "46bec7bc315141538280e067fc4aa544",
       "version_major": 2,
       "version_minor": 0
      },
      "text/plain": [
       "HBox(children=(HTML(value='Downloading'), FloatProgress(value=0.0, max=231508.0), HTML(value='')))"
      ]
     },
     "metadata": {},
     "output_type": "display_data"
    },
    {
     "name": "stdout",
     "output_type": "stream",
     "text": [
      "\n"
     ]
    },
    {
     "data": {
      "application/vnd.jupyter.widget-view+json": {
       "model_id": "860ec3f1030c4c3ebcb5ffeccfbe1911",
       "version_major": 2,
       "version_minor": 0
      },
      "text/plain": [
       "HBox(children=(HTML(value='Downloading'), FloatProgress(value=0.0, max=28.0), HTML(value='')))"
      ]
     },
     "metadata": {},
     "output_type": "display_data"
    },
    {
     "name": "stdout",
     "output_type": "stream",
     "text": [
      "\n"
     ]
    },
    {
     "data": {
      "application/vnd.jupyter.widget-view+json": {
       "model_id": "e93d8c7f51e248c2b2c595c827954335",
       "version_major": 2,
       "version_minor": 0
      },
      "text/plain": [
       "HBox(children=(HTML(value='Downloading'), FloatProgress(value=0.0, max=466062.0), HTML(value='')))"
      ]
     },
     "metadata": {},
     "output_type": "display_data"
    },
    {
     "name": "stdout",
     "output_type": "stream",
     "text": [
      "\n"
     ]
    }
   ],
   "source": [
    "model_bert = TFBertForSequenceClassification.from_pretrained(\"bert-base-uncased\")\n",
    "bert_tokenizer = BertTokenizer.from_pretrained(\"bert-base-uncased\")"
   ]
  },
  {
   "cell_type": "code",
   "execution_count": 183,
   "metadata": {
    "hideCode": false,
    "hidePrompt": false
   },
   "outputs": [
    {
     "name": "stdout",
     "output_type": "stream",
     "text": [
      "Model: \"tf_bert_for_sequence_classification\"\n",
      "_________________________________________________________________\n",
      "Layer (type)                 Output Shape              Param #   \n",
      "=================================================================\n",
      "bert (TFBertMainLayer)       multiple                  109482240 \n",
      "_________________________________________________________________\n",
      "dropout_43 (Dropout)         multiple                  0         \n",
      "_________________________________________________________________\n",
      "classifier (Dense)           multiple                  1538      \n",
      "=================================================================\n",
      "Total params: 109,483,778\n",
      "Trainable params: 109,483,778\n",
      "Non-trainable params: 0\n",
      "_________________________________________________________________\n"
     ]
    }
   ],
   "source": [
    "model_bert.summary()"
   ]
  },
  {
   "cell_type": "code",
   "execution_count": 195,
   "metadata": {
    "hideCode": false,
    "hidePrompt": false
   },
   "outputs": [
    {
     "ename": "AssertionError",
     "evalue": "text input must of type `str` (single example), `List[str]` (batch or single pretokenized example) or `List[List[str]]` (batch of pretokenized examples).",
     "output_type": "error",
     "traceback": [
      "\u001b[1;31m---------------------------------------------------------------------------\u001b[0m",
      "\u001b[1;31mAssertionError\u001b[0m                            Traceback (most recent call last)",
      "\u001b[1;32m<ipython-input-195-ce12c9606c2e>\u001b[0m in \u001b[0;36m<module>\u001b[1;34m\u001b[0m\n\u001b[1;32m----> 1\u001b[1;33m \u001b[0mX_train_bert_token\u001b[0m \u001b[1;33m=\u001b[0m \u001b[0mbert_tokenizer\u001b[0m\u001b[1;33m(\u001b[0m\u001b[0mX_train\u001b[0m\u001b[1;33m.\u001b[0m\u001b[0mvalues\u001b[0m\u001b[1;33m,\u001b[0m \u001b[0mmaxlen\u001b[0m\u001b[1;33m=\u001b[0m\u001b[0mmaxlen\u001b[0m\u001b[1;33m)\u001b[0m\u001b[1;33m\u001b[0m\u001b[1;33m\u001b[0m\u001b[0m\n\u001b[0m",
      "\u001b[1;32mc:\\users\\smnge\\anaconda3\\envs\\dlgpu\\lib\\site-packages\\transformers\\tokenization_utils_base.py\u001b[0m in \u001b[0;36m__call__\u001b[1;34m(self, text, text_pair, add_special_tokens, padding, truncation, max_length, stride, is_split_into_words, pad_to_multiple_of, return_tensors, return_token_type_ids, return_attention_mask, return_overflowing_tokens, return_special_tokens_mask, return_offsets_mapping, return_length, verbose, **kwargs)\u001b[0m\n\u001b[0;32m   2218\u001b[0m             )\n\u001b[0;32m   2219\u001b[0m         \u001b[1;33m)\u001b[0m\u001b[1;33m,\u001b[0m \u001b[1;33m(\u001b[0m\u001b[1;33m\u001b[0m\u001b[1;33m\u001b[0m\u001b[0m\n\u001b[1;32m-> 2220\u001b[1;33m             \u001b[1;34m\"text input must of type `str` (single example), `List[str]` (batch or single pretokenized example) \"\u001b[0m\u001b[1;33m\u001b[0m\u001b[1;33m\u001b[0m\u001b[0m\n\u001b[0m\u001b[0;32m   2221\u001b[0m             \u001b[1;34m\"or `List[List[str]]` (batch of pretokenized examples).\"\u001b[0m\u001b[1;33m\u001b[0m\u001b[1;33m\u001b[0m\u001b[0m\n\u001b[0;32m   2222\u001b[0m         )\n",
      "\u001b[1;31mAssertionError\u001b[0m: text input must of type `str` (single example), `List[str]` (batch or single pretokenized example) or `List[List[str]]` (batch of pretokenized examples)."
     ]
    }
   ],
   "source": [
    "X_train_bert_token = bert_tokenizer(X_train.values, maxlen=maxlen)"
   ]
  },
  {
   "cell_type": "code",
   "execution_count": 191,
   "metadata": {
    "hideCode": false,
    "hidePrompt": false
   },
   "outputs": [
    {
     "data": {
      "text/plain": [
       "8607    bettercloud computing insight google will bene...\n",
       "2048     apple schools the marketing experts apple jobsco\n",
       "824     google launch social network google circles so...\n",
       "7055    just looks stupid take pix with ipad believe guys\n",
       "6340    need late night snack discovered some filling ...\n",
       "Name: clean_tweets1, dtype: object"
      ]
     },
     "execution_count": 191,
     "metadata": {},
     "output_type": "execute_result"
    }
   ],
   "source": [
    "X_train.head()"
   ]
  },
  {
   "cell_type": "code",
   "execution_count": null,
   "metadata": {
    "hideCode": false,
    "hidePrompt": false
   },
   "outputs": [],
   "source": []
  }
 ],
 "metadata": {
  "hide_code_all_hidden": false,
  "kernelspec": {
   "display_name": "Python 3",
   "language": "python",
   "name": "python3"
  },
  "language_info": {
   "codemirror_mode": {
    "name": "ipython",
    "version": 3
   },
   "file_extension": ".py",
   "mimetype": "text/x-python",
   "name": "python",
   "nbconvert_exporter": "python",
   "pygments_lexer": "ipython3",
   "version": "3.7.9"
  }
 },
 "nbformat": 4,
 "nbformat_minor": 4
}
